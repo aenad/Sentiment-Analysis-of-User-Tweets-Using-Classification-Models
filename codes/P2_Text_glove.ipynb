{
 "cells": [
  {
   "cell_type": "code",
   "execution_count": null,
   "id": "f6c67ce5",
   "metadata": {
    "colab": {
     "base_uri": "https://localhost:8080/",
     "height": 36
    },
    "id": "f6c67ce5",
    "outputId": "123897fe-3a4d-41a8-d9f3-85b4e493e424"
   },
   "outputs": [
    {
     "data": {
      "application/vnd.google.colaboratory.intrinsic+json": {
       "type": "string"
      },
      "text/plain": [
       "'/content'"
      ]
     },
     "execution_count": 1,
     "metadata": {},
     "output_type": "execute_result"
    }
   ],
   "source": [
    "pwd"
   ]
  },
  {
   "cell_type": "markdown",
   "id": "0e153c35",
   "metadata": {
    "id": "0e153c35"
   },
   "source": [
    "# Imports Libraries"
   ]
  },
  {
   "cell_type": "code",
   "execution_count": 230,
   "id": "8f6e2fd0",
   "metadata": {
    "id": "8f6e2fd0"
   },
   "outputs": [
    {
     "name": "stderr",
     "output_type": "stream",
     "text": [
      "[nltk_data] Downloading package punkt to\n",
      "[nltk_data]     C:\\Users\\Atefe\\AppData\\Roaming\\nltk_data...\n",
      "[nltk_data]   Package punkt is already up-to-date!\n",
      "[nltk_data] Downloading package stopwords to\n",
      "[nltk_data]     C:\\Users\\Atefe\\AppData\\Roaming\\nltk_data...\n",
      "[nltk_data]   Package stopwords is already up-to-date!\n"
     ]
    }
   ],
   "source": [
    "import pandas as pd\n",
    "import numpy as np\n",
    "import re\n",
    "import seaborn as sns\n",
    "from nltk.tokenize import TweetTokenizer\n",
    "from nltk.stem import PorterStemmer\n",
    "from nltk.tokenize import sent_tokenize, word_tokenize\n",
    "from collections import Counter\n",
    "import nltk\n",
    "from nltk.tokenize import word_tokenize\n",
    "from wordcloud import WordCloud\n",
    "from sklearn.model_selection import train_test_split\n",
    "from gensim.models import Word2Vec\n",
    "import tensorflow as tf\n",
    "from tensorflow.keras.preprocessing.text import Tokenizer\n",
    "from tensorflow.keras.preprocessing.sequence import pad_sequences\n",
    "import matplotlib.pyplot as plt\n",
    "from sklearn.ensemble import AdaBoostClassifier\n",
    "from sklearn.linear_model import LogisticRegression\n",
    "from sklearn.model_selection import train_test_split\n",
    "from sklearn.svm import SVC\n",
    "from sklearn.naive_bayes import MultinomialNB\n",
    "from sklearn.metrics import accuracy_score, classification_report\n",
    "from nltk.tokenize import RegexpTokenizer\n",
    "from nltk.stem.porter import PorterStemmer\n",
    "from nltk.stem import WordNetLemmatizer\n",
    "from tqdm import tqdm\n",
    "nltk.download('punkt')\n",
    "# nltk\n",
    "import nltk\n",
    "from nltk.corpus import stopwords\n",
    "from  nltk.stem import SnowballStemmer\n",
    "nltk.download('stopwords')\n",
    "from sklearn.utils.class_weight import compute_class_weight\n",
    "from sklearn.ensemble import RandomForestClassifier\n",
    "from sklearn.metrics import precision_score, recall_score, f1_score, confusion_matrix\n",
    "from sklearn.tree import DecisionTreeClassifier"
   ]
  },
  {
   "cell_type": "code",
   "execution_count": 2,
   "id": "0d219090",
   "metadata": {
    "id": "0d219090"
   },
   "outputs": [],
   "source": [
    "from tensorflow.keras import Sequential\n",
    "from tensorflow.keras.layers import Bidirectional, GlobalMaxPool1D, Dense, LSTM, Conv1D, Embedding"
   ]
  },
  {
   "cell_type": "code",
   "execution_count": 3,
   "id": "a04fcb01",
   "metadata": {
    "id": "a04fcb01"
   },
   "outputs": [],
   "source": [
    "# pip install wordcloud"
   ]
  },
  {
   "cell_type": "markdown",
   "id": "9a14d4c1",
   "metadata": {
    "id": "9a14d4c1"
   },
   "source": [
    "# Import the Data"
   ]
  },
  {
   "cell_type": "code",
   "execution_count": 175,
   "id": "24b51316",
   "metadata": {
    "id": "24b51316"
   },
   "outputs": [],
   "source": [
    "training = pd.read_csv('twitter_training.csv', encoding='iso-8859-1')\n",
    "validation = pd.read_csv('twitter_validation.csv', encoding='iso-8859-1')\n",
    "test = pd.read_csv('twitter_test.csv', encoding='iso-8859-1')"
   ]
  },
  {
   "cell_type": "code",
   "execution_count": 176,
   "id": "57d108cc",
   "metadata": {
    "colab": {
     "base_uri": "https://localhost:8080/"
    },
    "id": "57d108cc",
    "outputId": "b18beded-aaed-4696-c858-ffc2cd614349",
    "scrolled": true
   },
   "outputs": [
    {
     "name": "stdout",
     "output_type": "stream",
     "text": [
      "<class 'pandas.core.frame.DataFrame'>\n",
      "RangeIndex: 74682 entries, 0 to 74681\n",
      "Data columns (total 4 columns):\n",
      " #   Column         Non-Null Count  Dtype \n",
      "---  ------         --------------  ----- \n",
      " 0   Tweet ID       74682 non-null  int64 \n",
      " 1   entity         74682 non-null  object\n",
      " 2   sentiment      74682 non-null  object\n",
      " 3   Tweet content  73996 non-null  object\n",
      "dtypes: int64(1), object(3)\n",
      "memory usage: 2.3+ MB\n"
     ]
    }
   ],
   "source": [
    "training.info()"
   ]
  },
  {
   "cell_type": "code",
   "execution_count": 177,
   "id": "908e0bec",
   "metadata": {
    "id": "908e0bec"
   },
   "outputs": [],
   "source": [
    "train_content_values=training['Tweet content'].values"
   ]
  },
  {
   "cell_type": "code",
   "execution_count": 178,
   "id": "e2cbda23",
   "metadata": {
    "colab": {
     "base_uri": "https://localhost:8080/",
     "height": 206
    },
    "id": "e2cbda23",
    "outputId": "9ae542cc-45e8-47e7-8030-d5e9c1202ff2"
   },
   "outputs": [
    {
     "data": {
      "text/html": [
       "<div>\n",
       "<style scoped>\n",
       "    .dataframe tbody tr th:only-of-type {\n",
       "        vertical-align: middle;\n",
       "    }\n",
       "\n",
       "    .dataframe tbody tr th {\n",
       "        vertical-align: top;\n",
       "    }\n",
       "\n",
       "    .dataframe thead th {\n",
       "        text-align: right;\n",
       "    }\n",
       "</style>\n",
       "<table border=\"1\" class=\"dataframe\">\n",
       "  <thead>\n",
       "    <tr style=\"text-align: right;\">\n",
       "      <th></th>\n",
       "      <th>Tweet ID</th>\n",
       "      <th>entity</th>\n",
       "      <th>sentiment</th>\n",
       "      <th>Tweet content</th>\n",
       "    </tr>\n",
       "  </thead>\n",
       "  <tbody>\n",
       "    <tr>\n",
       "      <th>0</th>\n",
       "      <td>2401</td>\n",
       "      <td>Borderlands</td>\n",
       "      <td>Positive</td>\n",
       "      <td>im getting on borderlands and i will murder yo...</td>\n",
       "    </tr>\n",
       "    <tr>\n",
       "      <th>1</th>\n",
       "      <td>2401</td>\n",
       "      <td>Borderlands</td>\n",
       "      <td>Positive</td>\n",
       "      <td>I am coming to the borders and I will kill you...</td>\n",
       "    </tr>\n",
       "    <tr>\n",
       "      <th>2</th>\n",
       "      <td>2401</td>\n",
       "      <td>Borderlands</td>\n",
       "      <td>Positive</td>\n",
       "      <td>im getting on borderlands and i will kill you ...</td>\n",
       "    </tr>\n",
       "    <tr>\n",
       "      <th>3</th>\n",
       "      <td>2401</td>\n",
       "      <td>Borderlands</td>\n",
       "      <td>Positive</td>\n",
       "      <td>im coming on borderlands and i will murder you...</td>\n",
       "    </tr>\n",
       "    <tr>\n",
       "      <th>4</th>\n",
       "      <td>2401</td>\n",
       "      <td>Borderlands</td>\n",
       "      <td>Positive</td>\n",
       "      <td>im getting on borderlands 2 and i will murder ...</td>\n",
       "    </tr>\n",
       "  </tbody>\n",
       "</table>\n",
       "</div>"
      ],
      "text/plain": [
       "   Tweet ID       entity sentiment  \\\n",
       "0      2401  Borderlands  Positive   \n",
       "1      2401  Borderlands  Positive   \n",
       "2      2401  Borderlands  Positive   \n",
       "3      2401  Borderlands  Positive   \n",
       "4      2401  Borderlands  Positive   \n",
       "\n",
       "                                       Tweet content  \n",
       "0  im getting on borderlands and i will murder yo...  \n",
       "1  I am coming to the borders and I will kill you...  \n",
       "2  im getting on borderlands and i will kill you ...  \n",
       "3  im coming on borderlands and i will murder you...  \n",
       "4  im getting on borderlands 2 and i will murder ...  "
      ]
     },
     "execution_count": 178,
     "metadata": {},
     "output_type": "execute_result"
    }
   ],
   "source": [
    "training.head()"
   ]
  },
  {
   "cell_type": "code",
   "execution_count": 179,
   "id": "230dadd8",
   "metadata": {
    "id": "230dadd8"
   },
   "outputs": [],
   "source": [
    "# Removing the unnecessary columns.\n",
    "training = training[['Tweet ID','sentiment','Tweet content']]\n",
    "validation = validation[['Tweet ID','sentiment','Tweet content']]\n",
    "test = test[['Tweet ID','sentiment','Tweet content']]"
   ]
  },
  {
   "cell_type": "code",
   "execution_count": 75,
   "id": "ccd99f37",
   "metadata": {
    "colab": {
     "base_uri": "https://localhost:8080/",
     "height": 423
    },
    "id": "ccd99f37",
    "outputId": "12266270-db6a-473e-db79-70831dbd2b55"
   },
   "outputs": [
    {
     "data": {
      "text/html": [
       "<div>\n",
       "<style scoped>\n",
       "    .dataframe tbody tr th:only-of-type {\n",
       "        vertical-align: middle;\n",
       "    }\n",
       "\n",
       "    .dataframe tbody tr th {\n",
       "        vertical-align: top;\n",
       "    }\n",
       "\n",
       "    .dataframe thead th {\n",
       "        text-align: right;\n",
       "    }\n",
       "</style>\n",
       "<table border=\"1\" class=\"dataframe\">\n",
       "  <thead>\n",
       "    <tr style=\"text-align: right;\">\n",
       "      <th></th>\n",
       "      <th>Tweet ID</th>\n",
       "      <th>sentiment</th>\n",
       "      <th>Tweet content</th>\n",
       "    </tr>\n",
       "  </thead>\n",
       "  <tbody>\n",
       "    <tr>\n",
       "      <th>0</th>\n",
       "      <td>2401</td>\n",
       "      <td>Positive</td>\n",
       "      <td>im getting on borderlands and i will murder yo...</td>\n",
       "    </tr>\n",
       "    <tr>\n",
       "      <th>1</th>\n",
       "      <td>2401</td>\n",
       "      <td>Positive</td>\n",
       "      <td>I am coming to the borders and I will kill you...</td>\n",
       "    </tr>\n",
       "    <tr>\n",
       "      <th>2</th>\n",
       "      <td>2401</td>\n",
       "      <td>Positive</td>\n",
       "      <td>im getting on borderlands and i will kill you ...</td>\n",
       "    </tr>\n",
       "    <tr>\n",
       "      <th>3</th>\n",
       "      <td>2401</td>\n",
       "      <td>Positive</td>\n",
       "      <td>im coming on borderlands and i will murder you...</td>\n",
       "    </tr>\n",
       "    <tr>\n",
       "      <th>4</th>\n",
       "      <td>2401</td>\n",
       "      <td>Positive</td>\n",
       "      <td>im getting on borderlands 2 and i will murder ...</td>\n",
       "    </tr>\n",
       "    <tr>\n",
       "      <th>...</th>\n",
       "      <td>...</td>\n",
       "      <td>...</td>\n",
       "      <td>...</td>\n",
       "    </tr>\n",
       "    <tr>\n",
       "      <th>74677</th>\n",
       "      <td>9200</td>\n",
       "      <td>Positive</td>\n",
       "      <td>Just realized that the Windows partition of my...</td>\n",
       "    </tr>\n",
       "    <tr>\n",
       "      <th>74678</th>\n",
       "      <td>9200</td>\n",
       "      <td>Positive</td>\n",
       "      <td>Just realized that my Mac window partition is ...</td>\n",
       "    </tr>\n",
       "    <tr>\n",
       "      <th>74679</th>\n",
       "      <td>9200</td>\n",
       "      <td>Positive</td>\n",
       "      <td>Just realized the windows partition of my Mac ...</td>\n",
       "    </tr>\n",
       "    <tr>\n",
       "      <th>74680</th>\n",
       "      <td>9200</td>\n",
       "      <td>Positive</td>\n",
       "      <td>Just realized between the windows partition of...</td>\n",
       "    </tr>\n",
       "    <tr>\n",
       "      <th>74681</th>\n",
       "      <td>9200</td>\n",
       "      <td>Positive</td>\n",
       "      <td>Just like the windows partition of my Mac is l...</td>\n",
       "    </tr>\n",
       "  </tbody>\n",
       "</table>\n",
       "<p>74682 rows × 3 columns</p>\n",
       "</div>"
      ],
      "text/plain": [
       "       Tweet ID sentiment                                      Tweet content\n",
       "0          2401  Positive  im getting on borderlands and i will murder yo...\n",
       "1          2401  Positive  I am coming to the borders and I will kill you...\n",
       "2          2401  Positive  im getting on borderlands and i will kill you ...\n",
       "3          2401  Positive  im coming on borderlands and i will murder you...\n",
       "4          2401  Positive  im getting on borderlands 2 and i will murder ...\n",
       "...         ...       ...                                                ...\n",
       "74677      9200  Positive  Just realized that the Windows partition of my...\n",
       "74678      9200  Positive  Just realized that my Mac window partition is ...\n",
       "74679      9200  Positive  Just realized the windows partition of my Mac ...\n",
       "74680      9200  Positive  Just realized between the windows partition of...\n",
       "74681      9200  Positive  Just like the windows partition of my Mac is l...\n",
       "\n",
       "[74682 rows x 3 columns]"
      ]
     },
     "execution_count": 75,
     "metadata": {},
     "output_type": "execute_result"
    }
   ],
   "source": [
    "training"
   ]
  },
  {
   "cell_type": "code",
   "execution_count": 180,
   "id": "63d7c065",
   "metadata": {
    "colab": {
     "base_uri": "https://localhost:8080/",
     "height": 423
    },
    "id": "63d7c065",
    "outputId": "7e6014bf-f1ad-4f0e-9e74-9ce027611394"
   },
   "outputs": [
    {
     "data": {
      "text/html": [
       "<div>\n",
       "<style scoped>\n",
       "    .dataframe tbody tr th:only-of-type {\n",
       "        vertical-align: middle;\n",
       "    }\n",
       "\n",
       "    .dataframe tbody tr th {\n",
       "        vertical-align: top;\n",
       "    }\n",
       "\n",
       "    .dataframe thead th {\n",
       "        text-align: right;\n",
       "    }\n",
       "</style>\n",
       "<table border=\"1\" class=\"dataframe\">\n",
       "  <thead>\n",
       "    <tr style=\"text-align: right;\">\n",
       "      <th></th>\n",
       "      <th>Tweet ID</th>\n",
       "      <th>sentiment</th>\n",
       "      <th>Tweet content</th>\n",
       "    </tr>\n",
       "  </thead>\n",
       "  <tbody>\n",
       "    <tr>\n",
       "      <th>0</th>\n",
       "      <td>5328</td>\n",
       "      <td>Negative</td>\n",
       "      <td>@BlizzardCS whatâs going on with Hearthstone...</td>\n",
       "    </tr>\n",
       "    <tr>\n",
       "      <th>1</th>\n",
       "      <td>7618</td>\n",
       "      <td>Negative</td>\n",
       "      <td>@EAMaddenNFL is there a reason OFFLINE franchi...</td>\n",
       "    </tr>\n",
       "    <tr>\n",
       "      <th>2</th>\n",
       "      <td>7108</td>\n",
       "      <td>Negative</td>\n",
       "      <td>Johnson &amp; Johnson is about to enter phase 3 tr...</td>\n",
       "    </tr>\n",
       "    <tr>\n",
       "      <th>3</th>\n",
       "      <td>10008</td>\n",
       "      <td>Negative</td>\n",
       "      <td>How is banning #PUBG going to fix anything? Al...</td>\n",
       "    </tr>\n",
       "    <tr>\n",
       "      <th>4</th>\n",
       "      <td>49</td>\n",
       "      <td>Neutral</td>\n",
       "      <td>I played this interesting quiz on Amazon - Try...</td>\n",
       "    </tr>\n",
       "    <tr>\n",
       "      <th>...</th>\n",
       "      <td>...</td>\n",
       "      <td>...</td>\n",
       "      <td>...</td>\n",
       "    </tr>\n",
       "    <tr>\n",
       "      <th>495</th>\n",
       "      <td>4891</td>\n",
       "      <td>Irrelevant</td>\n",
       "      <td>â­ï¸ Toronto is the arts and culture capital...</td>\n",
       "    </tr>\n",
       "    <tr>\n",
       "      <th>496</th>\n",
       "      <td>4359</td>\n",
       "      <td>Irrelevant</td>\n",
       "      <td>tHIS IS ACTUALLY A GOOD MOVE TOT BRING MORE VI...</td>\n",
       "    </tr>\n",
       "    <tr>\n",
       "      <th>497</th>\n",
       "      <td>2652</td>\n",
       "      <td>Positive</td>\n",
       "      <td>Today sucked so itâs time to drink wine n pl...</td>\n",
       "    </tr>\n",
       "    <tr>\n",
       "      <th>498</th>\n",
       "      <td>8069</td>\n",
       "      <td>Positive</td>\n",
       "      <td>Bought a fraction of Microsoft today. Small wins.</td>\n",
       "    </tr>\n",
       "    <tr>\n",
       "      <th>499</th>\n",
       "      <td>6960</td>\n",
       "      <td>Neutral</td>\n",
       "      <td>Johnson &amp; Johnson to stop selling talc baby po...</td>\n",
       "    </tr>\n",
       "  </tbody>\n",
       "</table>\n",
       "<p>500 rows × 3 columns</p>\n",
       "</div>"
      ],
      "text/plain": [
       "     Tweet ID   sentiment                                      Tweet content\n",
       "0        5328    Negative  @BlizzardCS whatâs going on with Hearthstone...\n",
       "1        7618    Negative  @EAMaddenNFL is there a reason OFFLINE franchi...\n",
       "2        7108    Negative  Johnson & Johnson is about to enter phase 3 tr...\n",
       "3       10008    Negative  How is banning #PUBG going to fix anything? Al...\n",
       "4          49     Neutral  I played this interesting quiz on Amazon - Try...\n",
       "..        ...         ...                                                ...\n",
       "495      4891  Irrelevant  â­ï¸ Toronto is the arts and culture capital...\n",
       "496      4359  Irrelevant  tHIS IS ACTUALLY A GOOD MOVE TOT BRING MORE VI...\n",
       "497      2652    Positive  Today sucked so itâs time to drink wine n pl...\n",
       "498      8069    Positive  Bought a fraction of Microsoft today. Small wins.\n",
       "499      6960     Neutral  Johnson & Johnson to stop selling talc baby po...\n",
       "\n",
       "[500 rows x 3 columns]"
      ]
     },
     "execution_count": 180,
     "metadata": {},
     "output_type": "execute_result"
    }
   ],
   "source": [
    "validation"
   ]
  },
  {
   "cell_type": "code",
   "execution_count": 181,
   "id": "a2db249e",
   "metadata": {
    "colab": {
     "base_uri": "https://localhost:8080/",
     "height": 423
    },
    "id": "a2db249e",
    "outputId": "2d732115-2398-4d50-b312-4f1f29dd4b9e",
    "scrolled": true
   },
   "outputs": [
    {
     "data": {
      "text/html": [
       "<div>\n",
       "<style scoped>\n",
       "    .dataframe tbody tr th:only-of-type {\n",
       "        vertical-align: middle;\n",
       "    }\n",
       "\n",
       "    .dataframe tbody tr th {\n",
       "        vertical-align: top;\n",
       "    }\n",
       "\n",
       "    .dataframe thead th {\n",
       "        text-align: right;\n",
       "    }\n",
       "</style>\n",
       "<table border=\"1\" class=\"dataframe\">\n",
       "  <thead>\n",
       "    <tr style=\"text-align: right;\">\n",
       "      <th></th>\n",
       "      <th>Tweet ID</th>\n",
       "      <th>sentiment</th>\n",
       "      <th>Tweet content</th>\n",
       "    </tr>\n",
       "  </thead>\n",
       "  <tbody>\n",
       "    <tr>\n",
       "      <th>0</th>\n",
       "      <td>3364</td>\n",
       "      <td>Irrelevant</td>\n",
       "      <td>I mentioned on Facebook that I was struggling ...</td>\n",
       "    </tr>\n",
       "    <tr>\n",
       "      <th>1</th>\n",
       "      <td>352</td>\n",
       "      <td>Neutral</td>\n",
       "      <td>BBC News - Amazon boss Jeff Bezos rejects clai...</td>\n",
       "    </tr>\n",
       "    <tr>\n",
       "      <th>2</th>\n",
       "      <td>8312</td>\n",
       "      <td>Negative</td>\n",
       "      <td>@Microsoft Why do I pay for WORD when it funct...</td>\n",
       "    </tr>\n",
       "    <tr>\n",
       "      <th>3</th>\n",
       "      <td>4371</td>\n",
       "      <td>Negative</td>\n",
       "      <td>CSGO matchmaking is so full of closet hacking,...</td>\n",
       "    </tr>\n",
       "    <tr>\n",
       "      <th>4</th>\n",
       "      <td>4433</td>\n",
       "      <td>Neutral</td>\n",
       "      <td>Now the President is slapping Americans in the...</td>\n",
       "    </tr>\n",
       "    <tr>\n",
       "      <th>...</th>\n",
       "      <td>...</td>\n",
       "      <td>...</td>\n",
       "      <td>...</td>\n",
       "    </tr>\n",
       "    <tr>\n",
       "      <th>495</th>\n",
       "      <td>8055</td>\n",
       "      <td>Positive</td>\n",
       "      <td>special shoutouts to microsoft excel 2013</td>\n",
       "    </tr>\n",
       "    <tr>\n",
       "      <th>496</th>\n",
       "      <td>6787</td>\n",
       "      <td>Irrelevant</td>\n",
       "      <td>Dumb Luckyâï¸   (Fortnite Montage) youtu.be...</td>\n",
       "    </tr>\n",
       "    <tr>\n",
       "      <th>497</th>\n",
       "      <td>3838</td>\n",
       "      <td>Positive</td>\n",
       "      <td>Dang there goes my birthday present but maybe ...</td>\n",
       "    </tr>\n",
       "    <tr>\n",
       "      <th>498</th>\n",
       "      <td>2008</td>\n",
       "      <td>Irrelevant</td>\n",
       "      <td>It was ab fab seeing the 6 bungalows built in ...</td>\n",
       "    </tr>\n",
       "    <tr>\n",
       "      <th>499</th>\n",
       "      <td>4096</td>\n",
       "      <td>Neutral</td>\n",
       "      <td>1.7 million viewers? wtf? and cs:go has more t...</td>\n",
       "    </tr>\n",
       "  </tbody>\n",
       "</table>\n",
       "<p>500 rows × 3 columns</p>\n",
       "</div>"
      ],
      "text/plain": [
       "     Tweet ID   sentiment                                      Tweet content\n",
       "0        3364  Irrelevant  I mentioned on Facebook that I was struggling ...\n",
       "1         352     Neutral  BBC News - Amazon boss Jeff Bezos rejects clai...\n",
       "2        8312    Negative  @Microsoft Why do I pay for WORD when it funct...\n",
       "3        4371    Negative  CSGO matchmaking is so full of closet hacking,...\n",
       "4        4433     Neutral  Now the President is slapping Americans in the...\n",
       "..        ...         ...                                                ...\n",
       "495      8055    Positive          special shoutouts to microsoft excel 2013\n",
       "496      6787  Irrelevant  Dumb Luckyâï¸   (Fortnite Montage) youtu.be...\n",
       "497      3838    Positive  Dang there goes my birthday present but maybe ...\n",
       "498      2008  Irrelevant  It was ab fab seeing the 6 bungalows built in ...\n",
       "499      4096     Neutral  1.7 million viewers? wtf? and cs:go has more t...\n",
       "\n",
       "[500 rows x 3 columns]"
      ]
     },
     "execution_count": 181,
     "metadata": {},
     "output_type": "execute_result"
    }
   ],
   "source": [
    "test"
   ]
  },
  {
   "cell_type": "code",
   "execution_count": 182,
   "id": "13bdf9f5",
   "metadata": {
    "colab": {
     "base_uri": "https://localhost:8080/"
    },
    "id": "13bdf9f5",
    "outputId": "570cbb2c-1fbe-415b-8472-f4d2232220cd"
   },
   "outputs": [
    {
     "data": {
      "text/plain": [
       "(74682, 3)"
      ]
     },
     "execution_count": 182,
     "metadata": {},
     "output_type": "execute_result"
    }
   ],
   "source": [
    "training.shape"
   ]
  },
  {
   "cell_type": "code",
   "execution_count": 183,
   "id": "eec9000b",
   "metadata": {
    "colab": {
     "base_uri": "https://localhost:8080/"
    },
    "id": "eec9000b",
    "outputId": "107a208f-698c-414d-86a8-a24e27d03b9a"
   },
   "outputs": [
    {
     "data": {
      "text/plain": [
       "(500, 3)"
      ]
     },
     "execution_count": 183,
     "metadata": {},
     "output_type": "execute_result"
    }
   ],
   "source": [
    "test.shape"
   ]
  },
  {
   "cell_type": "code",
   "execution_count": 184,
   "id": "63dab25d",
   "metadata": {
    "colab": {
     "base_uri": "https://localhost:8080/"
    },
    "id": "63dab25d",
    "outputId": "f3508331-f78e-4762-c4c3-b1c518bf1db5"
   },
   "outputs": [
    {
     "data": {
      "text/plain": [
       "(500, 3)"
      ]
     },
     "execution_count": 184,
     "metadata": {},
     "output_type": "execute_result"
    }
   ],
   "source": [
    "validation.shape"
   ]
  },
  {
   "cell_type": "markdown",
   "id": "1db3d1e9",
   "metadata": {
    "id": "1db3d1e9"
   },
   "source": [
    "# convert categorical to numeric(Sentiment)"
   ]
  },
  {
   "cell_type": "code",
   "execution_count": 185,
   "id": "80e7d6a1",
   "metadata": {
    "colab": {
     "base_uri": "https://localhost:8080/"
    },
    "id": "80e7d6a1",
    "outputId": "7cb6a382-8919-4171-ac01-5e41f2c2960d"
   },
   "outputs": [
    {
     "data": {
      "text/plain": [
       "array(['Positive', 'Neutral', 'Negative', 'Irrelevant'], dtype=object)"
      ]
     },
     "execution_count": 185,
     "metadata": {},
     "output_type": "execute_result"
    }
   ],
   "source": [
    "training.sentiment.unique()"
   ]
  },
  {
   "cell_type": "code",
   "execution_count": 186,
   "id": "1dc85fe8",
   "metadata": {
    "id": "1dc85fe8"
   },
   "outputs": [],
   "source": [
    "training['sentiment'].replace(['Positive', 'Neutral', 'Negative', 'Irrelevant'],\n",
    "                        [0, 1, 2, 3], inplace=True)\n",
    "test['sentiment'].replace(['Positive', 'Neutral', 'Negative', 'Irrelevant'],\n",
    "                        [0, 1, 2, 3], inplace=True)\n",
    "validation['sentiment'].replace(['Positive', 'Neutral', 'Negative', 'Irrelevant'],\n",
    "                        [0, 1, 2, 3], inplace=True)"
   ]
  },
  {
   "cell_type": "markdown",
   "id": "a233ccea",
   "metadata": {
    "id": "a233ccea"
   },
   "source": [
    "# Data visualization"
   ]
  },
  {
   "cell_type": "markdown",
   "id": "5672289b",
   "metadata": {
    "id": "5672289b"
   },
   "source": [
    "# Distribution of target class"
   ]
  },
  {
   "cell_type": "code",
   "execution_count": 187,
   "id": "4d5f9fd4",
   "metadata": {
    "colab": {
     "base_uri": "https://localhost:8080/",
     "height": 466
    },
    "id": "4d5f9fd4",
    "outputId": "a2537511-a1e4-4b2c-8675-806b0cea0b53"
   },
   "outputs": [
    {
     "data": {
      "text/plain": [
       "<Axes: xlabel='sentiment', ylabel='count'>"
      ]
     },
     "execution_count": 187,
     "metadata": {},
     "output_type": "execute_result"
    },
    {
     "data": {
      "image/png": "[encoded data removed]",
      "text/plain": [
       "<Figure size 640x480 with 1 Axes>"
      ]
     },
     "metadata": {},
     "output_type": "display_data"
    }
   ],
   "source": [
    "sns.countplot(x='sentiment',data=training)"
   ]
  },
  {
   "cell_type": "code",
   "execution_count": 194,
   "id": "67b43691",
   "metadata": {},
   "outputs": [
    {
     "name": "stdout",
     "output_type": "stream",
     "text": [
      "Class Weights: [0.89449764 1.02372608 0.82692999 1.4369095 ]\n",
      "Class Weight Dictionary: {0: 0.8944976425411948, 1: 1.0237260792167335, 2: 0.8269299901141368, 3: 1.436909502615757}\n"
     ]
    }
   ],
   "source": [
    "# Compute class weights based on the training set\n",
    "c_weights = compute_class_weight('balanced', classes=np.unique(training['sentiment']), y=training['sentiment'])\n",
    "c_weightS_dict = dict(zip(np.unique(training['sentiment']), c_weights))\n",
    "\n",
    "# Print the computed class weights and the dictionary\n",
    "print(\"Class Weights:\", c_weights)\n",
    "print(\"Class Weight Dictionary:\", c_weightS_dict)"
   ]
  },
  {
   "cell_type": "code",
   "execution_count": 188,
   "id": "4a5b6f6e",
   "metadata": {
    "id": "4a5b6f6e"
   },
   "outputs": [],
   "source": [
    "# wc = WordCloud(max_words = 1000 , width = 1600 , height = 800,\n",
    "#               collocations=False).generate(\" \".join(data_pos))\n",
    "# plt.figure(figsize = (20,20))\n",
    "# plt.imshow(wc)"
   ]
  },
  {
   "cell_type": "markdown",
   "id": "b85c47a0",
   "metadata": {
    "id": "b85c47a0"
   },
   "source": [
    "# Data Cleaning"
   ]
  },
  {
   "cell_type": "code",
   "execution_count": 195,
   "id": "779816f7",
   "metadata": {
    "id": "779816f7"
   },
   "outputs": [],
   "source": [
    "def clean_tweets(tweet):\n",
    "    # Check if the tweet is a non-null string\n",
    "    if isinstance(tweet, str) and not pd.isnull(tweet):\n",
    "\n",
    "        # remove URL\n",
    "        tweet = re.sub(r\"http\\S+\", \"\", tweet)\n",
    "        # convert to lower case alpha\n",
    "        tweet = tweet.lower()\n",
    "\n",
    "        # Remove short links (e.g., buff.ly/2WmmiP5)\n",
    "        tweet = re.sub(r'\\b(?:buff\\.ly|dlvr\\.it)/\\S+', \"\", tweet)\n",
    "\n",
    "        # Remove usernames\n",
    "        tweet = re.sub(r\"@[^\\s]+[\\s]?\", '', tweet)\n",
    "\n",
    "        # remove special characters for example {!,?,...}\n",
    "        tweet = re.sub('[^ a-zA-Z0-9]', '', tweet)\n",
    "\n",
    "        # remove Numbers\n",
    "        tweet = re.sub('[0-9]', '', tweet)\n",
    "\n",
    "        return tweet\n",
    "    else:\n",
    "        # If the tweet is NaN or not a string, return it unchanged\n",
    "        return tweet\n",
    "\n",
    "# Apply the clean_tweets function to the 'Tweet content' column\n",
    "training['Tweet content'] = training['Tweet content'].apply(clean_tweets)\n",
    "validation['Tweet content'] = validation['Tweet content'].apply(clean_tweets)\n",
    "test['Tweet content'] = test['Tweet content'].apply(clean_tweets)"
   ]
  },
  {
   "cell_type": "code",
   "execution_count": 196,
   "id": "836fa2ac",
   "metadata": {},
   "outputs": [
    {
     "data": {
      "text/plain": [
       "(73610, 3)"
      ]
     },
     "execution_count": 196,
     "metadata": {},
     "output_type": "execute_result"
    }
   ],
   "source": [
    "training.shape"
   ]
  },
  {
   "cell_type": "code",
   "execution_count": 197,
   "id": "1e40e8eb",
   "metadata": {},
   "outputs": [],
   "source": [
    "def remove_extra_spaces(df):\n",
    "    df['Tweet content'] = df['Tweet content'].str.strip()\n",
    "    for i in range(len(df)):\n",
    "        if df['Tweet content'][i]== '':\n",
    "            df['Tweet content'][i] = None \n",
    "    training.dropna(subset=['Tweet content'], inplace=True)\n",
    "    training.reset_index(drop=True,inplace=True)\n",
    "    return df\n",
    "\n",
    "training = remove_extra_spaces(training)\n",
    "test = remove_extra_spaces(test)\n",
    "validation = remove_extra_spaces(validation)\n",
    "# training['Tweet content']=training['Tweet content'].str.s"
   ]
  },
  {
   "cell_type": "code",
   "execution_count": 198,
   "id": "c25a45a3",
   "metadata": {},
   "outputs": [
    {
     "data": {
      "text/plain": [
       "(73610, 3)"
      ]
     },
     "execution_count": 198,
     "metadata": {},
     "output_type": "execute_result"
    }
   ],
   "source": [
    "training.shape"
   ]
  },
  {
   "cell_type": "code",
   "execution_count": 199,
   "id": "ee00f373",
   "metadata": {},
   "outputs": [],
   "source": [
    "# training.to_csv('test', sep='\\t', encoding='utf-8')"
   ]
  },
  {
   "cell_type": "code",
   "execution_count": 200,
   "id": "ffed3d57",
   "metadata": {},
   "outputs": [
    {
     "data": {
      "text/plain": [
       "0        im getting on borderlands and i will murder yo...\n",
       "1        i am coming to the borders and i will kill you...\n",
       "2        im getting on borderlands and i will kill you all\n",
       "3        im coming on borderlands and i will murder you...\n",
       "4        im getting on borderlands  and i will murder y...\n",
       "                               ...                        \n",
       "73605    just realized that the windows partition of my...\n",
       "73606    just realized that my mac window partition is ...\n",
       "73607    just realized the windows partition of my mac ...\n",
       "73608    just realized between the windows partition of...\n",
       "73609    just like the windows partition of my mac is l...\n",
       "Name: Tweet content, Length: 73610, dtype: object"
      ]
     },
     "execution_count": 200,
     "metadata": {},
     "output_type": "execute_result"
    }
   ],
   "source": [
    "training['Tweet content']"
   ]
  },
  {
   "cell_type": "code",
   "execution_count": 201,
   "id": "dfc04140",
   "metadata": {},
   "outputs": [
    {
     "data": {
      "text/plain": [
       "pandas.core.frame.DataFrame"
      ]
     },
     "execution_count": 201,
     "metadata": {},
     "output_type": "execute_result"
    }
   ],
   "source": [
    "type(training)"
   ]
  },
  {
   "cell_type": "code",
   "execution_count": 202,
   "id": "618cfbd0",
   "metadata": {},
   "outputs": [],
   "source": [
    "# removing the stop words except \"not\"\n",
    "stop_words = stopwords.words(\"english\")\n",
    "whitelist = [\"n't\", \"not\"]\n",
    "filtered_list = [item for item in stop_words if item not in whitelist]\n",
    "# Define a function to remove stop words\n",
    "def remove_stop_words(word_list):\n",
    "    tweet_without_stopwords = [word for word in  \n",
    "                              word_list.split()\n",
    "                              if word.lower() not in filtered_list]\n",
    "    joined_tokens = [\" \".join(tweet_without_stopwords)]\n",
    "#     return tweet_without_stopwords\n",
    "    return joined_tokens"
   ]
  },
  {
   "cell_type": "code",
   "execution_count": 203,
   "id": "33Xo9BFRTsEM",
   "metadata": {
    "id": "33Xo9BFRTsEM"
   },
   "outputs": [],
   "source": [
    "training['Tweet content'] = training['Tweet content'].apply(remove_stop_words)\n",
    "test['Tweet content'] = test['Tweet content'].apply(remove_stop_words)\n",
    "validation['Tweet content'] = validation['Tweet content'].apply(remove_stop_words)"
   ]
  },
  {
   "cell_type": "code",
   "execution_count": 204,
   "id": "2d0f5cc1",
   "metadata": {},
   "outputs": [
    {
     "data": {
      "text/html": [
       "<div>\n",
       "<style scoped>\n",
       "    .dataframe tbody tr th:only-of-type {\n",
       "        vertical-align: middle;\n",
       "    }\n",
       "\n",
       "    .dataframe tbody tr th {\n",
       "        vertical-align: top;\n",
       "    }\n",
       "\n",
       "    .dataframe thead th {\n",
       "        text-align: right;\n",
       "    }\n",
       "</style>\n",
       "<table border=\"1\" class=\"dataframe\">\n",
       "  <thead>\n",
       "    <tr style=\"text-align: right;\">\n",
       "      <th></th>\n",
       "      <th>Tweet ID</th>\n",
       "      <th>sentiment</th>\n",
       "      <th>Tweet content</th>\n",
       "    </tr>\n",
       "  </thead>\n",
       "  <tbody>\n",
       "    <tr>\n",
       "      <th>0</th>\n",
       "      <td>2401</td>\n",
       "      <td>0</td>\n",
       "      <td>[im getting borderlands murder]</td>\n",
       "    </tr>\n",
       "    <tr>\n",
       "      <th>1</th>\n",
       "      <td>2401</td>\n",
       "      <td>0</td>\n",
       "      <td>[coming borders kill]</td>\n",
       "    </tr>\n",
       "    <tr>\n",
       "      <th>2</th>\n",
       "      <td>2401</td>\n",
       "      <td>0</td>\n",
       "      <td>[im getting borderlands kill]</td>\n",
       "    </tr>\n",
       "    <tr>\n",
       "      <th>3</th>\n",
       "      <td>2401</td>\n",
       "      <td>0</td>\n",
       "      <td>[im coming borderlands murder]</td>\n",
       "    </tr>\n",
       "    <tr>\n",
       "      <th>4</th>\n",
       "      <td>2401</td>\n",
       "      <td>0</td>\n",
       "      <td>[im getting borderlands murder]</td>\n",
       "    </tr>\n",
       "    <tr>\n",
       "      <th>...</th>\n",
       "      <td>...</td>\n",
       "      <td>...</td>\n",
       "      <td>...</td>\n",
       "    </tr>\n",
       "    <tr>\n",
       "      <th>73605</th>\n",
       "      <td>9200</td>\n",
       "      <td>0</td>\n",
       "      <td>[realized windows partition mac like years beh...</td>\n",
       "    </tr>\n",
       "    <tr>\n",
       "      <th>73606</th>\n",
       "      <td>9200</td>\n",
       "      <td>0</td>\n",
       "      <td>[realized mac window partition years behind nv...</td>\n",
       "    </tr>\n",
       "    <tr>\n",
       "      <th>73607</th>\n",
       "      <td>9200</td>\n",
       "      <td>0</td>\n",
       "      <td>[realized windows partition mac years behind n...</td>\n",
       "    </tr>\n",
       "    <tr>\n",
       "      <th>73608</th>\n",
       "      <td>9200</td>\n",
       "      <td>0</td>\n",
       "      <td>[realized windows partition mac like years beh...</td>\n",
       "    </tr>\n",
       "    <tr>\n",
       "      <th>73609</th>\n",
       "      <td>9200</td>\n",
       "      <td>0</td>\n",
       "      <td>[like windows partition mac like years behind ...</td>\n",
       "    </tr>\n",
       "  </tbody>\n",
       "</table>\n",
       "<p>73610 rows × 3 columns</p>\n",
       "</div>"
      ],
      "text/plain": [
       "       Tweet ID  sentiment                                      Tweet content\n",
       "0          2401          0                    [im getting borderlands murder]\n",
       "1          2401          0                              [coming borders kill]\n",
       "2          2401          0                      [im getting borderlands kill]\n",
       "3          2401          0                     [im coming borderlands murder]\n",
       "4          2401          0                    [im getting borderlands murder]\n",
       "...         ...        ...                                                ...\n",
       "73605      9200          0  [realized windows partition mac like years beh...\n",
       "73606      9200          0  [realized mac window partition years behind nv...\n",
       "73607      9200          0  [realized windows partition mac years behind n...\n",
       "73608      9200          0  [realized windows partition mac like years beh...\n",
       "73609      9200          0  [like windows partition mac like years behind ...\n",
       "\n",
       "[73610 rows x 3 columns]"
      ]
     },
     "execution_count": 204,
     "metadata": {},
     "output_type": "execute_result"
    }
   ],
   "source": [
    "training"
   ]
  },
  {
   "cell_type": "code",
   "execution_count": 205,
   "id": "dbb763e2",
   "metadata": {},
   "outputs": [],
   "source": [
    "# training.to_csv('clean_train', sep='\\t', encoding='utf-8')"
   ]
  },
  {
   "cell_type": "markdown",
   "id": "b25b6b37",
   "metadata": {},
   "source": [
    "Stemming"
   ]
  },
  {
   "cell_type": "code",
   "execution_count": 206,
   "id": "fbe69dd8",
   "metadata": {},
   "outputs": [],
   "source": [
    "#stem the words\n",
    "ps = PorterStemmer()\n",
    "# Define a function to stem the words\n",
    "def stemming(word_list):\n",
    "    tweet_with_stem = []\n",
    "    split_list = [word for sentence in word_list for word in sentence.split()]\n",
    "    for w in split_list:\n",
    "        w = ps.stem(w)\n",
    "        tweet_with_stem.append(w)\n",
    "    return tweet_with_stem"
   ]
  },
  {
   "cell_type": "code",
   "execution_count": 207,
   "id": "a48edb79",
   "metadata": {},
   "outputs": [],
   "source": [
    "training['Tweet content'] = training['Tweet content'].apply(stemming)\n",
    "test['Tweet content'] = test['Tweet content'].apply(stemming)\n",
    "validation['Tweet content'] = validation['Tweet content'].apply(stemming)"
   ]
  },
  {
   "cell_type": "code",
   "execution_count": 208,
   "id": "6bed226b",
   "metadata": {},
   "outputs": [
    {
     "data": {
      "text/html": [
       "<div>\n",
       "<style scoped>\n",
       "    .dataframe tbody tr th:only-of-type {\n",
       "        vertical-align: middle;\n",
       "    }\n",
       "\n",
       "    .dataframe tbody tr th {\n",
       "        vertical-align: top;\n",
       "    }\n",
       "\n",
       "    .dataframe thead th {\n",
       "        text-align: right;\n",
       "    }\n",
       "</style>\n",
       "<table border=\"1\" class=\"dataframe\">\n",
       "  <thead>\n",
       "    <tr style=\"text-align: right;\">\n",
       "      <th></th>\n",
       "      <th>Tweet ID</th>\n",
       "      <th>sentiment</th>\n",
       "      <th>Tweet content</th>\n",
       "    </tr>\n",
       "  </thead>\n",
       "  <tbody>\n",
       "    <tr>\n",
       "      <th>0</th>\n",
       "      <td>2401</td>\n",
       "      <td>0</td>\n",
       "      <td>[im, get, borderland, murder]</td>\n",
       "    </tr>\n",
       "    <tr>\n",
       "      <th>1</th>\n",
       "      <td>2401</td>\n",
       "      <td>0</td>\n",
       "      <td>[come, border, kill]</td>\n",
       "    </tr>\n",
       "    <tr>\n",
       "      <th>2</th>\n",
       "      <td>2401</td>\n",
       "      <td>0</td>\n",
       "      <td>[im, get, borderland, kill]</td>\n",
       "    </tr>\n",
       "    <tr>\n",
       "      <th>3</th>\n",
       "      <td>2401</td>\n",
       "      <td>0</td>\n",
       "      <td>[im, come, borderland, murder]</td>\n",
       "    </tr>\n",
       "    <tr>\n",
       "      <th>4</th>\n",
       "      <td>2401</td>\n",
       "      <td>0</td>\n",
       "      <td>[im, get, borderland, murder]</td>\n",
       "    </tr>\n",
       "    <tr>\n",
       "      <th>...</th>\n",
       "      <td>...</td>\n",
       "      <td>...</td>\n",
       "      <td>...</td>\n",
       "    </tr>\n",
       "    <tr>\n",
       "      <th>73605</th>\n",
       "      <td>9200</td>\n",
       "      <td>0</td>\n",
       "      <td>[realiz, window, partit, mac, like, year, behi...</td>\n",
       "    </tr>\n",
       "    <tr>\n",
       "      <th>73606</th>\n",
       "      <td>9200</td>\n",
       "      <td>0</td>\n",
       "      <td>[realiz, mac, window, partit, year, behind, nv...</td>\n",
       "    </tr>\n",
       "    <tr>\n",
       "      <th>73607</th>\n",
       "      <td>9200</td>\n",
       "      <td>0</td>\n",
       "      <td>[realiz, window, partit, mac, year, behind, nv...</td>\n",
       "    </tr>\n",
       "    <tr>\n",
       "      <th>73608</th>\n",
       "      <td>9200</td>\n",
       "      <td>0</td>\n",
       "      <td>[realiz, window, partit, mac, like, year, behi...</td>\n",
       "    </tr>\n",
       "    <tr>\n",
       "      <th>73609</th>\n",
       "      <td>9200</td>\n",
       "      <td>0</td>\n",
       "      <td>[like, window, partit, mac, like, year, behind...</td>\n",
       "    </tr>\n",
       "  </tbody>\n",
       "</table>\n",
       "<p>73610 rows × 3 columns</p>\n",
       "</div>"
      ],
      "text/plain": [
       "       Tweet ID  sentiment                                      Tweet content\n",
       "0          2401          0                      [im, get, borderland, murder]\n",
       "1          2401          0                               [come, border, kill]\n",
       "2          2401          0                        [im, get, borderland, kill]\n",
       "3          2401          0                     [im, come, borderland, murder]\n",
       "4          2401          0                      [im, get, borderland, murder]\n",
       "...         ...        ...                                                ...\n",
       "73605      9200          0  [realiz, window, partit, mac, like, year, behi...\n",
       "73606      9200          0  [realiz, mac, window, partit, year, behind, nv...\n",
       "73607      9200          0  [realiz, window, partit, mac, year, behind, nv...\n",
       "73608      9200          0  [realiz, window, partit, mac, like, year, behi...\n",
       "73609      9200          0  [like, window, partit, mac, like, year, behind...\n",
       "\n",
       "[73610 rows x 3 columns]"
      ]
     },
     "execution_count": 208,
     "metadata": {},
     "output_type": "execute_result"
    }
   ],
   "source": [
    "training"
   ]
  },
  {
   "cell_type": "code",
   "execution_count": 210,
   "id": "974d0d82",
   "metadata": {},
   "outputs": [],
   "source": [
    "# lemmatizer = WordNetLemmatizer()\n",
    "# with tqdm(total=len(training['Tweet content'])) as pbar:\n",
    "#     for tweet in training['Tweet content']:\n",
    "#         lemmatized = [lemmatizer.lemmatize(word) for word in tweet]\n",
    "#         tweets.append(lemmatized)\n",
    "#         pbar.update(1)"
   ]
  },
  {
   "cell_type": "code",
   "execution_count": null,
   "id": "a5147112",
   "metadata": {},
   "outputs": [],
   "source": []
  },
  {
   "cell_type": "markdown",
   "id": "4dd66319",
   "metadata": {},
   "source": [
    "# Word embedding"
   ]
  },
  {
   "cell_type": "markdown",
   "id": "fd5e4141",
   "metadata": {},
   "source": [
    "# Glove"
   ]
  },
  {
   "cell_type": "code",
   "execution_count": 103,
   "id": "5f16a547",
   "metadata": {},
   "outputs": [
    {
     "name": "stdout",
     "output_type": "stream",
     "text": [
      "Loading Glove Model\n",
      "400000 words loaded!\n"
     ]
    }
   ],
   "source": [
    "import numpy as np\n",
    "\n",
    "def load_glove_model(File):\n",
    "    print(\"Loading Glove Model\")\n",
    "    glove_model = {}\n",
    "    with open(File,'r',encoding=\"utf8\") as f:\n",
    "        for line in f:\n",
    "            split_line = line.split()\n",
    "            word = split_line[0]\n",
    "            embedding = np.array(split_line[1:], dtype=np.float64)\n",
    "            glove_model[word] = embedding\n",
    "    print(f\"{len(glove_model)} words loaded!\")\n",
    "    return glove_model\n",
    "glove_model_path = 'glove.6B.100d.txt'  # path to your GloVe file\n",
    "glove_model = load_glove_model(glove_model_path)"
   ]
  },
  {
   "cell_type": "code",
   "execution_count": 212,
   "id": "de619970",
   "metadata": {},
   "outputs": [],
   "source": [
    "def embedd(tweet):\n",
    "    # If the tweet is a list, join its elements into a string\n",
    "    if isinstance(tweet, list):\n",
    "        tweet = ' '.join(map(str, tweet))\n",
    "\n",
    "    # Tokenize the tweet\n",
    "    tokens = word_tokenize(tweet.lower())\n",
    "\n",
    "    # Filter valid words and get their embeddings\n",
    "    embeddings = [glove_model[word] for word in tokens if word in glove_model]\n",
    "\n",
    "    # Check if there are valid embeddings\n",
    "    if embeddings:\n",
    "        # Calculate the mean embedding (e.g., using np.mean)\n",
    "        aggregated_embedding = np.mean(embeddings, axis=0)\n",
    "        return aggregated_embedding\n",
    "    else:\n",
    "        # Return zeros if there are no valid embeddings\n",
    "        return np.zeros(100)"
   ]
  },
  {
   "cell_type": "code",
   "execution_count": 213,
   "id": "363af6af",
   "metadata": {},
   "outputs": [],
   "source": [
    "test['glove'] = test['Tweet content'].apply(embedd)"
   ]
  },
  {
   "cell_type": "code",
   "execution_count": 214,
   "id": "bfe6501d",
   "metadata": {},
   "outputs": [],
   "source": [
    "validation['glove'] = validation['Tweet content'].apply(embedd)"
   ]
  },
  {
   "cell_type": "code",
   "execution_count": 215,
   "id": "f04d5b4f",
   "metadata": {},
   "outputs": [],
   "source": [
    "training['glove'] = training['Tweet content'].apply(embedd)"
   ]
  },
  {
   "cell_type": "code",
   "execution_count": 216,
   "id": "e54924c4",
   "metadata": {},
   "outputs": [
    {
     "data": {
      "text/plain": [
       "(73610,)"
      ]
     },
     "execution_count": 216,
     "metadata": {},
     "output_type": "execute_result"
    }
   ],
   "source": [
    "training['glove'].shape"
   ]
  },
  {
   "cell_type": "code",
   "execution_count": 217,
   "id": "71fe308e",
   "metadata": {},
   "outputs": [
    {
     "data": {
      "text/plain": [
       "100"
      ]
     },
     "execution_count": 217,
     "metadata": {},
     "output_type": "execute_result"
    }
   ],
   "source": [
    "len(training['glove'][1])"
   ]
  },
  {
   "cell_type": "code",
   "execution_count": 218,
   "id": "cbef4e61",
   "metadata": {},
   "outputs": [],
   "source": [
    "training.dropna(subset=['glove'], inplace=True)"
   ]
  },
  {
   "cell_type": "code",
   "execution_count": 219,
   "id": "39bf59c7",
   "metadata": {},
   "outputs": [
    {
     "data": {
      "text/plain": [
       "(73610,)"
      ]
     },
     "execution_count": 219,
     "metadata": {},
     "output_type": "execute_result"
    }
   ],
   "source": [
    "training['glove'].shape"
   ]
  },
  {
   "cell_type": "markdown",
   "id": "18bdcac1",
   "metadata": {},
   "source": [
    "# Train Model"
   ]
  },
  {
   "cell_type": "markdown",
   "id": "5d1f1754",
   "metadata": {},
   "source": [
    "# Random Forest"
   ]
  },
  {
   "cell_type": "code",
   "execution_count": 229,
   "id": "19d19ea6",
   "metadata": {},
   "outputs": [
    {
     "data": {
      "text/html": [
       "<style>#sk-container-id-2 {color: black;background-color: white;}#sk-container-id-2 pre{padding: 0;}#sk-container-id-2 div.sk-toggleable {background-color: white;}#sk-container-id-2 label.sk-toggleable__label {cursor: pointer;display: block;width: 100%;margin-bottom: 0;padding: 0.3em;box-sizing: border-box;text-align: center;}#sk-container-id-2 label.sk-toggleable__label-arrow:before {content: \"▸\";float: left;margin-right: 0.25em;color: #696969;}#sk-container-id-2 label.sk-toggleable__label-arrow:hover:before {color: black;}#sk-container-id-2 div.sk-estimator:hover label.sk-toggleable__label-arrow:before {color: black;}#sk-container-id-2 div.sk-toggleable__content {max-height: 0;max-width: 0;overflow: hidden;text-align: left;background-color: #f0f8ff;}#sk-container-id-2 div.sk-toggleable__content pre {margin: 0.2em;color: black;border-radius: 0.25em;background-color: #f0f8ff;}#sk-container-id-2 input.sk-toggleable__control:checked~div.sk-toggleable__content {max-height: 200px;max-width: 100%;overflow: auto;}#sk-container-id-2 input.sk-toggleable__control:checked~label.sk-toggleable__label-arrow:before {content: \"▾\";}#sk-container-id-2 div.sk-estimator input.sk-toggleable__control:checked~label.sk-toggleable__label {background-color: #d4ebff;}#sk-container-id-2 div.sk-label input.sk-toggleable__control:checked~label.sk-toggleable__label {background-color: #d4ebff;}#sk-container-id-2 input.sk-hidden--visually {border: 0;clip: rect(1px 1px 1px 1px);clip: rect(1px, 1px, 1px, 1px);height: 1px;margin: -1px;overflow: hidden;padding: 0;position: absolute;width: 1px;}#sk-container-id-2 div.sk-estimator {font-family: monospace;background-color: #f0f8ff;border: 1px dotted black;border-radius: 0.25em;box-sizing: border-box;margin-bottom: 0.5em;}#sk-container-id-2 div.sk-estimator:hover {background-color: #d4ebff;}#sk-container-id-2 div.sk-parallel-item::after {content: \"\";width: 100%;border-bottom: 1px solid gray;flex-grow: 1;}#sk-container-id-2 div.sk-label:hover label.sk-toggleable__label {background-color: #d4ebff;}#sk-container-id-2 div.sk-serial::before {content: \"\";position: absolute;border-left: 1px solid gray;box-sizing: border-box;top: 0;bottom: 0;left: 50%;z-index: 0;}#sk-container-id-2 div.sk-serial {display: flex;flex-direction: column;align-items: center;background-color: white;padding-right: 0.2em;padding-left: 0.2em;position: relative;}#sk-container-id-2 div.sk-item {position: relative;z-index: 1;}#sk-container-id-2 div.sk-parallel {display: flex;align-items: stretch;justify-content: center;background-color: white;position: relative;}#sk-container-id-2 div.sk-item::before, #sk-container-id-2 div.sk-parallel-item::before {content: \"\";position: absolute;border-left: 1px solid gray;box-sizing: border-box;top: 0;bottom: 0;left: 50%;z-index: -1;}#sk-container-id-2 div.sk-parallel-item {display: flex;flex-direction: column;z-index: 1;position: relative;background-color: white;}#sk-container-id-2 div.sk-parallel-item:first-child::after {align-self: flex-end;width: 50%;}#sk-container-id-2 div.sk-parallel-item:last-child::after {align-self: flex-start;width: 50%;}#sk-container-id-2 div.sk-parallel-item:only-child::after {width: 0;}#sk-container-id-2 div.sk-dashed-wrapped {border: 1px dashed gray;margin: 0 0.4em 0.5em 0.4em;box-sizing: border-box;padding-bottom: 0.4em;background-color: white;}#sk-container-id-2 div.sk-label label {font-family: monospace;font-weight: bold;display: inline-block;line-height: 1.2em;}#sk-container-id-2 div.sk-label-container {text-align: center;}#sk-container-id-2 div.sk-container {/* jupyter's `normalize.less` sets `[hidden] { display: none; }` but bootstrap.min.css set `[hidden] { display: none !important; }` so we also need the `!important` here to be able to override the default hidden behavior on the sphinx rendered scikit-learn.org. See: https://github.com/scikit-learn/scikit-learn/issues/21755 */display: inline-block !important;position: relative;}#sk-container-id-2 div.sk-text-repr-fallback {display: none;}</style><div id=\"sk-container-id-2\" class=\"sk-top-container\"><div class=\"sk-text-repr-fallback\"><pre>RandomForestClassifier(class_weight={0: 0.8944976425411948,\n",
       "                                     1: 1.0237260792167335,\n",
       "                                     2: 0.8269299901141368,\n",
       "                                     3: 1.436909502615757},\n",
       "                       random_state=42)</pre><b>In a Jupyter environment, please rerun this cell to show the HTML representation or trust the notebook. <br />On GitHub, the HTML representation is unable to render, please try loading this page with nbviewer.org.</b></div><div class=\"sk-container\" hidden><div class=\"sk-item\"><div class=\"sk-estimator sk-toggleable\"><input class=\"sk-toggleable__control sk-hidden--visually\" id=\"sk-estimator-id-2\" type=\"checkbox\" checked><label for=\"sk-estimator-id-2\" class=\"sk-toggleable__label sk-toggleable__label-arrow\">RandomForestClassifier</label><div class=\"sk-toggleable__content\"><pre>RandomForestClassifier(class_weight={0: 0.8944976425411948,\n",
       "                                     1: 1.0237260792167335,\n",
       "                                     2: 0.8269299901141368,\n",
       "                                     3: 1.436909502615757},\n",
       "                       random_state=42)</pre></div></div></div></div></div>"
      ],
      "text/plain": [
       "RandomForestClassifier(class_weight={0: 0.8944976425411948,\n",
       "                                     1: 1.0237260792167335,\n",
       "                                     2: 0.8269299901141368,\n",
       "                                     3: 1.436909502615757},\n",
       "                       random_state=42)"
      ]
     },
     "execution_count": 229,
     "metadata": {},
     "output_type": "execute_result"
    }
   ],
   "source": [
    "# Create X_train and y_train\n",
    "X_train_RF = np.vstack(training['glove'].to_numpy())\n",
    "y_train_RF = np.array(training['sentiment'])\n",
    "\n",
    "# Random Forest Model\n",
    "rf_model = RandomForestClassifier(n_estimators=100, random_state=42,class_weight=c_weightS_dict)\n",
    "rf_model.fit(X_train_RF, y_train_RF)"
   ]
  },
  {
   "cell_type": "code",
   "execution_count": 232,
   "id": "bc40df3a",
   "metadata": {},
   "outputs": [],
   "source": [
    "X_test_RF = np.vstack(test['glove'].to_numpy())\n",
    "y_test_RF = np.array(test['sentiment'])"
   ]
  },
  {
   "cell_type": "code",
   "execution_count": 233,
   "id": "7937ee6c",
   "metadata": {},
   "outputs": [],
   "source": [
    "# Predictions\n",
    "rf_predictions = rf_model.predict(X_test_RF)"
   ]
  },
  {
   "cell_type": "markdown",
   "id": "e92f51c9",
   "metadata": {},
   "source": [
    "# Evaluate"
   ]
  },
  {
   "cell_type": "code",
   "execution_count": 234,
   "id": "1fa4217d",
   "metadata": {},
   "outputs": [
    {
     "name": "stdout",
     "output_type": "stream",
     "text": [
      "RF Precision: 0.8891968251524298\n",
      "RF Recall: 0.8768957378626425\n",
      "RF F1-Score: 0.8809507638146016\n",
      "RF Confusion Matrix:\n",
      "[[128   9   9   2]\n",
      " [  8 119   7   0]\n",
      " [  3   5 117   1]\n",
      " [  6   1   9  76]]\n"
     ]
    }
   ],
   "source": [
    "# Replace 'binary' with the desired average setting ('micro', 'macro', 'weighted', or None)\n",
    "average_setting = 'macro'\n",
    "# Calculate precision, recall, and F1-score with the specified average setting and conf_matrix\n",
    "precision = precision_score(y_test_RF, rf_predictions, average=average_setting)\n",
    "recall = recall_score(y_test_RF, rf_predictions, average=average_setting)\n",
    "f1 = f1_score(y_test_RF, rf_predictions, average=average_setting)\n",
    "conf_matrix = confusion_matrix(y_test_RF, rf_predictions)\n",
    "\n",
    "# Print additional metrics\n",
    "print(\"RF Precision:\", precision)\n",
    "print(\"RF Recall:\", recall)\n",
    "print(\"RF F1-Score:\", f1)\n",
    "print(\"RF Confusion Matrix:\")\n",
    "print(conf_matrix)\n"
   ]
  },
  {
   "cell_type": "code",
   "execution_count": 236,
   "id": "de0af0c6",
   "metadata": {},
   "outputs": [
    {
     "name": "stdout",
     "output_type": "stream",
     "text": [
      "RF Accuracy: 0.88\n",
      "RF Classification Report:\n",
      "              precision    recall  f1-score   support\n",
      "\n",
      "           0       0.88      0.86      0.87       148\n",
      "           1       0.89      0.89      0.89       134\n",
      "           2       0.82      0.93      0.87       126\n",
      "           3       0.96      0.83      0.89        92\n",
      "\n",
      "    accuracy                           0.88       500\n",
      "   macro avg       0.89      0.88      0.88       500\n",
      "weighted avg       0.88      0.88      0.88       500\n",
      "\n"
     ]
    }
   ],
   "source": [
    "# Calculate accuracy\n",
    "rf_accuracy = accuracy_score(y_test_RF, rf_predictions)\n",
    "print(\"RF Accuracy:\", rf_accuracy)\n",
    "print(\"RF Classification Report:\")\n",
    "print(classification_report(y_test_RF, rf_predictions))"
   ]
  },
  {
   "cell_type": "code",
   "execution_count": 267,
   "id": "6e1b3495",
   "metadata": {},
   "outputs": [],
   "source": [
    "# Create X_val and y_val\n",
    "X_val_RF = np.vstack(validation['glove'].to_numpy())\n",
    "y_val_RF = np.array(validation['sentiment'])"
   ]
  },
  {
   "cell_type": "code",
   "execution_count": 268,
   "id": "4577bcd4",
   "metadata": {},
   "outputs": [],
   "source": [
    "# Make predictions on the Twitter-validation dataset\n",
    "validation['predicted RF'] = rf_model.predict(X_val_RF)\n",
    "# Save the result to an Excel file\n",
    "validation.to_excel('RF_validation.xlsx', index=False)"
   ]
  },
  {
   "cell_type": "code",
   "execution_count": 271,
   "id": "d59c9bf2",
   "metadata": {},
   "outputs": [
    {
     "data": {
      "text/html": [
       "<div>\n",
       "<style scoped>\n",
       "    .dataframe tbody tr th:only-of-type {\n",
       "        vertical-align: middle;\n",
       "    }\n",
       "\n",
       "    .dataframe tbody tr th {\n",
       "        vertical-align: top;\n",
       "    }\n",
       "\n",
       "    .dataframe thead th {\n",
       "        text-align: right;\n",
       "    }\n",
       "</style>\n",
       "<table border=\"1\" class=\"dataframe\">\n",
       "  <thead>\n",
       "    <tr style=\"text-align: right;\">\n",
       "      <th></th>\n",
       "      <th>Tweet ID</th>\n",
       "      <th>sentiment</th>\n",
       "      <th>Tweet content</th>\n",
       "      <th>glove</th>\n",
       "      <th>predicted RF</th>\n",
       "    </tr>\n",
       "  </thead>\n",
       "  <tbody>\n",
       "    <tr>\n",
       "      <th>0</th>\n",
       "      <td>5328</td>\n",
       "      <td>2</td>\n",
       "      <td>[what, go, hearthston, ipad, delet, app, redow...</td>\n",
       "      <td>[-0.23164419166666672, 0.08814575000000001, 0....</td>\n",
       "      <td>2</td>\n",
       "    </tr>\n",
       "    <tr>\n",
       "      <th>1</th>\n",
       "      <td>7618</td>\n",
       "      <td>2</td>\n",
       "      <td>[reason, offlin, franchis, lag, much, everi, p...</td>\n",
       "      <td>[-0.10516433333333332, 0.1453330666666667, 0.3...</td>\n",
       "      <td>2</td>\n",
       "    </tr>\n",
       "    <tr>\n",
       "      <th>2</th>\n",
       "      <td>7108</td>\n",
       "      <td>2</td>\n",
       "      <td>[johnson, johnson, enter, phase, trial, covid,...</td>\n",
       "      <td>[0.16724147499999997, 0.16982825, -0.085520749...</td>\n",
       "      <td>2</td>\n",
       "    </tr>\n",
       "    <tr>\n",
       "      <th>3</th>\n",
       "      <td>10008</td>\n",
       "      <td>2</td>\n",
       "      <td>[ban, pubg, go, fix, anyth, gonna, make, every...</td>\n",
       "      <td>[-0.10824925, -0.10192599999999999, 0.36323537...</td>\n",
       "      <td>2</td>\n",
       "    </tr>\n",
       "    <tr>\n",
       "      <th>4</th>\n",
       "      <td>49</td>\n",
       "      <td>1</td>\n",
       "      <td>[play, interest, quiz, amazon, tri, luck, chan...</td>\n",
       "      <td>[-0.08037875, 0.07925562500000001, 0.578732749...</td>\n",
       "      <td>1</td>\n",
       "    </tr>\n",
       "    <tr>\n",
       "      <th>...</th>\n",
       "      <td>...</td>\n",
       "      <td>...</td>\n",
       "      <td>...</td>\n",
       "      <td>...</td>\n",
       "      <td>...</td>\n",
       "    </tr>\n",
       "    <tr>\n",
       "      <th>495</th>\n",
       "      <td>4891</td>\n",
       "      <td>3</td>\n",
       "      <td>[toronto, art, cultur, capit, canada, wonder, ...</td>\n",
       "      <td>[-0.02551884999999999, 0.1338046, 0.3785477549...</td>\n",
       "      <td>3</td>\n",
       "    </tr>\n",
       "    <tr>\n",
       "      <th>496</th>\n",
       "      <td>4359</td>\n",
       "      <td>3</td>\n",
       "      <td>[actual, good, move, tot, bring, viewersi, one...</td>\n",
       "      <td>[-0.0725632272727273, 0.09103040363636365, 0.3...</td>\n",
       "      <td>3</td>\n",
       "    </tr>\n",
       "    <tr>\n",
       "      <th>497</th>\n",
       "      <td>2652</td>\n",
       "      <td>0</td>\n",
       "      <td>[today, suck, time, drink, wine, n, play, bord...</td>\n",
       "      <td>[-0.2767736153846154, 0.27156199999999997, 0.4...</td>\n",
       "      <td>0</td>\n",
       "    </tr>\n",
       "    <tr>\n",
       "      <th>498</th>\n",
       "      <td>8069</td>\n",
       "      <td>0</td>\n",
       "      <td>[bought, fraction, microsoft, today, small, win]</td>\n",
       "      <td>[-0.04612666666666665, 0.3582155166666667, 0.2...</td>\n",
       "      <td>0</td>\n",
       "    </tr>\n",
       "    <tr>\n",
       "      <th>499</th>\n",
       "      <td>6960</td>\n",
       "      <td>1</td>\n",
       "      <td>[johnson, johnson, stop, sell, talc, babi, pow...</td>\n",
       "      <td>[0.22461559999999997, 0.13820400000000005, 0.1...</td>\n",
       "      <td>1</td>\n",
       "    </tr>\n",
       "  </tbody>\n",
       "</table>\n",
       "<p>500 rows × 5 columns</p>\n",
       "</div>"
      ],
      "text/plain": [
       "     Tweet ID  sentiment                                      Tweet content  \\\n",
       "0        5328          2  [what, go, hearthston, ipad, delet, app, redow...   \n",
       "1        7618          2  [reason, offlin, franchis, lag, much, everi, p...   \n",
       "2        7108          2  [johnson, johnson, enter, phase, trial, covid,...   \n",
       "3       10008          2  [ban, pubg, go, fix, anyth, gonna, make, every...   \n",
       "4          49          1  [play, interest, quiz, amazon, tri, luck, chan...   \n",
       "..        ...        ...                                                ...   \n",
       "495      4891          3  [toronto, art, cultur, capit, canada, wonder, ...   \n",
       "496      4359          3  [actual, good, move, tot, bring, viewersi, one...   \n",
       "497      2652          0  [today, suck, time, drink, wine, n, play, bord...   \n",
       "498      8069          0   [bought, fraction, microsoft, today, small, win]   \n",
       "499      6960          1  [johnson, johnson, stop, sell, talc, babi, pow...   \n",
       "\n",
       "                                                 glove  predicted RF  \n",
       "0    [-0.23164419166666672, 0.08814575000000001, 0....             2  \n",
       "1    [-0.10516433333333332, 0.1453330666666667, 0.3...             2  \n",
       "2    [0.16724147499999997, 0.16982825, -0.085520749...             2  \n",
       "3    [-0.10824925, -0.10192599999999999, 0.36323537...             2  \n",
       "4    [-0.08037875, 0.07925562500000001, 0.578732749...             1  \n",
       "..                                                 ...           ...  \n",
       "495  [-0.02551884999999999, 0.1338046, 0.3785477549...             3  \n",
       "496  [-0.0725632272727273, 0.09103040363636365, 0.3...             3  \n",
       "497  [-0.2767736153846154, 0.27156199999999997, 0.4...             0  \n",
       "498  [-0.04612666666666665, 0.3582155166666667, 0.2...             0  \n",
       "499  [0.22461559999999997, 0.13820400000000005, 0.1...             1  \n",
       "\n",
       "[500 rows x 5 columns]"
      ]
     },
     "execution_count": 271,
     "metadata": {},
     "output_type": "execute_result"
    }
   ],
   "source": [
    "validation"
   ]
  },
  {
   "cell_type": "markdown",
   "id": "8f989a58",
   "metadata": {},
   "source": [
    "# Results"
   ]
  },
  {
   "cell_type": "code",
   "execution_count": 272,
   "id": "c8e9453e",
   "metadata": {},
   "outputs": [
    {
     "name": "stdout",
     "output_type": "stream",
     "text": [
      "Number of Correct Predictions: 457\n"
     ]
    }
   ],
   "source": [
    "result_RF = pd.read_excel('RF_validation.xlsx')\n",
    "true_sentiment = result_RF['sentiment']\n",
    "predicted_sentiment = result_RF['predicted RF']\n",
    "# Calculate the number of correct predictions\n",
    "correct_predictions = sum(true_sentiment == predicted_sentiment)\n",
    "# Print the number of correct predictions\n",
    "print(f'Number of Correct Predictions: {correct_predictions}')"
   ]
  },
  {
   "cell_type": "markdown",
   "id": "5a6fb1d8",
   "metadata": {},
   "source": [
    "# Train Model"
   ]
  },
  {
   "cell_type": "markdown",
   "id": "8f6ed19d",
   "metadata": {},
   "source": [
    "# AdaBoost"
   ]
  },
  {
   "cell_type": "code",
   "execution_count": 237,
   "id": "17855b44",
   "metadata": {},
   "outputs": [],
   "source": [
    "# Create X_train and y_train\n",
    "X_train_AB = np.vstack(training['glove'].to_numpy())\n",
    "y_train_AB = np.array(training['sentiment'])"
   ]
  },
  {
   "cell_type": "code",
   "execution_count": 240,
   "id": "29ea3265",
   "metadata": {},
   "outputs": [
    {
     "data": {
      "text/html": [
       "<style>#sk-container-id-3 {color: black;background-color: white;}#sk-container-id-3 pre{padding: 0;}#sk-container-id-3 div.sk-toggleable {background-color: white;}#sk-container-id-3 label.sk-toggleable__label {cursor: pointer;display: block;width: 100%;margin-bottom: 0;padding: 0.3em;box-sizing: border-box;text-align: center;}#sk-container-id-3 label.sk-toggleable__label-arrow:before {content: \"▸\";float: left;margin-right: 0.25em;color: #696969;}#sk-container-id-3 label.sk-toggleable__label-arrow:hover:before {color: black;}#sk-container-id-3 div.sk-estimator:hover label.sk-toggleable__label-arrow:before {color: black;}#sk-container-id-3 div.sk-toggleable__content {max-height: 0;max-width: 0;overflow: hidden;text-align: left;background-color: #f0f8ff;}#sk-container-id-3 div.sk-toggleable__content pre {margin: 0.2em;color: black;border-radius: 0.25em;background-color: #f0f8ff;}#sk-container-id-3 input.sk-toggleable__control:checked~div.sk-toggleable__content {max-height: 200px;max-width: 100%;overflow: auto;}#sk-container-id-3 input.sk-toggleable__control:checked~label.sk-toggleable__label-arrow:before {content: \"▾\";}#sk-container-id-3 div.sk-estimator input.sk-toggleable__control:checked~label.sk-toggleable__label {background-color: #d4ebff;}#sk-container-id-3 div.sk-label input.sk-toggleable__control:checked~label.sk-toggleable__label {background-color: #d4ebff;}#sk-container-id-3 input.sk-hidden--visually {border: 0;clip: rect(1px 1px 1px 1px);clip: rect(1px, 1px, 1px, 1px);height: 1px;margin: -1px;overflow: hidden;padding: 0;position: absolute;width: 1px;}#sk-container-id-3 div.sk-estimator {font-family: monospace;background-color: #f0f8ff;border: 1px dotted black;border-radius: 0.25em;box-sizing: border-box;margin-bottom: 0.5em;}#sk-container-id-3 div.sk-estimator:hover {background-color: #d4ebff;}#sk-container-id-3 div.sk-parallel-item::after {content: \"\";width: 100%;border-bottom: 1px solid gray;flex-grow: 1;}#sk-container-id-3 div.sk-label:hover label.sk-toggleable__label {background-color: #d4ebff;}#sk-container-id-3 div.sk-serial::before {content: \"\";position: absolute;border-left: 1px solid gray;box-sizing: border-box;top: 0;bottom: 0;left: 50%;z-index: 0;}#sk-container-id-3 div.sk-serial {display: flex;flex-direction: column;align-items: center;background-color: white;padding-right: 0.2em;padding-left: 0.2em;position: relative;}#sk-container-id-3 div.sk-item {position: relative;z-index: 1;}#sk-container-id-3 div.sk-parallel {display: flex;align-items: stretch;justify-content: center;background-color: white;position: relative;}#sk-container-id-3 div.sk-item::before, #sk-container-id-3 div.sk-parallel-item::before {content: \"\";position: absolute;border-left: 1px solid gray;box-sizing: border-box;top: 0;bottom: 0;left: 50%;z-index: -1;}#sk-container-id-3 div.sk-parallel-item {display: flex;flex-direction: column;z-index: 1;position: relative;background-color: white;}#sk-container-id-3 div.sk-parallel-item:first-child::after {align-self: flex-end;width: 50%;}#sk-container-id-3 div.sk-parallel-item:last-child::after {align-self: flex-start;width: 50%;}#sk-container-id-3 div.sk-parallel-item:only-child::after {width: 0;}#sk-container-id-3 div.sk-dashed-wrapped {border: 1px dashed gray;margin: 0 0.4em 0.5em 0.4em;box-sizing: border-box;padding-bottom: 0.4em;background-color: white;}#sk-container-id-3 div.sk-label label {font-family: monospace;font-weight: bold;display: inline-block;line-height: 1.2em;}#sk-container-id-3 div.sk-label-container {text-align: center;}#sk-container-id-3 div.sk-container {/* jupyter's `normalize.less` sets `[hidden] { display: none; }` but bootstrap.min.css set `[hidden] { display: none !important; }` so we also need the `!important` here to be able to override the default hidden behavior on the sphinx rendered scikit-learn.org. See: https://github.com/scikit-learn/scikit-learn/issues/21755 */display: inline-block !important;position: relative;}#sk-container-id-3 div.sk-text-repr-fallback {display: none;}</style><div id=\"sk-container-id-3\" class=\"sk-top-container\"><div class=\"sk-text-repr-fallback\"><pre>AdaBoostClassifier(estimator=DecisionTreeClassifier(max_depth=1),\n",
       "                   random_state=42)</pre><b>In a Jupyter environment, please rerun this cell to show the HTML representation or trust the notebook. <br />On GitHub, the HTML representation is unable to render, please try loading this page with nbviewer.org.</b></div><div class=\"sk-container\" hidden><div class=\"sk-item sk-dashed-wrapped\"><div class=\"sk-label-container\"><div class=\"sk-label sk-toggleable\"><input class=\"sk-toggleable__control sk-hidden--visually\" id=\"sk-estimator-id-3\" type=\"checkbox\" ><label for=\"sk-estimator-id-3\" class=\"sk-toggleable__label sk-toggleable__label-arrow\">AdaBoostClassifier</label><div class=\"sk-toggleable__content\"><pre>AdaBoostClassifier(estimator=DecisionTreeClassifier(max_depth=1),\n",
       "                   random_state=42)</pre></div></div></div><div class=\"sk-parallel\"><div class=\"sk-parallel-item\"><div class=\"sk-item\"><div class=\"sk-label-container\"><div class=\"sk-label sk-toggleable\"><input class=\"sk-toggleable__control sk-hidden--visually\" id=\"sk-estimator-id-4\" type=\"checkbox\" ><label for=\"sk-estimator-id-4\" class=\"sk-toggleable__label sk-toggleable__label-arrow\">estimator: DecisionTreeClassifier</label><div class=\"sk-toggleable__content\"><pre>DecisionTreeClassifier(max_depth=1)</pre></div></div></div><div class=\"sk-serial\"><div class=\"sk-item\"><div class=\"sk-estimator sk-toggleable\"><input class=\"sk-toggleable__control sk-hidden--visually\" id=\"sk-estimator-id-5\" type=\"checkbox\" ><label for=\"sk-estimator-id-5\" class=\"sk-toggleable__label sk-toggleable__label-arrow\">DecisionTreeClassifier</label><div class=\"sk-toggleable__content\"><pre>DecisionTreeClassifier(max_depth=1)</pre></div></div></div></div></div></div></div></div></div></div>"
      ],
      "text/plain": [
       "AdaBoostClassifier(estimator=DecisionTreeClassifier(max_depth=1),\n",
       "                   random_state=42)"
      ]
     },
     "execution_count": 240,
     "metadata": {},
     "output_type": "execute_result"
    }
   ],
   "source": [
    "# Create a base classifier\n",
    "base_classifier = DecisionTreeClassifier(max_depth=1)\n",
    "\n",
    "# Create AdaBoost model with sample weights\n",
    "adaboost_model = AdaBoostClassifier(base_classifier, n_estimators=50, random_state=42)\n",
    "sample_weights = np.array([c_weightS_dict[y] for y in y_train_AB])\n",
    "adaboost_model.fit(X_train_AB, y_train_AB, sample_weight=sample_weights)"
   ]
  },
  {
   "cell_type": "code",
   "execution_count": 243,
   "id": "f4fed636",
   "metadata": {},
   "outputs": [],
   "source": [
    "X_test_AB = np.vstack(test['glove'].to_numpy())\n",
    "y_test_AB = np.array(test['sentiment'])"
   ]
  },
  {
   "cell_type": "code",
   "execution_count": 244,
   "id": "fd22fefe",
   "metadata": {},
   "outputs": [],
   "source": [
    "# Predictions\n",
    "ab_predictions = adaboost_model.predict(X_test_AB)"
   ]
  },
  {
   "cell_type": "markdown",
   "id": "4fad0a92",
   "metadata": {},
   "source": [
    "# Evaluate"
   ]
  },
  {
   "cell_type": "code",
   "execution_count": 245,
   "id": "9db6533d",
   "metadata": {},
   "outputs": [
    {
     "name": "stdout",
     "output_type": "stream",
     "text": [
      "AB Precision: 0.3954897309888362\n",
      "AB Recall: 0.39549347020145204\n",
      "AB F1-Score: 0.3931172747666833\n",
      "AB Confusion Matrix:\n",
      "[[66 23 31 28]\n",
      " [31 45 32 26]\n",
      " [20 23 57 26]\n",
      " [23 16 21 32]]\n"
     ]
    }
   ],
   "source": [
    "# Replace 'binary' with the desired average setting ('micro', 'macro', 'weighted', or None)\n",
    "average_setting = 'macro'\n",
    "# Calculate precision, recall, and F1-score with the specified average setting and conf_matrix\n",
    "precision = precision_score(y_test_AB, ab_predictions, average=average_setting)\n",
    "recall = recall_score(y_test_AB, ab_predictions, average=average_setting)\n",
    "f1 = f1_score(y_test_AB, ab_predictions, average=average_setting)\n",
    "conf_matrix = confusion_matrix(y_test_AB, ab_predictions)\n",
    "\n",
    "# Print additional metrics\n",
    "print(\"AB Precision:\", precision)\n",
    "print(\"AB Recall:\", recall)\n",
    "print(\"AB F1-Score:\", f1)\n",
    "print(\"AB Confusion Matrix:\")\n",
    "print(conf_matrix)"
   ]
  },
  {
   "cell_type": "code",
   "execution_count": 246,
   "id": "b985efc3",
   "metadata": {},
   "outputs": [
    {
     "name": "stdout",
     "output_type": "stream",
     "text": [
      "AB Accuracy: 0.4\n",
      "AB Classification Report:\n",
      "              precision    recall  f1-score   support\n",
      "\n",
      "           0       0.47      0.45      0.46       148\n",
      "           1       0.42      0.34      0.37       134\n",
      "           2       0.40      0.45      0.43       126\n",
      "           3       0.29      0.35      0.31        92\n",
      "\n",
      "    accuracy                           0.40       500\n",
      "   macro avg       0.40      0.40      0.39       500\n",
      "weighted avg       0.41      0.40      0.40       500\n",
      "\n"
     ]
    }
   ],
   "source": [
    "# Calculate accuracy\n",
    "ab_accuracy = accuracy_score(y_test_AB, ab_predictions)\n",
    "print(\"AB Accuracy:\", ab_accuracy)\n",
    "print(\"AB Classification Report:\")\n",
    "print(classification_report(y_test_AB, ab_predictions))"
   ]
  },
  {
   "cell_type": "code",
   "execution_count": 273,
   "id": "42da1a05",
   "metadata": {},
   "outputs": [],
   "source": [
    "# Create X_val and y_val\n",
    "X_val_AB = np.vstack(validation['glove'].to_numpy())\n",
    "y_val_AB = np.array(validation['sentiment'])"
   ]
  },
  {
   "cell_type": "code",
   "execution_count": 274,
   "id": "a93c8b2e",
   "metadata": {},
   "outputs": [],
   "source": [
    "# Make predictions on the Twitter-validation dataset\n",
    "validation['predicted AB'] = adaboost_model.predict(X_val_AB)\n",
    "# Save the result to an Excel file\n",
    "validation.to_excel('AB_validation.xlsx', index=False)"
   ]
  },
  {
   "cell_type": "code",
   "execution_count": 275,
   "id": "c7901c5d",
   "metadata": {},
   "outputs": [
    {
     "data": {
      "text/html": [
       "<div>\n",
       "<style scoped>\n",
       "    .dataframe tbody tr th:only-of-type {\n",
       "        vertical-align: middle;\n",
       "    }\n",
       "\n",
       "    .dataframe tbody tr th {\n",
       "        vertical-align: top;\n",
       "    }\n",
       "\n",
       "    .dataframe thead th {\n",
       "        text-align: right;\n",
       "    }\n",
       "</style>\n",
       "<table border=\"1\" class=\"dataframe\">\n",
       "  <thead>\n",
       "    <tr style=\"text-align: right;\">\n",
       "      <th></th>\n",
       "      <th>Tweet ID</th>\n",
       "      <th>sentiment</th>\n",
       "      <th>Tweet content</th>\n",
       "      <th>glove</th>\n",
       "      <th>predicted RF</th>\n",
       "      <th>predicted AB</th>\n",
       "    </tr>\n",
       "  </thead>\n",
       "  <tbody>\n",
       "    <tr>\n",
       "      <th>0</th>\n",
       "      <td>5328</td>\n",
       "      <td>2</td>\n",
       "      <td>[what, go, hearthston, ipad, delet, app, redow...</td>\n",
       "      <td>[-0.23164419166666672, 0.08814575000000001, 0....</td>\n",
       "      <td>2</td>\n",
       "      <td>2</td>\n",
       "    </tr>\n",
       "    <tr>\n",
       "      <th>1</th>\n",
       "      <td>7618</td>\n",
       "      <td>2</td>\n",
       "      <td>[reason, offlin, franchis, lag, much, everi, p...</td>\n",
       "      <td>[-0.10516433333333332, 0.1453330666666667, 0.3...</td>\n",
       "      <td>2</td>\n",
       "      <td>2</td>\n",
       "    </tr>\n",
       "    <tr>\n",
       "      <th>2</th>\n",
       "      <td>7108</td>\n",
       "      <td>2</td>\n",
       "      <td>[johnson, johnson, enter, phase, trial, covid,...</td>\n",
       "      <td>[0.16724147499999997, 0.16982825, -0.085520749...</td>\n",
       "      <td>2</td>\n",
       "      <td>1</td>\n",
       "    </tr>\n",
       "    <tr>\n",
       "      <th>3</th>\n",
       "      <td>10008</td>\n",
       "      <td>2</td>\n",
       "      <td>[ban, pubg, go, fix, anyth, gonna, make, every...</td>\n",
       "      <td>[-0.10824925, -0.10192599999999999, 0.36323537...</td>\n",
       "      <td>2</td>\n",
       "      <td>2</td>\n",
       "    </tr>\n",
       "    <tr>\n",
       "      <th>4</th>\n",
       "      <td>49</td>\n",
       "      <td>1</td>\n",
       "      <td>[play, interest, quiz, amazon, tri, luck, chan...</td>\n",
       "      <td>[-0.08037875, 0.07925562500000001, 0.578732749...</td>\n",
       "      <td>1</td>\n",
       "      <td>0</td>\n",
       "    </tr>\n",
       "    <tr>\n",
       "      <th>...</th>\n",
       "      <td>...</td>\n",
       "      <td>...</td>\n",
       "      <td>...</td>\n",
       "      <td>...</td>\n",
       "      <td>...</td>\n",
       "      <td>...</td>\n",
       "    </tr>\n",
       "    <tr>\n",
       "      <th>495</th>\n",
       "      <td>4891</td>\n",
       "      <td>3</td>\n",
       "      <td>[toronto, art, cultur, capit, canada, wonder, ...</td>\n",
       "      <td>[-0.02551884999999999, 0.1338046, 0.3785477549...</td>\n",
       "      <td>3</td>\n",
       "      <td>2</td>\n",
       "    </tr>\n",
       "    <tr>\n",
       "      <th>496</th>\n",
       "      <td>4359</td>\n",
       "      <td>3</td>\n",
       "      <td>[actual, good, move, tot, bring, viewersi, one...</td>\n",
       "      <td>[-0.0725632272727273, 0.09103040363636365, 0.3...</td>\n",
       "      <td>3</td>\n",
       "      <td>0</td>\n",
       "    </tr>\n",
       "    <tr>\n",
       "      <th>497</th>\n",
       "      <td>2652</td>\n",
       "      <td>0</td>\n",
       "      <td>[today, suck, time, drink, wine, n, play, bord...</td>\n",
       "      <td>[-0.2767736153846154, 0.27156199999999997, 0.4...</td>\n",
       "      <td>0</td>\n",
       "      <td>0</td>\n",
       "    </tr>\n",
       "    <tr>\n",
       "      <th>498</th>\n",
       "      <td>8069</td>\n",
       "      <td>0</td>\n",
       "      <td>[bought, fraction, microsoft, today, small, win]</td>\n",
       "      <td>[-0.04612666666666665, 0.3582155166666667, 0.2...</td>\n",
       "      <td>0</td>\n",
       "      <td>1</td>\n",
       "    </tr>\n",
       "    <tr>\n",
       "      <th>499</th>\n",
       "      <td>6960</td>\n",
       "      <td>1</td>\n",
       "      <td>[johnson, johnson, stop, sell, talc, babi, pow...</td>\n",
       "      <td>[0.22461559999999997, 0.13820400000000005, 0.1...</td>\n",
       "      <td>1</td>\n",
       "      <td>1</td>\n",
       "    </tr>\n",
       "  </tbody>\n",
       "</table>\n",
       "<p>500 rows × 6 columns</p>\n",
       "</div>"
      ],
      "text/plain": [
       "     Tweet ID  sentiment                                      Tweet content  \\\n",
       "0        5328          2  [what, go, hearthston, ipad, delet, app, redow...   \n",
       "1        7618          2  [reason, offlin, franchis, lag, much, everi, p...   \n",
       "2        7108          2  [johnson, johnson, enter, phase, trial, covid,...   \n",
       "3       10008          2  [ban, pubg, go, fix, anyth, gonna, make, every...   \n",
       "4          49          1  [play, interest, quiz, amazon, tri, luck, chan...   \n",
       "..        ...        ...                                                ...   \n",
       "495      4891          3  [toronto, art, cultur, capit, canada, wonder, ...   \n",
       "496      4359          3  [actual, good, move, tot, bring, viewersi, one...   \n",
       "497      2652          0  [today, suck, time, drink, wine, n, play, bord...   \n",
       "498      8069          0   [bought, fraction, microsoft, today, small, win]   \n",
       "499      6960          1  [johnson, johnson, stop, sell, talc, babi, pow...   \n",
       "\n",
       "                                                 glove  predicted RF  \\\n",
       "0    [-0.23164419166666672, 0.08814575000000001, 0....             2   \n",
       "1    [-0.10516433333333332, 0.1453330666666667, 0.3...             2   \n",
       "2    [0.16724147499999997, 0.16982825, -0.085520749...             2   \n",
       "3    [-0.10824925, -0.10192599999999999, 0.36323537...             2   \n",
       "4    [-0.08037875, 0.07925562500000001, 0.578732749...             1   \n",
       "..                                                 ...           ...   \n",
       "495  [-0.02551884999999999, 0.1338046, 0.3785477549...             3   \n",
       "496  [-0.0725632272727273, 0.09103040363636365, 0.3...             3   \n",
       "497  [-0.2767736153846154, 0.27156199999999997, 0.4...             0   \n",
       "498  [-0.04612666666666665, 0.3582155166666667, 0.2...             0   \n",
       "499  [0.22461559999999997, 0.13820400000000005, 0.1...             1   \n",
       "\n",
       "     predicted AB  \n",
       "0               2  \n",
       "1               2  \n",
       "2               1  \n",
       "3               2  \n",
       "4               0  \n",
       "..            ...  \n",
       "495             2  \n",
       "496             0  \n",
       "497             0  \n",
       "498             1  \n",
       "499             1  \n",
       "\n",
       "[500 rows x 6 columns]"
      ]
     },
     "execution_count": 275,
     "metadata": {},
     "output_type": "execute_result"
    }
   ],
   "source": [
    "validation"
   ]
  },
  {
   "cell_type": "markdown",
   "id": "5e91128b",
   "metadata": {},
   "source": [
    "# Results"
   ]
  },
  {
   "cell_type": "code",
   "execution_count": 276,
   "id": "c7ca970f",
   "metadata": {},
   "outputs": [
    {
     "name": "stdout",
     "output_type": "stream",
     "text": [
      "Number of Correct Predictions: 208\n"
     ]
    }
   ],
   "source": [
    "result_AB = pd.read_excel('AB_validation.xlsx')\n",
    "true_sentiment = result_AB['sentiment']\n",
    "predicted_sentiment = result_AB['predicted AB']\n",
    "# Calculate the number of correct predictions\n",
    "correct_predictions = sum(true_sentiment == predicted_sentiment)\n",
    "# Print the number of correct predictions\n",
    "print(f'Number of Correct Predictions: {correct_predictions}')"
   ]
  },
  {
   "cell_type": "markdown",
   "id": "c8ba3274",
   "metadata": {},
   "source": [
    "# Train Model"
   ]
  },
  {
   "cell_type": "markdown",
   "id": "96e3c70b",
   "metadata": {},
   "source": [
    "# Logistic Regression"
   ]
  },
  {
   "cell_type": "code",
   "execution_count": 247,
   "id": "e0a39f93",
   "metadata": {},
   "outputs": [],
   "source": [
    "# Create X_train and y_train\n",
    "X_train_LR = np.vstack(training['glove'].to_numpy())\n",
    "y_train_LR = np.array(training['sentiment'])"
   ]
  },
  {
   "cell_type": "code",
   "execution_count": 251,
   "id": "2215a336",
   "metadata": {},
   "outputs": [
    {
     "data": {
      "text/html": [
       "<style>#sk-container-id-5 {color: black;background-color: white;}#sk-container-id-5 pre{padding: 0;}#sk-container-id-5 div.sk-toggleable {background-color: white;}#sk-container-id-5 label.sk-toggleable__label {cursor: pointer;display: block;width: 100%;margin-bottom: 0;padding: 0.3em;box-sizing: border-box;text-align: center;}#sk-container-id-5 label.sk-toggleable__label-arrow:before {content: \"▸\";float: left;margin-right: 0.25em;color: #696969;}#sk-container-id-5 label.sk-toggleable__label-arrow:hover:before {color: black;}#sk-container-id-5 div.sk-estimator:hover label.sk-toggleable__label-arrow:before {color: black;}#sk-container-id-5 div.sk-toggleable__content {max-height: 0;max-width: 0;overflow: hidden;text-align: left;background-color: #f0f8ff;}#sk-container-id-5 div.sk-toggleable__content pre {margin: 0.2em;color: black;border-radius: 0.25em;background-color: #f0f8ff;}#sk-container-id-5 input.sk-toggleable__control:checked~div.sk-toggleable__content {max-height: 200px;max-width: 100%;overflow: auto;}#sk-container-id-5 input.sk-toggleable__control:checked~label.sk-toggleable__label-arrow:before {content: \"▾\";}#sk-container-id-5 div.sk-estimator input.sk-toggleable__control:checked~label.sk-toggleable__label {background-color: #d4ebff;}#sk-container-id-5 div.sk-label input.sk-toggleable__control:checked~label.sk-toggleable__label {background-color: #d4ebff;}#sk-container-id-5 input.sk-hidden--visually {border: 0;clip: rect(1px 1px 1px 1px);clip: rect(1px, 1px, 1px, 1px);height: 1px;margin: -1px;overflow: hidden;padding: 0;position: absolute;width: 1px;}#sk-container-id-5 div.sk-estimator {font-family: monospace;background-color: #f0f8ff;border: 1px dotted black;border-radius: 0.25em;box-sizing: border-box;margin-bottom: 0.5em;}#sk-container-id-5 div.sk-estimator:hover {background-color: #d4ebff;}#sk-container-id-5 div.sk-parallel-item::after {content: \"\";width: 100%;border-bottom: 1px solid gray;flex-grow: 1;}#sk-container-id-5 div.sk-label:hover label.sk-toggleable__label {background-color: #d4ebff;}#sk-container-id-5 div.sk-serial::before {content: \"\";position: absolute;border-left: 1px solid gray;box-sizing: border-box;top: 0;bottom: 0;left: 50%;z-index: 0;}#sk-container-id-5 div.sk-serial {display: flex;flex-direction: column;align-items: center;background-color: white;padding-right: 0.2em;padding-left: 0.2em;position: relative;}#sk-container-id-5 div.sk-item {position: relative;z-index: 1;}#sk-container-id-5 div.sk-parallel {display: flex;align-items: stretch;justify-content: center;background-color: white;position: relative;}#sk-container-id-5 div.sk-item::before, #sk-container-id-5 div.sk-parallel-item::before {content: \"\";position: absolute;border-left: 1px solid gray;box-sizing: border-box;top: 0;bottom: 0;left: 50%;z-index: -1;}#sk-container-id-5 div.sk-parallel-item {display: flex;flex-direction: column;z-index: 1;position: relative;background-color: white;}#sk-container-id-5 div.sk-parallel-item:first-child::after {align-self: flex-end;width: 50%;}#sk-container-id-5 div.sk-parallel-item:last-child::after {align-self: flex-start;width: 50%;}#sk-container-id-5 div.sk-parallel-item:only-child::after {width: 0;}#sk-container-id-5 div.sk-dashed-wrapped {border: 1px dashed gray;margin: 0 0.4em 0.5em 0.4em;box-sizing: border-box;padding-bottom: 0.4em;background-color: white;}#sk-container-id-5 div.sk-label label {font-family: monospace;font-weight: bold;display: inline-block;line-height: 1.2em;}#sk-container-id-5 div.sk-label-container {text-align: center;}#sk-container-id-5 div.sk-container {/* jupyter's `normalize.less` sets `[hidden] { display: none; }` but bootstrap.min.css set `[hidden] { display: none !important; }` so we also need the `!important` here to be able to override the default hidden behavior on the sphinx rendered scikit-learn.org. See: https://github.com/scikit-learn/scikit-learn/issues/21755 */display: inline-block !important;position: relative;}#sk-container-id-5 div.sk-text-repr-fallback {display: none;}</style><div id=\"sk-container-id-5\" class=\"sk-top-container\"><div class=\"sk-text-repr-fallback\"><pre>LogisticRegression(class_weight={0: 0.8944976425411948, 1: 1.0237260792167335,\n",
       "                                 2: 0.8269299901141368, 3: 1.436909502615757},\n",
       "                   max_iter=1000, random_state=42)</pre><b>In a Jupyter environment, please rerun this cell to show the HTML representation or trust the notebook. <br />On GitHub, the HTML representation is unable to render, please try loading this page with nbviewer.org.</b></div><div class=\"sk-container\" hidden><div class=\"sk-item\"><div class=\"sk-estimator sk-toggleable\"><input class=\"sk-toggleable__control sk-hidden--visually\" id=\"sk-estimator-id-7\" type=\"checkbox\" checked><label for=\"sk-estimator-id-7\" class=\"sk-toggleable__label sk-toggleable__label-arrow\">LogisticRegression</label><div class=\"sk-toggleable__content\"><pre>LogisticRegression(class_weight={0: 0.8944976425411948, 1: 1.0237260792167335,\n",
       "                                 2: 0.8269299901141368, 3: 1.436909502615757},\n",
       "                   max_iter=1000, random_state=42)</pre></div></div></div></div></div>"
      ],
      "text/plain": [
       "LogisticRegression(class_weight={0: 0.8944976425411948, 1: 1.0237260792167335,\n",
       "                                 2: 0.8269299901141368, 3: 1.436909502615757},\n",
       "                   max_iter=1000, random_state=42)"
      ]
     },
     "execution_count": 251,
     "metadata": {},
     "output_type": "execute_result"
    }
   ],
   "source": [
    "# Logistic Regression Model\n",
    "lr_model = LogisticRegression(random_state=42, class_weight=c_weightS_dict,max_iter=1000)\n",
    "lr_model.fit(X_train_LR, y_train_LR)"
   ]
  },
  {
   "cell_type": "code",
   "execution_count": 252,
   "id": "aa703cbf",
   "metadata": {},
   "outputs": [],
   "source": [
    "X_test_LR = np.vstack(test['glove'].to_numpy())\n",
    "y_test_LR = np.array(test['sentiment'])"
   ]
  },
  {
   "cell_type": "code",
   "execution_count": 253,
   "id": "4eda9654",
   "metadata": {},
   "outputs": [],
   "source": [
    "# Predictions\n",
    "lr_predictions = lr_model.predict(X_test_LR)"
   ]
  },
  {
   "cell_type": "markdown",
   "id": "eb85dac0",
   "metadata": {},
   "source": [
    "# Evaluate"
   ]
  },
  {
   "cell_type": "code",
   "execution_count": 254,
   "id": "c131fcae",
   "metadata": {},
   "outputs": [
    {
     "name": "stdout",
     "output_type": "stream",
     "text": [
      "LR Precision: 0.4509825409099288\n",
      "LR Recall: 0.4510255017231007\n",
      "LR F1-Score: 0.4496989480028065\n",
      "LR Confusion Matrix:\n",
      "[[66 23 31 28]\n",
      " [31 45 32 26]\n",
      " [20 23 57 26]\n",
      " [23 16 21 32]]\n"
     ]
    }
   ],
   "source": [
    "# Replace 'binary' with the desired average setting ('micro', 'macro', 'weighted', or None)\n",
    "average_setting = 'macro'\n",
    "# Calculate precision, recall, and F1-score with the specified average setting and conf_matrix\n",
    "precision = precision_score(y_test_LR, lr_predictions, average=average_setting)\n",
    "recall = recall_score(y_test_LR, lr_predictions, average=average_setting)\n",
    "f1 = f1_score(y_test_LR, lr_predictions, average=average_setting)\n",
    "conf_matrix = confusion_matrix(y_test_LR, ab_predictions)\n",
    "\n",
    "# Print additional metrics\n",
    "print(\"LR Precision:\", precision)\n",
    "print(\"LR Recall:\", recall)\n",
    "print(\"LR F1-Score:\", f1)\n",
    "print(\"LR Confusion Matrix:\")\n",
    "print(conf_matrix)"
   ]
  },
  {
   "cell_type": "code",
   "execution_count": 255,
   "id": "f8602d77",
   "metadata": {},
   "outputs": [
    {
     "name": "stdout",
     "output_type": "stream",
     "text": [
      "AB Accuracy: 0.456\n",
      "AB Classification Report:\n",
      "              precision    recall  f1-score   support\n",
      "\n",
      "           0       0.52      0.47      0.49       148\n",
      "           1       0.49      0.45      0.47       134\n",
      "           2       0.47      0.49      0.48       126\n",
      "           3       0.32      0.39      0.35        92\n",
      "\n",
      "    accuracy                           0.46       500\n",
      "   macro avg       0.45      0.45      0.45       500\n",
      "weighted avg       0.46      0.46      0.46       500\n",
      "\n"
     ]
    }
   ],
   "source": [
    "# Calculate accuracy\n",
    "lr_accuracy = accuracy_score(y_test_LR, lr_predictions)\n",
    "print(\"AB Accuracy:\", lr_accuracy)\n",
    "print(\"AB Classification Report:\")\n",
    "print(classification_report(y_test_LR, lr_predictions))"
   ]
  },
  {
   "cell_type": "code",
   "execution_count": 278,
   "id": "8333d407",
   "metadata": {},
   "outputs": [],
   "source": [
    "# Create X_val and y_val\n",
    "X_val_LR = np.vstack(validation['glove'].to_numpy())\n",
    "y_val_LR = np.array(validation['sentiment'])"
   ]
  },
  {
   "cell_type": "code",
   "execution_count": 288,
   "id": "bcc3d827",
   "metadata": {},
   "outputs": [],
   "source": [
    "# Make predictions on the Twitter-validation dataset\n",
    "validation['predicted LR'] = lr_model.predict(X_val_LR)\n",
    "# Save the result to an Excel file\n",
    "validation.to_excel('LR_validation.xlsx', index=False)"
   ]
  },
  {
   "cell_type": "code",
   "execution_count": 280,
   "id": "ec0926ee",
   "metadata": {},
   "outputs": [
    {
     "data": {
      "text/html": [
       "<div>\n",
       "<style scoped>\n",
       "    .dataframe tbody tr th:only-of-type {\n",
       "        vertical-align: middle;\n",
       "    }\n",
       "\n",
       "    .dataframe tbody tr th {\n",
       "        vertical-align: top;\n",
       "    }\n",
       "\n",
       "    .dataframe thead th {\n",
       "        text-align: right;\n",
       "    }\n",
       "</style>\n",
       "<table border=\"1\" class=\"dataframe\">\n",
       "  <thead>\n",
       "    <tr style=\"text-align: right;\">\n",
       "      <th></th>\n",
       "      <th>Tweet ID</th>\n",
       "      <th>sentiment</th>\n",
       "      <th>Tweet content</th>\n",
       "      <th>glove</th>\n",
       "      <th>predicted RF</th>\n",
       "      <th>predicted AB</th>\n",
       "      <th>predicted LR</th>\n",
       "    </tr>\n",
       "  </thead>\n",
       "  <tbody>\n",
       "    <tr>\n",
       "      <th>0</th>\n",
       "      <td>5328</td>\n",
       "      <td>2</td>\n",
       "      <td>[what, go, hearthston, ipad, delet, app, redow...</td>\n",
       "      <td>[-0.23164419166666672, 0.08814575000000001, 0....</td>\n",
       "      <td>2</td>\n",
       "      <td>2</td>\n",
       "      <td>2</td>\n",
       "    </tr>\n",
       "    <tr>\n",
       "      <th>1</th>\n",
       "      <td>7618</td>\n",
       "      <td>2</td>\n",
       "      <td>[reason, offlin, franchis, lag, much, everi, p...</td>\n",
       "      <td>[-0.10516433333333332, 0.1453330666666667, 0.3...</td>\n",
       "      <td>2</td>\n",
       "      <td>2</td>\n",
       "      <td>2</td>\n",
       "    </tr>\n",
       "    <tr>\n",
       "      <th>2</th>\n",
       "      <td>7108</td>\n",
       "      <td>2</td>\n",
       "      <td>[johnson, johnson, enter, phase, trial, covid,...</td>\n",
       "      <td>[0.16724147499999997, 0.16982825, -0.085520749...</td>\n",
       "      <td>2</td>\n",
       "      <td>1</td>\n",
       "      <td>1</td>\n",
       "    </tr>\n",
       "    <tr>\n",
       "      <th>3</th>\n",
       "      <td>10008</td>\n",
       "      <td>2</td>\n",
       "      <td>[ban, pubg, go, fix, anyth, gonna, make, every...</td>\n",
       "      <td>[-0.10824925, -0.10192599999999999, 0.36323537...</td>\n",
       "      <td>2</td>\n",
       "      <td>2</td>\n",
       "      <td>2</td>\n",
       "    </tr>\n",
       "    <tr>\n",
       "      <th>4</th>\n",
       "      <td>49</td>\n",
       "      <td>1</td>\n",
       "      <td>[play, interest, quiz, amazon, tri, luck, chan...</td>\n",
       "      <td>[-0.08037875, 0.07925562500000001, 0.578732749...</td>\n",
       "      <td>1</td>\n",
       "      <td>0</td>\n",
       "      <td>0</td>\n",
       "    </tr>\n",
       "    <tr>\n",
       "      <th>...</th>\n",
       "      <td>...</td>\n",
       "      <td>...</td>\n",
       "      <td>...</td>\n",
       "      <td>...</td>\n",
       "      <td>...</td>\n",
       "      <td>...</td>\n",
       "      <td>...</td>\n",
       "    </tr>\n",
       "    <tr>\n",
       "      <th>495</th>\n",
       "      <td>4891</td>\n",
       "      <td>3</td>\n",
       "      <td>[toronto, art, cultur, capit, canada, wonder, ...</td>\n",
       "      <td>[-0.02551884999999999, 0.1338046, 0.3785477549...</td>\n",
       "      <td>3</td>\n",
       "      <td>2</td>\n",
       "      <td>2</td>\n",
       "    </tr>\n",
       "    <tr>\n",
       "      <th>496</th>\n",
       "      <td>4359</td>\n",
       "      <td>3</td>\n",
       "      <td>[actual, good, move, tot, bring, viewersi, one...</td>\n",
       "      <td>[-0.0725632272727273, 0.09103040363636365, 0.3...</td>\n",
       "      <td>3</td>\n",
       "      <td>0</td>\n",
       "      <td>0</td>\n",
       "    </tr>\n",
       "    <tr>\n",
       "      <th>497</th>\n",
       "      <td>2652</td>\n",
       "      <td>0</td>\n",
       "      <td>[today, suck, time, drink, wine, n, play, bord...</td>\n",
       "      <td>[-0.2767736153846154, 0.27156199999999997, 0.4...</td>\n",
       "      <td>0</td>\n",
       "      <td>0</td>\n",
       "      <td>0</td>\n",
       "    </tr>\n",
       "    <tr>\n",
       "      <th>498</th>\n",
       "      <td>8069</td>\n",
       "      <td>0</td>\n",
       "      <td>[bought, fraction, microsoft, today, small, win]</td>\n",
       "      <td>[-0.04612666666666665, 0.3582155166666667, 0.2...</td>\n",
       "      <td>0</td>\n",
       "      <td>1</td>\n",
       "      <td>1</td>\n",
       "    </tr>\n",
       "    <tr>\n",
       "      <th>499</th>\n",
       "      <td>6960</td>\n",
       "      <td>1</td>\n",
       "      <td>[johnson, johnson, stop, sell, talc, babi, pow...</td>\n",
       "      <td>[0.22461559999999997, 0.13820400000000005, 0.1...</td>\n",
       "      <td>1</td>\n",
       "      <td>1</td>\n",
       "      <td>1</td>\n",
       "    </tr>\n",
       "  </tbody>\n",
       "</table>\n",
       "<p>500 rows × 7 columns</p>\n",
       "</div>"
      ],
      "text/plain": [
       "     Tweet ID  sentiment                                      Tweet content  \\\n",
       "0        5328          2  [what, go, hearthston, ipad, delet, app, redow...   \n",
       "1        7618          2  [reason, offlin, franchis, lag, much, everi, p...   \n",
       "2        7108          2  [johnson, johnson, enter, phase, trial, covid,...   \n",
       "3       10008          2  [ban, pubg, go, fix, anyth, gonna, make, every...   \n",
       "4          49          1  [play, interest, quiz, amazon, tri, luck, chan...   \n",
       "..        ...        ...                                                ...   \n",
       "495      4891          3  [toronto, art, cultur, capit, canada, wonder, ...   \n",
       "496      4359          3  [actual, good, move, tot, bring, viewersi, one...   \n",
       "497      2652          0  [today, suck, time, drink, wine, n, play, bord...   \n",
       "498      8069          0   [bought, fraction, microsoft, today, small, win]   \n",
       "499      6960          1  [johnson, johnson, stop, sell, talc, babi, pow...   \n",
       "\n",
       "                                                 glove  predicted RF  \\\n",
       "0    [-0.23164419166666672, 0.08814575000000001, 0....             2   \n",
       "1    [-0.10516433333333332, 0.1453330666666667, 0.3...             2   \n",
       "2    [0.16724147499999997, 0.16982825, -0.085520749...             2   \n",
       "3    [-0.10824925, -0.10192599999999999, 0.36323537...             2   \n",
       "4    [-0.08037875, 0.07925562500000001, 0.578732749...             1   \n",
       "..                                                 ...           ...   \n",
       "495  [-0.02551884999999999, 0.1338046, 0.3785477549...             3   \n",
       "496  [-0.0725632272727273, 0.09103040363636365, 0.3...             3   \n",
       "497  [-0.2767736153846154, 0.27156199999999997, 0.4...             0   \n",
       "498  [-0.04612666666666665, 0.3582155166666667, 0.2...             0   \n",
       "499  [0.22461559999999997, 0.13820400000000005, 0.1...             1   \n",
       "\n",
       "     predicted AB  predicted LR  \n",
       "0               2             2  \n",
       "1               2             2  \n",
       "2               1             1  \n",
       "3               2             2  \n",
       "4               0             0  \n",
       "..            ...           ...  \n",
       "495             2             2  \n",
       "496             0             0  \n",
       "497             0             0  \n",
       "498             1             1  \n",
       "499             1             1  \n",
       "\n",
       "[500 rows x 7 columns]"
      ]
     },
     "execution_count": 280,
     "metadata": {},
     "output_type": "execute_result"
    }
   ],
   "source": [
    "validation"
   ]
  },
  {
   "cell_type": "markdown",
   "id": "66512be9",
   "metadata": {},
   "source": [
    "# Results"
   ]
  },
  {
   "cell_type": "code",
   "execution_count": 281,
   "id": "68dee339",
   "metadata": {},
   "outputs": [
    {
     "name": "stdout",
     "output_type": "stream",
     "text": [
      "Number of Correct Predictions: 208\n"
     ]
    }
   ],
   "source": [
    "result_LR = pd.read_excel('LR_validation.xlsx')\n",
    "true_sentiment = result_LR['sentiment']\n",
    "predicted_sentiment = result_LR['predicted LR']\n",
    "# Calculate the number of correct predictions\n",
    "correct_predictions = sum(true_sentiment == predicted_sentiment)\n",
    "# Print the number of correct predictions\n",
    "print(f'Number of Correct Predictions: {correct_predictions}')"
   ]
  },
  {
   "cell_type": "markdown",
   "id": "89aaaf97",
   "metadata": {},
   "source": [
    "# Train Model"
   ]
  },
  {
   "cell_type": "markdown",
   "id": "f01ce2fc",
   "metadata": {},
   "source": [
    "# SVM"
   ]
  },
  {
   "cell_type": "code",
   "execution_count": 256,
   "id": "68d47b69",
   "metadata": {},
   "outputs": [],
   "source": [
    "# Create X_train and y_train\n",
    "X_train_SVM = np.vstack(training['glove'].to_numpy())\n",
    "y_train_SVM = np.array(training['sentiment'])"
   ]
  },
  {
   "cell_type": "code",
   "execution_count": 258,
   "id": "f07acd69",
   "metadata": {},
   "outputs": [
    {
     "data": {
      "text/html": [
       "<style>#sk-container-id-6 {color: black;background-color: white;}#sk-container-id-6 pre{padding: 0;}#sk-container-id-6 div.sk-toggleable {background-color: white;}#sk-container-id-6 label.sk-toggleable__label {cursor: pointer;display: block;width: 100%;margin-bottom: 0;padding: 0.3em;box-sizing: border-box;text-align: center;}#sk-container-id-6 label.sk-toggleable__label-arrow:before {content: \"▸\";float: left;margin-right: 0.25em;color: #696969;}#sk-container-id-6 label.sk-toggleable__label-arrow:hover:before {color: black;}#sk-container-id-6 div.sk-estimator:hover label.sk-toggleable__label-arrow:before {color: black;}#sk-container-id-6 div.sk-toggleable__content {max-height: 0;max-width: 0;overflow: hidden;text-align: left;background-color: #f0f8ff;}#sk-container-id-6 div.sk-toggleable__content pre {margin: 0.2em;color: black;border-radius: 0.25em;background-color: #f0f8ff;}#sk-container-id-6 input.sk-toggleable__control:checked~div.sk-toggleable__content {max-height: 200px;max-width: 100%;overflow: auto;}#sk-container-id-6 input.sk-toggleable__control:checked~label.sk-toggleable__label-arrow:before {content: \"▾\";}#sk-container-id-6 div.sk-estimator input.sk-toggleable__control:checked~label.sk-toggleable__label {background-color: #d4ebff;}#sk-container-id-6 div.sk-label input.sk-toggleable__control:checked~label.sk-toggleable__label {background-color: #d4ebff;}#sk-container-id-6 input.sk-hidden--visually {border: 0;clip: rect(1px 1px 1px 1px);clip: rect(1px, 1px, 1px, 1px);height: 1px;margin: -1px;overflow: hidden;padding: 0;position: absolute;width: 1px;}#sk-container-id-6 div.sk-estimator {font-family: monospace;background-color: #f0f8ff;border: 1px dotted black;border-radius: 0.25em;box-sizing: border-box;margin-bottom: 0.5em;}#sk-container-id-6 div.sk-estimator:hover {background-color: #d4ebff;}#sk-container-id-6 div.sk-parallel-item::after {content: \"\";width: 100%;border-bottom: 1px solid gray;flex-grow: 1;}#sk-container-id-6 div.sk-label:hover label.sk-toggleable__label {background-color: #d4ebff;}#sk-container-id-6 div.sk-serial::before {content: \"\";position: absolute;border-left: 1px solid gray;box-sizing: border-box;top: 0;bottom: 0;left: 50%;z-index: 0;}#sk-container-id-6 div.sk-serial {display: flex;flex-direction: column;align-items: center;background-color: white;padding-right: 0.2em;padding-left: 0.2em;position: relative;}#sk-container-id-6 div.sk-item {position: relative;z-index: 1;}#sk-container-id-6 div.sk-parallel {display: flex;align-items: stretch;justify-content: center;background-color: white;position: relative;}#sk-container-id-6 div.sk-item::before, #sk-container-id-6 div.sk-parallel-item::before {content: \"\";position: absolute;border-left: 1px solid gray;box-sizing: border-box;top: 0;bottom: 0;left: 50%;z-index: -1;}#sk-container-id-6 div.sk-parallel-item {display: flex;flex-direction: column;z-index: 1;position: relative;background-color: white;}#sk-container-id-6 div.sk-parallel-item:first-child::after {align-self: flex-end;width: 50%;}#sk-container-id-6 div.sk-parallel-item:last-child::after {align-self: flex-start;width: 50%;}#sk-container-id-6 div.sk-parallel-item:only-child::after {width: 0;}#sk-container-id-6 div.sk-dashed-wrapped {border: 1px dashed gray;margin: 0 0.4em 0.5em 0.4em;box-sizing: border-box;padding-bottom: 0.4em;background-color: white;}#sk-container-id-6 div.sk-label label {font-family: monospace;font-weight: bold;display: inline-block;line-height: 1.2em;}#sk-container-id-6 div.sk-label-container {text-align: center;}#sk-container-id-6 div.sk-container {/* jupyter's `normalize.less` sets `[hidden] { display: none; }` but bootstrap.min.css set `[hidden] { display: none !important; }` so we also need the `!important` here to be able to override the default hidden behavior on the sphinx rendered scikit-learn.org. See: https://github.com/scikit-learn/scikit-learn/issues/21755 */display: inline-block !important;position: relative;}#sk-container-id-6 div.sk-text-repr-fallback {display: none;}</style><div id=\"sk-container-id-6\" class=\"sk-top-container\"><div class=\"sk-text-repr-fallback\"><pre>SVC(class_weight={0: 0.8944976425411948, 1: 1.0237260792167335,\n",
       "                  2: 0.8269299901141368, 3: 1.436909502615757},\n",
       "    kernel=&#x27;linear&#x27;)</pre><b>In a Jupyter environment, please rerun this cell to show the HTML representation or trust the notebook. <br />On GitHub, the HTML representation is unable to render, please try loading this page with nbviewer.org.</b></div><div class=\"sk-container\" hidden><div class=\"sk-item\"><div class=\"sk-estimator sk-toggleable\"><input class=\"sk-toggleable__control sk-hidden--visually\" id=\"sk-estimator-id-8\" type=\"checkbox\" checked><label for=\"sk-estimator-id-8\" class=\"sk-toggleable__label sk-toggleable__label-arrow\">SVC</label><div class=\"sk-toggleable__content\"><pre>SVC(class_weight={0: 0.8944976425411948, 1: 1.0237260792167335,\n",
       "                  2: 0.8269299901141368, 3: 1.436909502615757},\n",
       "    kernel=&#x27;linear&#x27;)</pre></div></div></div></div></div>"
      ],
      "text/plain": [
       "SVC(class_weight={0: 0.8944976425411948, 1: 1.0237260792167335,\n",
       "                  2: 0.8269299901141368, 3: 1.436909502615757},\n",
       "    kernel='linear')"
      ]
     },
     "execution_count": 258,
     "metadata": {},
     "output_type": "execute_result"
    }
   ],
   "source": [
    "# SVM Model\n",
    "svm_model = SVC(kernel='linear', C=1.0, class_weight=c_weightS_dict)\n",
    "svm_model.fit(X_train_SVM, y_train_SVM)"
   ]
  },
  {
   "cell_type": "code",
   "execution_count": 259,
   "id": "f63b59ca",
   "metadata": {},
   "outputs": [],
   "source": [
    "X_test_SVM = np.vstack(test['glove'].to_numpy())\n",
    "y_test_SVM = np.array(test['sentiment'])"
   ]
  },
  {
   "cell_type": "code",
   "execution_count": 261,
   "id": "2704b644",
   "metadata": {},
   "outputs": [],
   "source": [
    "# Predictions\n",
    "svm_predictions = svm_model.predict(X_test_SVM)"
   ]
  },
  {
   "cell_type": "markdown",
   "id": "7867b298",
   "metadata": {},
   "source": [
    "# Evaluate"
   ]
  },
  {
   "cell_type": "code",
   "execution_count": 262,
   "id": "d8ed8805",
   "metadata": {},
   "outputs": [
    {
     "name": "stdout",
     "output_type": "stream",
     "text": [
      "SVM Precision: 0.4570496979622311\n",
      "SVM Recall: 0.45817680803079897\n",
      "SVM F1-Score: 0.4560355368275915\n",
      "SVM Confusion Matrix:\n",
      "[[66 23 31 28]\n",
      " [31 45 32 26]\n",
      " [20 23 57 26]\n",
      " [23 16 21 32]]\n"
     ]
    }
   ],
   "source": [
    "# Replace 'binary' with the desired average setting ('micro', 'macro', 'weighted', or None)\n",
    "average_setting = 'macro'\n",
    "# Calculate precision, recall, and F1-score with the specified average setting and conf_matrix\n",
    "precision = precision_score(y_test_SVM, svm_predictions, average=average_setting)\n",
    "recall = recall_score(y_test_SVM, svm_predictions, average=average_setting)\n",
    "f1 = f1_score(y_test_SVM, svm_predictions, average=average_setting)\n",
    "conf_matrix = confusion_matrix(y_test_SVM, ab_predictions)\n",
    "\n",
    "# Print additional metrics\n",
    "print(\"SVM Precision:\", precision)\n",
    "print(\"SVM Recall:\", recall)\n",
    "print(\"SVM F1-Score:\", f1)\n",
    "print(\"SVM Confusion Matrix:\")\n",
    "print(conf_matrix)"
   ]
  },
  {
   "cell_type": "code",
   "execution_count": 264,
   "id": "0cf271a4",
   "metadata": {},
   "outputs": [
    {
     "name": "stdout",
     "output_type": "stream",
     "text": [
      "SVM Accuracy: 0.462\n",
      "SVM Classification Report:\n",
      "              precision    recall  f1-score   support\n",
      "\n",
      "           0       0.54      0.51      0.52       148\n",
      "           1       0.48      0.42      0.45       134\n",
      "           2       0.46      0.48      0.47       126\n",
      "           3       0.35      0.42      0.38        92\n",
      "\n",
      "    accuracy                           0.46       500\n",
      "   macro avg       0.46      0.46      0.46       500\n",
      "weighted avg       0.47      0.46      0.46       500\n",
      "\n"
     ]
    }
   ],
   "source": [
    "# Calculate accuracy\n",
    "svm_accuracy = accuracy_score(y_test_SVM, svm_predictions)\n",
    "print(\"SVM Accuracy:\", svm_accuracy)\n",
    "print(\"SVM Classification Report:\")\n",
    "print(classification_report(y_test_SVM, svm_predictions))"
   ]
  },
  {
   "cell_type": "code",
   "execution_count": 282,
   "id": "c0154c80",
   "metadata": {},
   "outputs": [],
   "source": [
    "# Create X_val and y_val\n",
    "X_val_SVM = np.vstack(validation['glove'].to_numpy())\n",
    "y_val_SVM = np.array(validation['sentiment'])"
   ]
  },
  {
   "cell_type": "code",
   "execution_count": 283,
   "id": "f25bd614",
   "metadata": {},
   "outputs": [],
   "source": [
    "# Make predictions on the Twitter-validation dataset\n",
    "validation['predicted SVM'] = adaboost_model.predict(X_val_SVM)\n",
    "# Save the result to an Excel file\n",
    "validation.to_excel('SVM_validation.xlsx', index=False)"
   ]
  },
  {
   "cell_type": "code",
   "execution_count": 286,
   "id": "1445bf83",
   "metadata": {},
   "outputs": [
    {
     "data": {
      "text/html": [
       "<div>\n",
       "<style scoped>\n",
       "    .dataframe tbody tr th:only-of-type {\n",
       "        vertical-align: middle;\n",
       "    }\n",
       "\n",
       "    .dataframe tbody tr th {\n",
       "        vertical-align: top;\n",
       "    }\n",
       "\n",
       "    .dataframe thead th {\n",
       "        text-align: right;\n",
       "    }\n",
       "</style>\n",
       "<table border=\"1\" class=\"dataframe\">\n",
       "  <thead>\n",
       "    <tr style=\"text-align: right;\">\n",
       "      <th></th>\n",
       "      <th>Tweet ID</th>\n",
       "      <th>sentiment</th>\n",
       "      <th>Tweet content</th>\n",
       "      <th>glove</th>\n",
       "      <th>predicted RF</th>\n",
       "      <th>predicted AB</th>\n",
       "      <th>predicted LR</th>\n",
       "      <th>predicted SVM</th>\n",
       "    </tr>\n",
       "  </thead>\n",
       "  <tbody>\n",
       "    <tr>\n",
       "      <th>0</th>\n",
       "      <td>5328</td>\n",
       "      <td>2</td>\n",
       "      <td>[what, go, hearthston, ipad, delet, app, redow...</td>\n",
       "      <td>[-0.23164419166666672, 0.08814575000000001, 0....</td>\n",
       "      <td>2</td>\n",
       "      <td>2</td>\n",
       "      <td>2</td>\n",
       "      <td>2</td>\n",
       "    </tr>\n",
       "    <tr>\n",
       "      <th>1</th>\n",
       "      <td>7618</td>\n",
       "      <td>2</td>\n",
       "      <td>[reason, offlin, franchis, lag, much, everi, p...</td>\n",
       "      <td>[-0.10516433333333332, 0.1453330666666667, 0.3...</td>\n",
       "      <td>2</td>\n",
       "      <td>2</td>\n",
       "      <td>2</td>\n",
       "      <td>2</td>\n",
       "    </tr>\n",
       "    <tr>\n",
       "      <th>2</th>\n",
       "      <td>7108</td>\n",
       "      <td>2</td>\n",
       "      <td>[johnson, johnson, enter, phase, trial, covid,...</td>\n",
       "      <td>[0.16724147499999997, 0.16982825, -0.085520749...</td>\n",
       "      <td>2</td>\n",
       "      <td>1</td>\n",
       "      <td>1</td>\n",
       "      <td>1</td>\n",
       "    </tr>\n",
       "    <tr>\n",
       "      <th>3</th>\n",
       "      <td>10008</td>\n",
       "      <td>2</td>\n",
       "      <td>[ban, pubg, go, fix, anyth, gonna, make, every...</td>\n",
       "      <td>[-0.10824925, -0.10192599999999999, 0.36323537...</td>\n",
       "      <td>2</td>\n",
       "      <td>2</td>\n",
       "      <td>2</td>\n",
       "      <td>2</td>\n",
       "    </tr>\n",
       "    <tr>\n",
       "      <th>4</th>\n",
       "      <td>49</td>\n",
       "      <td>1</td>\n",
       "      <td>[play, interest, quiz, amazon, tri, luck, chan...</td>\n",
       "      <td>[-0.08037875, 0.07925562500000001, 0.578732749...</td>\n",
       "      <td>1</td>\n",
       "      <td>0</td>\n",
       "      <td>0</td>\n",
       "      <td>0</td>\n",
       "    </tr>\n",
       "    <tr>\n",
       "      <th>...</th>\n",
       "      <td>...</td>\n",
       "      <td>...</td>\n",
       "      <td>...</td>\n",
       "      <td>...</td>\n",
       "      <td>...</td>\n",
       "      <td>...</td>\n",
       "      <td>...</td>\n",
       "      <td>...</td>\n",
       "    </tr>\n",
       "    <tr>\n",
       "      <th>495</th>\n",
       "      <td>4891</td>\n",
       "      <td>3</td>\n",
       "      <td>[toronto, art, cultur, capit, canada, wonder, ...</td>\n",
       "      <td>[-0.02551884999999999, 0.1338046, 0.3785477549...</td>\n",
       "      <td>3</td>\n",
       "      <td>2</td>\n",
       "      <td>2</td>\n",
       "      <td>2</td>\n",
       "    </tr>\n",
       "    <tr>\n",
       "      <th>496</th>\n",
       "      <td>4359</td>\n",
       "      <td>3</td>\n",
       "      <td>[actual, good, move, tot, bring, viewersi, one...</td>\n",
       "      <td>[-0.0725632272727273, 0.09103040363636365, 0.3...</td>\n",
       "      <td>3</td>\n",
       "      <td>0</td>\n",
       "      <td>0</td>\n",
       "      <td>0</td>\n",
       "    </tr>\n",
       "    <tr>\n",
       "      <th>497</th>\n",
       "      <td>2652</td>\n",
       "      <td>0</td>\n",
       "      <td>[today, suck, time, drink, wine, n, play, bord...</td>\n",
       "      <td>[-0.2767736153846154, 0.27156199999999997, 0.4...</td>\n",
       "      <td>0</td>\n",
       "      <td>0</td>\n",
       "      <td>0</td>\n",
       "      <td>0</td>\n",
       "    </tr>\n",
       "    <tr>\n",
       "      <th>498</th>\n",
       "      <td>8069</td>\n",
       "      <td>0</td>\n",
       "      <td>[bought, fraction, microsoft, today, small, win]</td>\n",
       "      <td>[-0.04612666666666665, 0.3582155166666667, 0.2...</td>\n",
       "      <td>0</td>\n",
       "      <td>1</td>\n",
       "      <td>1</td>\n",
       "      <td>1</td>\n",
       "    </tr>\n",
       "    <tr>\n",
       "      <th>499</th>\n",
       "      <td>6960</td>\n",
       "      <td>1</td>\n",
       "      <td>[johnson, johnson, stop, sell, talc, babi, pow...</td>\n",
       "      <td>[0.22461559999999997, 0.13820400000000005, 0.1...</td>\n",
       "      <td>1</td>\n",
       "      <td>1</td>\n",
       "      <td>1</td>\n",
       "      <td>1</td>\n",
       "    </tr>\n",
       "  </tbody>\n",
       "</table>\n",
       "<p>500 rows × 8 columns</p>\n",
       "</div>"
      ],
      "text/plain": [
       "     Tweet ID  sentiment                                      Tweet content  \\\n",
       "0        5328          2  [what, go, hearthston, ipad, delet, app, redow...   \n",
       "1        7618          2  [reason, offlin, franchis, lag, much, everi, p...   \n",
       "2        7108          2  [johnson, johnson, enter, phase, trial, covid,...   \n",
       "3       10008          2  [ban, pubg, go, fix, anyth, gonna, make, every...   \n",
       "4          49          1  [play, interest, quiz, amazon, tri, luck, chan...   \n",
       "..        ...        ...                                                ...   \n",
       "495      4891          3  [toronto, art, cultur, capit, canada, wonder, ...   \n",
       "496      4359          3  [actual, good, move, tot, bring, viewersi, one...   \n",
       "497      2652          0  [today, suck, time, drink, wine, n, play, bord...   \n",
       "498      8069          0   [bought, fraction, microsoft, today, small, win]   \n",
       "499      6960          1  [johnson, johnson, stop, sell, talc, babi, pow...   \n",
       "\n",
       "                                                 glove  predicted RF  \\\n",
       "0    [-0.23164419166666672, 0.08814575000000001, 0....             2   \n",
       "1    [-0.10516433333333332, 0.1453330666666667, 0.3...             2   \n",
       "2    [0.16724147499999997, 0.16982825, -0.085520749...             2   \n",
       "3    [-0.10824925, -0.10192599999999999, 0.36323537...             2   \n",
       "4    [-0.08037875, 0.07925562500000001, 0.578732749...             1   \n",
       "..                                                 ...           ...   \n",
       "495  [-0.02551884999999999, 0.1338046, 0.3785477549...             3   \n",
       "496  [-0.0725632272727273, 0.09103040363636365, 0.3...             3   \n",
       "497  [-0.2767736153846154, 0.27156199999999997, 0.4...             0   \n",
       "498  [-0.04612666666666665, 0.3582155166666667, 0.2...             0   \n",
       "499  [0.22461559999999997, 0.13820400000000005, 0.1...             1   \n",
       "\n",
       "     predicted AB  predicted LR  predicted SVM  \n",
       "0               2             2              2  \n",
       "1               2             2              2  \n",
       "2               1             1              1  \n",
       "3               2             2              2  \n",
       "4               0             0              0  \n",
       "..            ...           ...            ...  \n",
       "495             2             2              2  \n",
       "496             0             0              0  \n",
       "497             0             0              0  \n",
       "498             1             1              1  \n",
       "499             1             1              1  \n",
       "\n",
       "[500 rows x 8 columns]"
      ]
     },
     "execution_count": 286,
     "metadata": {},
     "output_type": "execute_result"
    }
   ],
   "source": [
    "validation"
   ]
  },
  {
   "cell_type": "markdown",
   "id": "f5fd9116",
   "metadata": {},
   "source": [
    "# Results"
   ]
  },
  {
   "cell_type": "code",
   "execution_count": 287,
   "id": "5d111574",
   "metadata": {},
   "outputs": [
    {
     "name": "stdout",
     "output_type": "stream",
     "text": [
      "Number of Correct Predictions: 208\n"
     ]
    }
   ],
   "source": [
    "result_SVM = pd.read_excel('SVM_validation.xlsx')\n",
    "true_sentiment = result_SVM['sentiment']\n",
    "predicted_sentiment = result_SVM['predicted SVM']\n",
    "# Calculate the number of correct predictions\n",
    "correct_predictions = sum(true_sentiment == predicted_sentiment)\n",
    "# Print the number of correct predictions\n",
    "print(f'Number of Correct Predictions: {correct_predictions}')"
   ]
  }
 ],
 "metadata": {
  "colab": {
   "provenance": [],
   "toc_visible": true
  },
  "kernelspec": {
   "display_name": "Python 3 (ipykernel)",
   "language": "python",
   "name": "python3"
  },
  "language_info": {
   "codemirror_mode": {
    "name": "ipython",
    "version": 3
   },
   "file_extension": ".py",
   "mimetype": "text/x-python",
   "name": "python",
   "nbconvert_exporter": "python",
   "pygments_lexer": "ipython3",
   "version": "3.10.9"
  }
 },
 "nbformat": 4,
 "nbformat_minor": 5
}
