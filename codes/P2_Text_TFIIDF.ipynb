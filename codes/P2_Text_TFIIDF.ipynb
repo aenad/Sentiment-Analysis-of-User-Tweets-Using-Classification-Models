{
 "cells": [
  {
   "cell_type": "code",
   "execution_count": null,
   "id": "f6c67ce5",
   "metadata": {
    "colab": {
     "base_uri": "https://localhost:8080/",
     "height": 36
    },
    "id": "f6c67ce5",
    "outputId": "123897fe-3a4d-41a8-d9f3-85b4e493e424"
   },
   "outputs": [
    {
     "data": {
      "application/vnd.google.colaboratory.intrinsic+json": {
       "type": "string"
      },
      "text/plain": [
       "'/content'"
      ]
     },
     "execution_count": 1,
     "metadata": {},
     "output_type": "execute_result"
    }
   ],
   "source": [
    "pwd"
   ]
  },
  {
   "cell_type": "markdown",
   "id": "0e153c35",
   "metadata": {
    "id": "0e153c35"
   },
   "source": [
    "# Imports Libraries"
   ]
  },
  {
   "cell_type": "code",
   "execution_count": 35,
   "id": "8f6e2fd0",
   "metadata": {
    "id": "8f6e2fd0"
   },
   "outputs": [
    {
     "name": "stderr",
     "output_type": "stream",
     "text": [
      "[nltk_data] Downloading package punkt to\n",
      "[nltk_data]     C:\\Users\\Atefe\\AppData\\Roaming\\nltk_data...\n",
      "[nltk_data]   Package punkt is already up-to-date!\n",
      "[nltk_data] Downloading package stopwords to\n",
      "[nltk_data]     C:\\Users\\Atefe\\AppData\\Roaming\\nltk_data...\n",
      "[nltk_data]   Package stopwords is already up-to-date!\n"
     ]
    }
   ],
   "source": [
    "import pandas as pd\n",
    "import numpy as np\n",
    "import re\n",
    "import seaborn as sns\n",
    "from nltk.tokenize import TweetTokenizer\n",
    "from nltk.stem import PorterStemmer\n",
    "from nltk.tokenize import sent_tokenize, word_tokenize\n",
    "from collections import Counter\n",
    "import nltk\n",
    "from nltk.tokenize import word_tokenize\n",
    "from wordcloud import WordCloud\n",
    "from sklearn.model_selection import train_test_split\n",
    "from gensim.models import Word2Vec\n",
    "import tensorflow as tf\n",
    "from tensorflow.keras.preprocessing.text import Tokenizer\n",
    "from tensorflow.keras.preprocessing.sequence import pad_sequences\n",
    "import matplotlib.pyplot as plt\n",
    "from sklearn.ensemble import AdaBoostClassifier\n",
    "from sklearn.linear_model import LogisticRegression\n",
    "from sklearn.model_selection import train_test_split\n",
    "from sklearn.feature_extraction.text import TfidfVectorizer\n",
    "from sklearn.svm import SVC\n",
    "from sklearn.naive_bayes import MultinomialNB\n",
    "from sklearn.metrics import accuracy_score, classification_report\n",
    "from nltk.tokenize import RegexpTokenizer\n",
    "from nltk.stem.porter import PorterStemmer\n",
    "from nltk.stem import WordNetLemmatizer\n",
    "from tqdm import tqdm\n",
    "nltk.download('punkt')\n",
    "# nltk\n",
    "import nltk\n",
    "from nltk.corpus import stopwords\n",
    "from  nltk.stem import SnowballStemmer\n",
    "nltk.download('stopwords')\n",
    "from sklearn.utils.class_weight import compute_class_weight\n",
    "from sklearn.ensemble import RandomForestClassifier\n",
    "from sklearn.metrics import precision_score, recall_score, f1_score, confusion_matrix\n",
    "from sklearn.tree import DecisionTreeClassifier"
   ]
  },
  {
   "cell_type": "code",
   "execution_count": 2,
   "id": "0d219090",
   "metadata": {
    "id": "0d219090"
   },
   "outputs": [],
   "source": [
    "from tensorflow.keras import Sequential\n",
    "from tensorflow.keras.layers import Bidirectional, GlobalMaxPool1D, Dense, LSTM, Conv1D, Embedding"
   ]
  },
  {
   "cell_type": "code",
   "execution_count": 3,
   "id": "a04fcb01",
   "metadata": {
    "id": "a04fcb01"
   },
   "outputs": [],
   "source": [
    "# pip install wordcloud"
   ]
  },
  {
   "cell_type": "markdown",
   "id": "9a14d4c1",
   "metadata": {
    "id": "9a14d4c1"
   },
   "source": [
    "# Import the Data"
   ]
  },
  {
   "cell_type": "code",
   "execution_count": 45,
   "id": "24b51316",
   "metadata": {
    "id": "24b51316"
   },
   "outputs": [],
   "source": [
    "training = pd.read_csv('twitter_training.csv', encoding='iso-8859-1')\n",
    "validation = pd.read_csv('twitter_validation.csv', encoding='iso-8859-1')\n",
    "test = pd.read_csv('twitter_test.csv', encoding='iso-8859-1')"
   ]
  },
  {
   "cell_type": "code",
   "execution_count": 46,
   "id": "57d108cc",
   "metadata": {
    "colab": {
     "base_uri": "https://localhost:8080/"
    },
    "id": "57d108cc",
    "outputId": "b18beded-aaed-4696-c858-ffc2cd614349",
    "scrolled": true
   },
   "outputs": [
    {
     "name": "stdout",
     "output_type": "stream",
     "text": [
      "<class 'pandas.core.frame.DataFrame'>\n",
      "RangeIndex: 74682 entries, 0 to 74681\n",
      "Data columns (total 4 columns):\n",
      " #   Column         Non-Null Count  Dtype \n",
      "---  ------         --------------  ----- \n",
      " 0   Tweet ID       74682 non-null  int64 \n",
      " 1   entity         74682 non-null  object\n",
      " 2   sentiment      74682 non-null  object\n",
      " 3   Tweet content  73996 non-null  object\n",
      "dtypes: int64(1), object(3)\n",
      "memory usage: 2.3+ MB\n"
     ]
    }
   ],
   "source": [
    "training.info()"
   ]
  },
  {
   "cell_type": "code",
   "execution_count": 47,
   "id": "908e0bec",
   "metadata": {
    "id": "908e0bec"
   },
   "outputs": [],
   "source": [
    "train_content_values=training['Tweet content'].values"
   ]
  },
  {
   "cell_type": "code",
   "execution_count": 48,
   "id": "e2cbda23",
   "metadata": {
    "colab": {
     "base_uri": "https://localhost:8080/",
     "height": 206
    },
    "id": "e2cbda23",
    "outputId": "9ae542cc-45e8-47e7-8030-d5e9c1202ff2"
   },
   "outputs": [
    {
     "data": {
      "text/html": [
       "<div>\n",
       "<style scoped>\n",
       "    .dataframe tbody tr th:only-of-type {\n",
       "        vertical-align: middle;\n",
       "    }\n",
       "\n",
       "    .dataframe tbody tr th {\n",
       "        vertical-align: top;\n",
       "    }\n",
       "\n",
       "    .dataframe thead th {\n",
       "        text-align: right;\n",
       "    }\n",
       "</style>\n",
       "<table border=\"1\" class=\"dataframe\">\n",
       "  <thead>\n",
       "    <tr style=\"text-align: right;\">\n",
       "      <th></th>\n",
       "      <th>Tweet ID</th>\n",
       "      <th>entity</th>\n",
       "      <th>sentiment</th>\n",
       "      <th>Tweet content</th>\n",
       "    </tr>\n",
       "  </thead>\n",
       "  <tbody>\n",
       "    <tr>\n",
       "      <th>0</th>\n",
       "      <td>2401</td>\n",
       "      <td>Borderlands</td>\n",
       "      <td>Positive</td>\n",
       "      <td>im getting on borderlands and i will murder yo...</td>\n",
       "    </tr>\n",
       "    <tr>\n",
       "      <th>1</th>\n",
       "      <td>2401</td>\n",
       "      <td>Borderlands</td>\n",
       "      <td>Positive</td>\n",
       "      <td>I am coming to the borders and I will kill you...</td>\n",
       "    </tr>\n",
       "    <tr>\n",
       "      <th>2</th>\n",
       "      <td>2401</td>\n",
       "      <td>Borderlands</td>\n",
       "      <td>Positive</td>\n",
       "      <td>im getting on borderlands and i will kill you ...</td>\n",
       "    </tr>\n",
       "    <tr>\n",
       "      <th>3</th>\n",
       "      <td>2401</td>\n",
       "      <td>Borderlands</td>\n",
       "      <td>Positive</td>\n",
       "      <td>im coming on borderlands and i will murder you...</td>\n",
       "    </tr>\n",
       "    <tr>\n",
       "      <th>4</th>\n",
       "      <td>2401</td>\n",
       "      <td>Borderlands</td>\n",
       "      <td>Positive</td>\n",
       "      <td>im getting on borderlands 2 and i will murder ...</td>\n",
       "    </tr>\n",
       "  </tbody>\n",
       "</table>\n",
       "</div>"
      ],
      "text/plain": [
       "   Tweet ID       entity sentiment  \\\n",
       "0      2401  Borderlands  Positive   \n",
       "1      2401  Borderlands  Positive   \n",
       "2      2401  Borderlands  Positive   \n",
       "3      2401  Borderlands  Positive   \n",
       "4      2401  Borderlands  Positive   \n",
       "\n",
       "                                       Tweet content  \n",
       "0  im getting on borderlands and i will murder yo...  \n",
       "1  I am coming to the borders and I will kill you...  \n",
       "2  im getting on borderlands and i will kill you ...  \n",
       "3  im coming on borderlands and i will murder you...  \n",
       "4  im getting on borderlands 2 and i will murder ...  "
      ]
     },
     "execution_count": 48,
     "metadata": {},
     "output_type": "execute_result"
    }
   ],
   "source": [
    "training.head()"
   ]
  },
  {
   "cell_type": "code",
   "execution_count": 49,
   "id": "230dadd8",
   "metadata": {
    "id": "230dadd8"
   },
   "outputs": [],
   "source": [
    "# Removing the unnecessary columns.\n",
    "training = training[['Tweet ID','sentiment','Tweet content']]\n",
    "validation = validation[['Tweet ID','sentiment','Tweet content']]\n",
    "test = test[['Tweet ID','sentiment','Tweet content']]"
   ]
  },
  {
   "cell_type": "code",
   "execution_count": 50,
   "id": "ccd99f37",
   "metadata": {
    "colab": {
     "base_uri": "https://localhost:8080/",
     "height": 423
    },
    "id": "ccd99f37",
    "outputId": "12266270-db6a-473e-db79-70831dbd2b55"
   },
   "outputs": [
    {
     "data": {
      "text/html": [
       "<div>\n",
       "<style scoped>\n",
       "    .dataframe tbody tr th:only-of-type {\n",
       "        vertical-align: middle;\n",
       "    }\n",
       "\n",
       "    .dataframe tbody tr th {\n",
       "        vertical-align: top;\n",
       "    }\n",
       "\n",
       "    .dataframe thead th {\n",
       "        text-align: right;\n",
       "    }\n",
       "</style>\n",
       "<table border=\"1\" class=\"dataframe\">\n",
       "  <thead>\n",
       "    <tr style=\"text-align: right;\">\n",
       "      <th></th>\n",
       "      <th>Tweet ID</th>\n",
       "      <th>sentiment</th>\n",
       "      <th>Tweet content</th>\n",
       "    </tr>\n",
       "  </thead>\n",
       "  <tbody>\n",
       "    <tr>\n",
       "      <th>0</th>\n",
       "      <td>2401</td>\n",
       "      <td>Positive</td>\n",
       "      <td>im getting on borderlands and i will murder yo...</td>\n",
       "    </tr>\n",
       "    <tr>\n",
       "      <th>1</th>\n",
       "      <td>2401</td>\n",
       "      <td>Positive</td>\n",
       "      <td>I am coming to the borders and I will kill you...</td>\n",
       "    </tr>\n",
       "    <tr>\n",
       "      <th>2</th>\n",
       "      <td>2401</td>\n",
       "      <td>Positive</td>\n",
       "      <td>im getting on borderlands and i will kill you ...</td>\n",
       "    </tr>\n",
       "    <tr>\n",
       "      <th>3</th>\n",
       "      <td>2401</td>\n",
       "      <td>Positive</td>\n",
       "      <td>im coming on borderlands and i will murder you...</td>\n",
       "    </tr>\n",
       "    <tr>\n",
       "      <th>4</th>\n",
       "      <td>2401</td>\n",
       "      <td>Positive</td>\n",
       "      <td>im getting on borderlands 2 and i will murder ...</td>\n",
       "    </tr>\n",
       "    <tr>\n",
       "      <th>...</th>\n",
       "      <td>...</td>\n",
       "      <td>...</td>\n",
       "      <td>...</td>\n",
       "    </tr>\n",
       "    <tr>\n",
       "      <th>74677</th>\n",
       "      <td>9200</td>\n",
       "      <td>Positive</td>\n",
       "      <td>Just realized that the Windows partition of my...</td>\n",
       "    </tr>\n",
       "    <tr>\n",
       "      <th>74678</th>\n",
       "      <td>9200</td>\n",
       "      <td>Positive</td>\n",
       "      <td>Just realized that my Mac window partition is ...</td>\n",
       "    </tr>\n",
       "    <tr>\n",
       "      <th>74679</th>\n",
       "      <td>9200</td>\n",
       "      <td>Positive</td>\n",
       "      <td>Just realized the windows partition of my Mac ...</td>\n",
       "    </tr>\n",
       "    <tr>\n",
       "      <th>74680</th>\n",
       "      <td>9200</td>\n",
       "      <td>Positive</td>\n",
       "      <td>Just realized between the windows partition of...</td>\n",
       "    </tr>\n",
       "    <tr>\n",
       "      <th>74681</th>\n",
       "      <td>9200</td>\n",
       "      <td>Positive</td>\n",
       "      <td>Just like the windows partition of my Mac is l...</td>\n",
       "    </tr>\n",
       "  </tbody>\n",
       "</table>\n",
       "<p>74682 rows × 3 columns</p>\n",
       "</div>"
      ],
      "text/plain": [
       "       Tweet ID sentiment                                      Tweet content\n",
       "0          2401  Positive  im getting on borderlands and i will murder yo...\n",
       "1          2401  Positive  I am coming to the borders and I will kill you...\n",
       "2          2401  Positive  im getting on borderlands and i will kill you ...\n",
       "3          2401  Positive  im coming on borderlands and i will murder you...\n",
       "4          2401  Positive  im getting on borderlands 2 and i will murder ...\n",
       "...         ...       ...                                                ...\n",
       "74677      9200  Positive  Just realized that the Windows partition of my...\n",
       "74678      9200  Positive  Just realized that my Mac window partition is ...\n",
       "74679      9200  Positive  Just realized the windows partition of my Mac ...\n",
       "74680      9200  Positive  Just realized between the windows partition of...\n",
       "74681      9200  Positive  Just like the windows partition of my Mac is l...\n",
       "\n",
       "[74682 rows x 3 columns]"
      ]
     },
     "execution_count": 50,
     "metadata": {},
     "output_type": "execute_result"
    }
   ],
   "source": [
    "training"
   ]
  },
  {
   "cell_type": "code",
   "execution_count": 51,
   "id": "63d7c065",
   "metadata": {
    "colab": {
     "base_uri": "https://localhost:8080/",
     "height": 423
    },
    "id": "63d7c065",
    "outputId": "7e6014bf-f1ad-4f0e-9e74-9ce027611394"
   },
   "outputs": [
    {
     "data": {
      "text/html": [
       "<div>\n",
       "<style scoped>\n",
       "    .dataframe tbody tr th:only-of-type {\n",
       "        vertical-align: middle;\n",
       "    }\n",
       "\n",
       "    .dataframe tbody tr th {\n",
       "        vertical-align: top;\n",
       "    }\n",
       "\n",
       "    .dataframe thead th {\n",
       "        text-align: right;\n",
       "    }\n",
       "</style>\n",
       "<table border=\"1\" class=\"dataframe\">\n",
       "  <thead>\n",
       "    <tr style=\"text-align: right;\">\n",
       "      <th></th>\n",
       "      <th>Tweet ID</th>\n",
       "      <th>sentiment</th>\n",
       "      <th>Tweet content</th>\n",
       "    </tr>\n",
       "  </thead>\n",
       "  <tbody>\n",
       "    <tr>\n",
       "      <th>0</th>\n",
       "      <td>5328</td>\n",
       "      <td>Negative</td>\n",
       "      <td>@BlizzardCS whatâs going on with Hearthstone...</td>\n",
       "    </tr>\n",
       "    <tr>\n",
       "      <th>1</th>\n",
       "      <td>7618</td>\n",
       "      <td>Negative</td>\n",
       "      <td>@EAMaddenNFL is there a reason OFFLINE franchi...</td>\n",
       "    </tr>\n",
       "    <tr>\n",
       "      <th>2</th>\n",
       "      <td>7108</td>\n",
       "      <td>Negative</td>\n",
       "      <td>Johnson &amp; Johnson is about to enter phase 3 tr...</td>\n",
       "    </tr>\n",
       "    <tr>\n",
       "      <th>3</th>\n",
       "      <td>10008</td>\n",
       "      <td>Negative</td>\n",
       "      <td>How is banning #PUBG going to fix anything? Al...</td>\n",
       "    </tr>\n",
       "    <tr>\n",
       "      <th>4</th>\n",
       "      <td>49</td>\n",
       "      <td>Neutral</td>\n",
       "      <td>I played this interesting quiz on Amazon - Try...</td>\n",
       "    </tr>\n",
       "    <tr>\n",
       "      <th>...</th>\n",
       "      <td>...</td>\n",
       "      <td>...</td>\n",
       "      <td>...</td>\n",
       "    </tr>\n",
       "    <tr>\n",
       "      <th>495</th>\n",
       "      <td>4891</td>\n",
       "      <td>Irrelevant</td>\n",
       "      <td>â­ï¸ Toronto is the arts and culture capital...</td>\n",
       "    </tr>\n",
       "    <tr>\n",
       "      <th>496</th>\n",
       "      <td>4359</td>\n",
       "      <td>Irrelevant</td>\n",
       "      <td>tHIS IS ACTUALLY A GOOD MOVE TOT BRING MORE VI...</td>\n",
       "    </tr>\n",
       "    <tr>\n",
       "      <th>497</th>\n",
       "      <td>2652</td>\n",
       "      <td>Positive</td>\n",
       "      <td>Today sucked so itâs time to drink wine n pl...</td>\n",
       "    </tr>\n",
       "    <tr>\n",
       "      <th>498</th>\n",
       "      <td>8069</td>\n",
       "      <td>Positive</td>\n",
       "      <td>Bought a fraction of Microsoft today. Small wins.</td>\n",
       "    </tr>\n",
       "    <tr>\n",
       "      <th>499</th>\n",
       "      <td>6960</td>\n",
       "      <td>Neutral</td>\n",
       "      <td>Johnson &amp; Johnson to stop selling talc baby po...</td>\n",
       "    </tr>\n",
       "  </tbody>\n",
       "</table>\n",
       "<p>500 rows × 3 columns</p>\n",
       "</div>"
      ],
      "text/plain": [
       "     Tweet ID   sentiment                                      Tweet content\n",
       "0        5328    Negative  @BlizzardCS whatâs going on with Hearthstone...\n",
       "1        7618    Negative  @EAMaddenNFL is there a reason OFFLINE franchi...\n",
       "2        7108    Negative  Johnson & Johnson is about to enter phase 3 tr...\n",
       "3       10008    Negative  How is banning #PUBG going to fix anything? Al...\n",
       "4          49     Neutral  I played this interesting quiz on Amazon - Try...\n",
       "..        ...         ...                                                ...\n",
       "495      4891  Irrelevant  â­ï¸ Toronto is the arts and culture capital...\n",
       "496      4359  Irrelevant  tHIS IS ACTUALLY A GOOD MOVE TOT BRING MORE VI...\n",
       "497      2652    Positive  Today sucked so itâs time to drink wine n pl...\n",
       "498      8069    Positive  Bought a fraction of Microsoft today. Small wins.\n",
       "499      6960     Neutral  Johnson & Johnson to stop selling talc baby po...\n",
       "\n",
       "[500 rows x 3 columns]"
      ]
     },
     "execution_count": 51,
     "metadata": {},
     "output_type": "execute_result"
    }
   ],
   "source": [
    "validation"
   ]
  },
  {
   "cell_type": "code",
   "execution_count": 52,
   "id": "a2db249e",
   "metadata": {
    "colab": {
     "base_uri": "https://localhost:8080/",
     "height": 423
    },
    "id": "a2db249e",
    "outputId": "2d732115-2398-4d50-b312-4f1f29dd4b9e",
    "scrolled": true
   },
   "outputs": [
    {
     "data": {
      "text/html": [
       "<div>\n",
       "<style scoped>\n",
       "    .dataframe tbody tr th:only-of-type {\n",
       "        vertical-align: middle;\n",
       "    }\n",
       "\n",
       "    .dataframe tbody tr th {\n",
       "        vertical-align: top;\n",
       "    }\n",
       "\n",
       "    .dataframe thead th {\n",
       "        text-align: right;\n",
       "    }\n",
       "</style>\n",
       "<table border=\"1\" class=\"dataframe\">\n",
       "  <thead>\n",
       "    <tr style=\"text-align: right;\">\n",
       "      <th></th>\n",
       "      <th>Tweet ID</th>\n",
       "      <th>sentiment</th>\n",
       "      <th>Tweet content</th>\n",
       "    </tr>\n",
       "  </thead>\n",
       "  <tbody>\n",
       "    <tr>\n",
       "      <th>0</th>\n",
       "      <td>3364</td>\n",
       "      <td>Irrelevant</td>\n",
       "      <td>I mentioned on Facebook that I was struggling ...</td>\n",
       "    </tr>\n",
       "    <tr>\n",
       "      <th>1</th>\n",
       "      <td>352</td>\n",
       "      <td>Neutral</td>\n",
       "      <td>BBC News - Amazon boss Jeff Bezos rejects clai...</td>\n",
       "    </tr>\n",
       "    <tr>\n",
       "      <th>2</th>\n",
       "      <td>8312</td>\n",
       "      <td>Negative</td>\n",
       "      <td>@Microsoft Why do I pay for WORD when it funct...</td>\n",
       "    </tr>\n",
       "    <tr>\n",
       "      <th>3</th>\n",
       "      <td>4371</td>\n",
       "      <td>Negative</td>\n",
       "      <td>CSGO matchmaking is so full of closet hacking,...</td>\n",
       "    </tr>\n",
       "    <tr>\n",
       "      <th>4</th>\n",
       "      <td>4433</td>\n",
       "      <td>Neutral</td>\n",
       "      <td>Now the President is slapping Americans in the...</td>\n",
       "    </tr>\n",
       "    <tr>\n",
       "      <th>...</th>\n",
       "      <td>...</td>\n",
       "      <td>...</td>\n",
       "      <td>...</td>\n",
       "    </tr>\n",
       "    <tr>\n",
       "      <th>495</th>\n",
       "      <td>8055</td>\n",
       "      <td>Positive</td>\n",
       "      <td>special shoutouts to microsoft excel 2013</td>\n",
       "    </tr>\n",
       "    <tr>\n",
       "      <th>496</th>\n",
       "      <td>6787</td>\n",
       "      <td>Irrelevant</td>\n",
       "      <td>Dumb Luckyâï¸   (Fortnite Montage) youtu.be...</td>\n",
       "    </tr>\n",
       "    <tr>\n",
       "      <th>497</th>\n",
       "      <td>3838</td>\n",
       "      <td>Positive</td>\n",
       "      <td>Dang there goes my birthday present but maybe ...</td>\n",
       "    </tr>\n",
       "    <tr>\n",
       "      <th>498</th>\n",
       "      <td>2008</td>\n",
       "      <td>Irrelevant</td>\n",
       "      <td>It was ab fab seeing the 6 bungalows built in ...</td>\n",
       "    </tr>\n",
       "    <tr>\n",
       "      <th>499</th>\n",
       "      <td>4096</td>\n",
       "      <td>Neutral</td>\n",
       "      <td>1.7 million viewers? wtf? and cs:go has more t...</td>\n",
       "    </tr>\n",
       "  </tbody>\n",
       "</table>\n",
       "<p>500 rows × 3 columns</p>\n",
       "</div>"
      ],
      "text/plain": [
       "     Tweet ID   sentiment                                      Tweet content\n",
       "0        3364  Irrelevant  I mentioned on Facebook that I was struggling ...\n",
       "1         352     Neutral  BBC News - Amazon boss Jeff Bezos rejects clai...\n",
       "2        8312    Negative  @Microsoft Why do I pay for WORD when it funct...\n",
       "3        4371    Negative  CSGO matchmaking is so full of closet hacking,...\n",
       "4        4433     Neutral  Now the President is slapping Americans in the...\n",
       "..        ...         ...                                                ...\n",
       "495      8055    Positive          special shoutouts to microsoft excel 2013\n",
       "496      6787  Irrelevant  Dumb Luckyâï¸   (Fortnite Montage) youtu.be...\n",
       "497      3838    Positive  Dang there goes my birthday present but maybe ...\n",
       "498      2008  Irrelevant  It was ab fab seeing the 6 bungalows built in ...\n",
       "499      4096     Neutral  1.7 million viewers? wtf? and cs:go has more t...\n",
       "\n",
       "[500 rows x 3 columns]"
      ]
     },
     "execution_count": 52,
     "metadata": {},
     "output_type": "execute_result"
    }
   ],
   "source": [
    "test"
   ]
  },
  {
   "cell_type": "code",
   "execution_count": 53,
   "id": "13bdf9f5",
   "metadata": {
    "colab": {
     "base_uri": "https://localhost:8080/"
    },
    "id": "13bdf9f5",
    "outputId": "570cbb2c-1fbe-415b-8472-f4d2232220cd"
   },
   "outputs": [
    {
     "data": {
      "text/plain": [
       "(74682, 3)"
      ]
     },
     "execution_count": 53,
     "metadata": {},
     "output_type": "execute_result"
    }
   ],
   "source": [
    "training.shape"
   ]
  },
  {
   "cell_type": "code",
   "execution_count": 54,
   "id": "eec9000b",
   "metadata": {
    "colab": {
     "base_uri": "https://localhost:8080/"
    },
    "id": "eec9000b",
    "outputId": "107a208f-698c-414d-86a8-a24e27d03b9a"
   },
   "outputs": [
    {
     "data": {
      "text/plain": [
       "(500, 3)"
      ]
     },
     "execution_count": 54,
     "metadata": {},
     "output_type": "execute_result"
    }
   ],
   "source": [
    "test.shape"
   ]
  },
  {
   "cell_type": "code",
   "execution_count": 55,
   "id": "63dab25d",
   "metadata": {
    "colab": {
     "base_uri": "https://localhost:8080/"
    },
    "id": "63dab25d",
    "outputId": "f3508331-f78e-4762-c4c3-b1c518bf1db5"
   },
   "outputs": [
    {
     "data": {
      "text/plain": [
       "(500, 3)"
      ]
     },
     "execution_count": 55,
     "metadata": {},
     "output_type": "execute_result"
    }
   ],
   "source": [
    "validation.shape"
   ]
  },
  {
   "cell_type": "markdown",
   "id": "1db3d1e9",
   "metadata": {
    "id": "1db3d1e9"
   },
   "source": [
    "# convert categorical to numeric(Sentiment)"
   ]
  },
  {
   "cell_type": "code",
   "execution_count": 56,
   "id": "80e7d6a1",
   "metadata": {
    "colab": {
     "base_uri": "https://localhost:8080/"
    },
    "id": "80e7d6a1",
    "outputId": "7cb6a382-8919-4171-ac01-5e41f2c2960d"
   },
   "outputs": [
    {
     "data": {
      "text/plain": [
       "array(['Positive', 'Neutral', 'Negative', 'Irrelevant'], dtype=object)"
      ]
     },
     "execution_count": 56,
     "metadata": {},
     "output_type": "execute_result"
    }
   ],
   "source": [
    "training.sentiment.unique()"
   ]
  },
  {
   "cell_type": "code",
   "execution_count": 57,
   "id": "1dc85fe8",
   "metadata": {
    "id": "1dc85fe8"
   },
   "outputs": [],
   "source": [
    "training['sentiment'].replace(['Positive', 'Neutral', 'Negative', 'Irrelevant'],\n",
    "                        [0, 1, 2, 3], inplace=True)\n",
    "test['sentiment'].replace(['Positive', 'Neutral', 'Negative', 'Irrelevant'],\n",
    "                        [0, 1, 2, 3], inplace=True)\n",
    "validation['sentiment'].replace(['Positive', 'Neutral', 'Negative', 'Irrelevant'],\n",
    "                        [0, 1, 2, 3], inplace=True)"
   ]
  },
  {
   "cell_type": "markdown",
   "id": "a233ccea",
   "metadata": {
    "id": "a233ccea"
   },
   "source": [
    "# Data visualization"
   ]
  },
  {
   "cell_type": "markdown",
   "id": "5672289b",
   "metadata": {
    "id": "5672289b"
   },
   "source": [
    "# Distribution of target class"
   ]
  },
  {
   "cell_type": "code",
   "execution_count": 58,
   "id": "4d5f9fd4",
   "metadata": {
    "colab": {
     "base_uri": "https://localhost:8080/",
     "height": 466
    },
    "id": "4d5f9fd4",
    "outputId": "a2537511-a1e4-4b2c-8675-806b0cea0b53"
   },
   "outputs": [
    {
     "data": {
      "text/plain": [
       "<Axes: xlabel='sentiment', ylabel='count'>"
      ]
     },
     "execution_count": 58,
     "metadata": {},
     "output_type": "execute_result"
    },
    {
     "data": {
      "image/png": "[encoded data removed]",
      "text/plain": [
       "<Figure size 640x480 with 1 Axes>"
      ]
     },
     "metadata": {},
     "output_type": "display_data"
    }
   ],
   "source": [
    "sns.countplot(x='sentiment',data=training)"
   ]
  },
  {
   "cell_type": "code",
   "execution_count": 59,
   "id": "f1e43cc7",
   "metadata": {},
   "outputs": [
    {
     "name": "stdout",
     "output_type": "stream",
     "text": [
      "Class Weights: [0.89624136 1.01924337 0.82825393 1.43729792]\n",
      "Class Weight Dictionary: {0: 0.8962413594470046, 1: 1.0192433671798231, 2: 0.8282539260047911, 3: 1.4372979214780601}\n"
     ]
    }
   ],
   "source": [
    "# Compute class weights based on the training set\n",
    "c_weights = compute_class_weight('balanced', classes=np.unique(training['sentiment']), y=training['sentiment'])\n",
    "c_weightS_dict = dict(zip(np.unique(training['sentiment']), c_weights))\n",
    "\n",
    "# Print the computed class weights and the dictionary\n",
    "print(\"Class Weights:\", c_weights)\n",
    "print(\"Class Weight Dictionary:\", c_weightS_dict)"
   ]
  },
  {
   "cell_type": "code",
   "execution_count": 60,
   "id": "4a5b6f6e",
   "metadata": {
    "id": "4a5b6f6e"
   },
   "outputs": [],
   "source": [
    "# wc = WordCloud(max_words = 1000 , width = 1600 , height = 800,\n",
    "#               collocations=False).generate(\" \".join(data_pos))\n",
    "# plt.figure(figsize = (20,20))\n",
    "# plt.imshow(wc)"
   ]
  },
  {
   "cell_type": "markdown",
   "id": "b85c47a0",
   "metadata": {
    "id": "b85c47a0"
   },
   "source": [
    "# Data Cleaning"
   ]
  },
  {
   "cell_type": "code",
   "execution_count": 61,
   "id": "779816f7",
   "metadata": {
    "id": "779816f7"
   },
   "outputs": [],
   "source": [
    "def clean_tweets(tweet):\n",
    "    # Check if the tweet is a non-null string\n",
    "    if isinstance(tweet, str) and not pd.isnull(tweet):\n",
    "\n",
    "        # remove URL\n",
    "        tweet = re.sub(r\"http\\S+\", \"\", tweet)\n",
    "        # convert to lower case alpha\n",
    "        tweet = tweet.lower()\n",
    "\n",
    "        # Remove short links (e.g., buff.ly/2WmmiP5)\n",
    "        tweet = re.sub(r'\\b(?:buff\\.ly|dlvr\\.it)/\\S+', \"\", tweet)\n",
    "\n",
    "        # Remove usernames\n",
    "        tweet = re.sub(r\"@[^\\s]+[\\s]?\", '', tweet)\n",
    "\n",
    "        # remove special characters for example {!,?,...}\n",
    "        tweet = re.sub('[^ a-zA-Z0-9]', '', tweet)\n",
    "\n",
    "        # remove Numbers\n",
    "        tweet = re.sub('[0-9]', '', tweet)\n",
    "\n",
    "        return tweet\n",
    "    else:\n",
    "        # If the tweet is NaN or not a string, return it unchanged\n",
    "        return tweet\n",
    "\n",
    "# Apply the clean_tweets function to the 'Tweet content' column\n",
    "training['Tweet content'] = training['Tweet content'].apply(clean_tweets)\n",
    "validation['Tweet content'] = validation['Tweet content'].apply(clean_tweets)\n",
    "test['Tweet content'] = test['Tweet content'].apply(clean_tweets)"
   ]
  },
  {
   "cell_type": "code",
   "execution_count": 62,
   "id": "836fa2ac",
   "metadata": {},
   "outputs": [
    {
     "data": {
      "text/plain": [
       "(74682, 3)"
      ]
     },
     "execution_count": 62,
     "metadata": {},
     "output_type": "execute_result"
    }
   ],
   "source": [
    "training.shape"
   ]
  },
  {
   "cell_type": "code",
   "execution_count": 63,
   "id": "1e40e8eb",
   "metadata": {},
   "outputs": [
    {
     "name": "stderr",
     "output_type": "stream",
     "text": [
      "C:\\Users\\Atefe\\AppData\\Local\\Temp\\ipykernel_13168\\761347574.py:5: SettingWithCopyWarning: \n",
      "A value is trying to be set on a copy of a slice from a DataFrame\n",
      "\n",
      "See the caveats in the documentation: https://pandas.pydata.org/pandas-docs/stable/user_guide/indexing.html#returning-a-view-versus-a-copy\n",
      "  df['Tweet content'][i] = None\n"
     ]
    }
   ],
   "source": [
    "def remove_extra_spaces(df):\n",
    "    df['Tweet content'] = df['Tweet content'].str.strip()\n",
    "    for i in range(len(df)):\n",
    "        if df['Tweet content'][i]== '':\n",
    "            df['Tweet content'][i] = None \n",
    "    training.dropna(subset=['Tweet content'], inplace=True)\n",
    "    training.reset_index(drop=True,inplace=True)\n",
    "    return df\n",
    "\n",
    "training = remove_extra_spaces(training)\n",
    "test = remove_extra_spaces(test)\n",
    "validation = remove_extra_spaces(validation)\n",
    "# training['Tweet content']=training['Tweet content'].str.s"
   ]
  },
  {
   "cell_type": "code",
   "execution_count": 64,
   "id": "c25a45a3",
   "metadata": {},
   "outputs": [
    {
     "data": {
      "text/plain": [
       "(73610, 3)"
      ]
     },
     "execution_count": 64,
     "metadata": {},
     "output_type": "execute_result"
    }
   ],
   "source": [
    "training.shape"
   ]
  },
  {
   "cell_type": "code",
   "execution_count": 65,
   "id": "ee00f373",
   "metadata": {},
   "outputs": [],
   "source": [
    "# training.to_csv('test', sep='\\t', encoding='utf-8')"
   ]
  },
  {
   "cell_type": "code",
   "execution_count": 66,
   "id": "ffed3d57",
   "metadata": {},
   "outputs": [
    {
     "data": {
      "text/plain": [
       "0        im getting on borderlands and i will murder yo...\n",
       "1        i am coming to the borders and i will kill you...\n",
       "2        im getting on borderlands and i will kill you all\n",
       "3        im coming on borderlands and i will murder you...\n",
       "4        im getting on borderlands  and i will murder y...\n",
       "                               ...                        \n",
       "73605    just realized that the windows partition of my...\n",
       "73606    just realized that my mac window partition is ...\n",
       "73607    just realized the windows partition of my mac ...\n",
       "73608    just realized between the windows partition of...\n",
       "73609    just like the windows partition of my mac is l...\n",
       "Name: Tweet content, Length: 73610, dtype: object"
      ]
     },
     "execution_count": 66,
     "metadata": {},
     "output_type": "execute_result"
    }
   ],
   "source": [
    "training['Tweet content']"
   ]
  },
  {
   "cell_type": "code",
   "execution_count": 67,
   "id": "dfc04140",
   "metadata": {},
   "outputs": [
    {
     "data": {
      "text/plain": [
       "pandas.core.frame.DataFrame"
      ]
     },
     "execution_count": 67,
     "metadata": {},
     "output_type": "execute_result"
    }
   ],
   "source": [
    "type(training)"
   ]
  },
  {
   "cell_type": "code",
   "execution_count": 68,
   "id": "618cfbd0",
   "metadata": {},
   "outputs": [],
   "source": [
    "# removing the stop words except \"not\"\n",
    "stop_words = stopwords.words(\"english\")\n",
    "whitelist = [\"n't\", \"not\"]\n",
    "filtered_list = [item for item in stop_words if item not in whitelist]\n",
    "# Define a function to remove stop words\n",
    "def remove_stop_words(word_list):\n",
    "    tweet_without_stopwords = [word for word in  \n",
    "                              word_list.split()\n",
    "                              if word.lower() not in filtered_list]\n",
    "    joined_tokens = [\" \".join(tweet_without_stopwords)]\n",
    "#     return tweet_without_stopwords\n",
    "    return joined_tokens"
   ]
  },
  {
   "cell_type": "code",
   "execution_count": 69,
   "id": "33Xo9BFRTsEM",
   "metadata": {
    "id": "33Xo9BFRTsEM"
   },
   "outputs": [],
   "source": [
    "training['Tweet content'] = training['Tweet content'].apply(remove_stop_words)\n",
    "test['Tweet content'] = test['Tweet content'].apply(remove_stop_words)\n",
    "validation['Tweet content'] = validation['Tweet content'].apply(remove_stop_words)"
   ]
  },
  {
   "cell_type": "code",
   "execution_count": 70,
   "id": "2d0f5cc1",
   "metadata": {},
   "outputs": [
    {
     "data": {
      "text/html": [
       "<div>\n",
       "<style scoped>\n",
       "    .dataframe tbody tr th:only-of-type {\n",
       "        vertical-align: middle;\n",
       "    }\n",
       "\n",
       "    .dataframe tbody tr th {\n",
       "        vertical-align: top;\n",
       "    }\n",
       "\n",
       "    .dataframe thead th {\n",
       "        text-align: right;\n",
       "    }\n",
       "</style>\n",
       "<table border=\"1\" class=\"dataframe\">\n",
       "  <thead>\n",
       "    <tr style=\"text-align: right;\">\n",
       "      <th></th>\n",
       "      <th>Tweet ID</th>\n",
       "      <th>sentiment</th>\n",
       "      <th>Tweet content</th>\n",
       "    </tr>\n",
       "  </thead>\n",
       "  <tbody>\n",
       "    <tr>\n",
       "      <th>0</th>\n",
       "      <td>2401</td>\n",
       "      <td>0</td>\n",
       "      <td>[im getting borderlands murder]</td>\n",
       "    </tr>\n",
       "    <tr>\n",
       "      <th>1</th>\n",
       "      <td>2401</td>\n",
       "      <td>0</td>\n",
       "      <td>[coming borders kill]</td>\n",
       "    </tr>\n",
       "    <tr>\n",
       "      <th>2</th>\n",
       "      <td>2401</td>\n",
       "      <td>0</td>\n",
       "      <td>[im getting borderlands kill]</td>\n",
       "    </tr>\n",
       "    <tr>\n",
       "      <th>3</th>\n",
       "      <td>2401</td>\n",
       "      <td>0</td>\n",
       "      <td>[im coming borderlands murder]</td>\n",
       "    </tr>\n",
       "    <tr>\n",
       "      <th>4</th>\n",
       "      <td>2401</td>\n",
       "      <td>0</td>\n",
       "      <td>[im getting borderlands murder]</td>\n",
       "    </tr>\n",
       "    <tr>\n",
       "      <th>...</th>\n",
       "      <td>...</td>\n",
       "      <td>...</td>\n",
       "      <td>...</td>\n",
       "    </tr>\n",
       "    <tr>\n",
       "      <th>73605</th>\n",
       "      <td>9200</td>\n",
       "      <td>0</td>\n",
       "      <td>[realized windows partition mac like years beh...</td>\n",
       "    </tr>\n",
       "    <tr>\n",
       "      <th>73606</th>\n",
       "      <td>9200</td>\n",
       "      <td>0</td>\n",
       "      <td>[realized mac window partition years behind nv...</td>\n",
       "    </tr>\n",
       "    <tr>\n",
       "      <th>73607</th>\n",
       "      <td>9200</td>\n",
       "      <td>0</td>\n",
       "      <td>[realized windows partition mac years behind n...</td>\n",
       "    </tr>\n",
       "    <tr>\n",
       "      <th>73608</th>\n",
       "      <td>9200</td>\n",
       "      <td>0</td>\n",
       "      <td>[realized windows partition mac like years beh...</td>\n",
       "    </tr>\n",
       "    <tr>\n",
       "      <th>73609</th>\n",
       "      <td>9200</td>\n",
       "      <td>0</td>\n",
       "      <td>[like windows partition mac like years behind ...</td>\n",
       "    </tr>\n",
       "  </tbody>\n",
       "</table>\n",
       "<p>73610 rows × 3 columns</p>\n",
       "</div>"
      ],
      "text/plain": [
       "       Tweet ID  sentiment                                      Tweet content\n",
       "0          2401          0                    [im getting borderlands murder]\n",
       "1          2401          0                              [coming borders kill]\n",
       "2          2401          0                      [im getting borderlands kill]\n",
       "3          2401          0                     [im coming borderlands murder]\n",
       "4          2401          0                    [im getting borderlands murder]\n",
       "...         ...        ...                                                ...\n",
       "73605      9200          0  [realized windows partition mac like years beh...\n",
       "73606      9200          0  [realized mac window partition years behind nv...\n",
       "73607      9200          0  [realized windows partition mac years behind n...\n",
       "73608      9200          0  [realized windows partition mac like years beh...\n",
       "73609      9200          0  [like windows partition mac like years behind ...\n",
       "\n",
       "[73610 rows x 3 columns]"
      ]
     },
     "execution_count": 70,
     "metadata": {},
     "output_type": "execute_result"
    }
   ],
   "source": [
    "training"
   ]
  },
  {
   "cell_type": "code",
   "execution_count": 71,
   "id": "dbb763e2",
   "metadata": {},
   "outputs": [],
   "source": [
    "# training.to_csv('clean_train', sep='\\t', encoding='utf-8')"
   ]
  },
  {
   "cell_type": "markdown",
   "id": "b25b6b37",
   "metadata": {},
   "source": [
    "Stemming"
   ]
  },
  {
   "cell_type": "code",
   "execution_count": 72,
   "id": "fbe69dd8",
   "metadata": {},
   "outputs": [],
   "source": [
    "#stem the words\n",
    "ps = PorterStemmer()\n",
    "# Define a function to stem the words\n",
    "def stemming(word_list):\n",
    "    tweet_with_stem = []\n",
    "    split_list = [word for sentence in word_list for word in sentence.split()]\n",
    "    for w in split_list:\n",
    "        w = ps.stem(w)\n",
    "        tweet_with_stem.append(w)\n",
    "    return tweet_with_stem"
   ]
  },
  {
   "cell_type": "code",
   "execution_count": 73,
   "id": "a48edb79",
   "metadata": {},
   "outputs": [],
   "source": [
    "training['Tweet content'] = training['Tweet content'].apply(stemming)\n",
    "test['Tweet content'] = test['Tweet content'].apply(stemming)\n",
    "validation['Tweet content'] = validation['Tweet content'].apply(stemming)"
   ]
  },
  {
   "cell_type": "code",
   "execution_count": 74,
   "id": "6bed226b",
   "metadata": {},
   "outputs": [
    {
     "data": {
      "text/html": [
       "<div>\n",
       "<style scoped>\n",
       "    .dataframe tbody tr th:only-of-type {\n",
       "        vertical-align: middle;\n",
       "    }\n",
       "\n",
       "    .dataframe tbody tr th {\n",
       "        vertical-align: top;\n",
       "    }\n",
       "\n",
       "    .dataframe thead th {\n",
       "        text-align: right;\n",
       "    }\n",
       "</style>\n",
       "<table border=\"1\" class=\"dataframe\">\n",
       "  <thead>\n",
       "    <tr style=\"text-align: right;\">\n",
       "      <th></th>\n",
       "      <th>Tweet ID</th>\n",
       "      <th>sentiment</th>\n",
       "      <th>Tweet content</th>\n",
       "    </tr>\n",
       "  </thead>\n",
       "  <tbody>\n",
       "    <tr>\n",
       "      <th>0</th>\n",
       "      <td>2401</td>\n",
       "      <td>0</td>\n",
       "      <td>[im, get, borderland, murder]</td>\n",
       "    </tr>\n",
       "    <tr>\n",
       "      <th>1</th>\n",
       "      <td>2401</td>\n",
       "      <td>0</td>\n",
       "      <td>[come, border, kill]</td>\n",
       "    </tr>\n",
       "    <tr>\n",
       "      <th>2</th>\n",
       "      <td>2401</td>\n",
       "      <td>0</td>\n",
       "      <td>[im, get, borderland, kill]</td>\n",
       "    </tr>\n",
       "    <tr>\n",
       "      <th>3</th>\n",
       "      <td>2401</td>\n",
       "      <td>0</td>\n",
       "      <td>[im, come, borderland, murder]</td>\n",
       "    </tr>\n",
       "    <tr>\n",
       "      <th>4</th>\n",
       "      <td>2401</td>\n",
       "      <td>0</td>\n",
       "      <td>[im, get, borderland, murder]</td>\n",
       "    </tr>\n",
       "    <tr>\n",
       "      <th>...</th>\n",
       "      <td>...</td>\n",
       "      <td>...</td>\n",
       "      <td>...</td>\n",
       "    </tr>\n",
       "    <tr>\n",
       "      <th>73605</th>\n",
       "      <td>9200</td>\n",
       "      <td>0</td>\n",
       "      <td>[realiz, window, partit, mac, like, year, behi...</td>\n",
       "    </tr>\n",
       "    <tr>\n",
       "      <th>73606</th>\n",
       "      <td>9200</td>\n",
       "      <td>0</td>\n",
       "      <td>[realiz, mac, window, partit, year, behind, nv...</td>\n",
       "    </tr>\n",
       "    <tr>\n",
       "      <th>73607</th>\n",
       "      <td>9200</td>\n",
       "      <td>0</td>\n",
       "      <td>[realiz, window, partit, mac, year, behind, nv...</td>\n",
       "    </tr>\n",
       "    <tr>\n",
       "      <th>73608</th>\n",
       "      <td>9200</td>\n",
       "      <td>0</td>\n",
       "      <td>[realiz, window, partit, mac, like, year, behi...</td>\n",
       "    </tr>\n",
       "    <tr>\n",
       "      <th>73609</th>\n",
       "      <td>9200</td>\n",
       "      <td>0</td>\n",
       "      <td>[like, window, partit, mac, like, year, behind...</td>\n",
       "    </tr>\n",
       "  </tbody>\n",
       "</table>\n",
       "<p>73610 rows × 3 columns</p>\n",
       "</div>"
      ],
      "text/plain": [
       "       Tweet ID  sentiment                                      Tweet content\n",
       "0          2401          0                      [im, get, borderland, murder]\n",
       "1          2401          0                               [come, border, kill]\n",
       "2          2401          0                        [im, get, borderland, kill]\n",
       "3          2401          0                     [im, come, borderland, murder]\n",
       "4          2401          0                      [im, get, borderland, murder]\n",
       "...         ...        ...                                                ...\n",
       "73605      9200          0  [realiz, window, partit, mac, like, year, behi...\n",
       "73606      9200          0  [realiz, mac, window, partit, year, behind, nv...\n",
       "73607      9200          0  [realiz, window, partit, mac, year, behind, nv...\n",
       "73608      9200          0  [realiz, window, partit, mac, like, year, behi...\n",
       "73609      9200          0  [like, window, partit, mac, like, year, behind...\n",
       "\n",
       "[73610 rows x 3 columns]"
      ]
     },
     "execution_count": 74,
     "metadata": {},
     "output_type": "execute_result"
    }
   ],
   "source": [
    "training"
   ]
  },
  {
   "cell_type": "code",
   "execution_count": 75,
   "id": "974d0d82",
   "metadata": {},
   "outputs": [],
   "source": [
    "# lemmatizer = WordNetLemmatizer()\n",
    "# with tqdm(total=len(training['Tweet content'])) as pbar:\n",
    "#     for tweet in training['Tweet content']:\n",
    "#         lemmatized = [lemmatizer.lemmatize(word) for word in tweet]\n",
    "#         tweets.append(lemmatized)\n",
    "#         pbar.update(1)"
   ]
  },
  {
   "cell_type": "code",
   "execution_count": 76,
   "id": "ad3b228e",
   "metadata": {},
   "outputs": [
    {
     "data": {
      "text/plain": [
       "list"
      ]
     },
     "execution_count": 76,
     "metadata": {},
     "output_type": "execute_result"
    }
   ],
   "source": [
    "type(training['Tweet content'][0])"
   ]
  },
  {
   "cell_type": "markdown",
   "id": "fd88da1c",
   "metadata": {},
   "source": [
    "# Vecotorization"
   ]
  },
  {
   "cell_type": "markdown",
   "id": "91fe55c4",
   "metadata": {},
   "source": [
    "# TF-IDF"
   ]
  },
  {
   "cell_type": "code",
   "execution_count": 78,
   "id": "a49d0a19",
   "metadata": {},
   "outputs": [],
   "source": [
    "def convert_TF_IDF(df):\n",
    "    df['Tweet content'] = df['Tweet content'].astype(str)\n",
    "    df['tf_idf'] = TfidfVectorizer(max_features=1000, dtype=np.float64).fit_transform(df['Tweet content']).todense().tolist()\n",
    "    return df"
   ]
  },
  {
   "cell_type": "code",
   "execution_count": 79,
   "id": "25cc4aed",
   "metadata": {},
   "outputs": [],
   "source": [
    "training = convert_TF_IDF(training)\n",
    "test = convert_TF_IDF(test)\n",
    "validation = convert_TF_IDF(test)"
   ]
  },
  {
   "cell_type": "code",
   "execution_count": 80,
   "id": "95743afc",
   "metadata": {},
   "outputs": [
    {
     "data": {
      "text/html": [
       "<div>\n",
       "<style scoped>\n",
       "    .dataframe tbody tr th:only-of-type {\n",
       "        vertical-align: middle;\n",
       "    }\n",
       "\n",
       "    .dataframe tbody tr th {\n",
       "        vertical-align: top;\n",
       "    }\n",
       "\n",
       "    .dataframe thead th {\n",
       "        text-align: right;\n",
       "    }\n",
       "</style>\n",
       "<table border=\"1\" class=\"dataframe\">\n",
       "  <thead>\n",
       "    <tr style=\"text-align: right;\">\n",
       "      <th></th>\n",
       "      <th>Tweet ID</th>\n",
       "      <th>sentiment</th>\n",
       "      <th>Tweet content</th>\n",
       "      <th>tf_idf</th>\n",
       "    </tr>\n",
       "  </thead>\n",
       "  <tbody>\n",
       "    <tr>\n",
       "      <th>0</th>\n",
       "      <td>3364</td>\n",
       "      <td>3</td>\n",
       "      <td>['mention', 'facebook', 'struggl', 'motiv', 'g...</td>\n",
       "      <td>[0.0, 0.0, 0.0, 0.0, 0.0, 0.0, 0.0, 0.0, 0.0, ...</td>\n",
       "    </tr>\n",
       "    <tr>\n",
       "      <th>1</th>\n",
       "      <td>352</td>\n",
       "      <td>1</td>\n",
       "      <td>['bbc', 'news', 'amazon', 'boss', 'jeff', 'bez...</td>\n",
       "      <td>[0.0, 0.0, 0.0, 0.0, 0.0, 0.3861389225206503, ...</td>\n",
       "    </tr>\n",
       "    <tr>\n",
       "      <th>2</th>\n",
       "      <td>8312</td>\n",
       "      <td>2</td>\n",
       "      <td>['pay', 'word', 'function', 'poorli', 'chromeb...</td>\n",
       "      <td>[0.0, 0.0, 0.0, 0.0, 0.0, 0.0, 0.0, 0.0, 0.0, ...</td>\n",
       "    </tr>\n",
       "    <tr>\n",
       "      <th>3</th>\n",
       "      <td>4371</td>\n",
       "      <td>2</td>\n",
       "      <td>['csgo', 'matchmak', 'full', 'closet', 'hack',...</td>\n",
       "      <td>[0.0, 0.0, 0.0, 0.0, 0.0, 0.0, 0.0, 0.0, 0.0, ...</td>\n",
       "    </tr>\n",
       "    <tr>\n",
       "      <th>4</th>\n",
       "      <td>4433</td>\n",
       "      <td>1</td>\n",
       "      <td>['presid', 'slap', 'american', 'face', 'realli...</td>\n",
       "      <td>[0.0, 0.0, 0.0, 0.0, 0.0, 0.43097889205893375,...</td>\n",
       "    </tr>\n",
       "    <tr>\n",
       "      <th>...</th>\n",
       "      <td>...</td>\n",
       "      <td>...</td>\n",
       "      <td>...</td>\n",
       "      <td>...</td>\n",
       "    </tr>\n",
       "    <tr>\n",
       "      <th>495</th>\n",
       "      <td>8055</td>\n",
       "      <td>0</td>\n",
       "      <td>['special', 'shoutout', 'microsoft', 'excel']</td>\n",
       "      <td>[0.0, 0.0, 0.0, 0.0, 0.0, 0.0, 0.0, 0.0, 0.0, ...</td>\n",
       "    </tr>\n",
       "    <tr>\n",
       "      <th>496</th>\n",
       "      <td>6787</td>\n",
       "      <td>3</td>\n",
       "      <td>['dumb', 'lucki', 'fortnit', 'montag', 'youtub...</td>\n",
       "      <td>[0.0, 0.0, 0.0, 0.0, 0.0, 0.0, 0.0, 0.0, 0.0, ...</td>\n",
       "    </tr>\n",
       "    <tr>\n",
       "      <th>497</th>\n",
       "      <td>3838</td>\n",
       "      <td>0</td>\n",
       "      <td>['dang', 'goe', 'birthday', 'present', 'mayb',...</td>\n",
       "      <td>[0.0, 0.0, 0.0, 0.0, 0.0, 0.0, 0.0, 0.0, 0.0, ...</td>\n",
       "    </tr>\n",
       "    <tr>\n",
       "      <th>498</th>\n",
       "      <td>2008</td>\n",
       "      <td>3</td>\n",
       "      <td>['ab', 'fab', 'see', 'bungalow', 'built', 'wal...</td>\n",
       "      <td>[0.0, 0.0, 0.0, 0.0, 0.0, 0.0, 0.0, 0.0, 0.0, ...</td>\n",
       "    </tr>\n",
       "    <tr>\n",
       "      <th>499</th>\n",
       "      <td>4096</td>\n",
       "      <td>1</td>\n",
       "      <td>['million', 'viewer', 'wtf', 'csgo', 'minecraf...</td>\n",
       "      <td>[0.0, 0.0, 0.0, 0.0, 0.0, 0.0, 0.0, 0.0, 0.0, ...</td>\n",
       "    </tr>\n",
       "  </tbody>\n",
       "</table>\n",
       "<p>500 rows × 4 columns</p>\n",
       "</div>"
      ],
      "text/plain": [
       "     Tweet ID  sentiment                                      Tweet content  \\\n",
       "0        3364          3  ['mention', 'facebook', 'struggl', 'motiv', 'g...   \n",
       "1         352          1  ['bbc', 'news', 'amazon', 'boss', 'jeff', 'bez...   \n",
       "2        8312          2  ['pay', 'word', 'function', 'poorli', 'chromeb...   \n",
       "3        4371          2  ['csgo', 'matchmak', 'full', 'closet', 'hack',...   \n",
       "4        4433          1  ['presid', 'slap', 'american', 'face', 'realli...   \n",
       "..        ...        ...                                                ...   \n",
       "495      8055          0      ['special', 'shoutout', 'microsoft', 'excel']   \n",
       "496      6787          3  ['dumb', 'lucki', 'fortnit', 'montag', 'youtub...   \n",
       "497      3838          0  ['dang', 'goe', 'birthday', 'present', 'mayb',...   \n",
       "498      2008          3  ['ab', 'fab', 'see', 'bungalow', 'built', 'wal...   \n",
       "499      4096          1  ['million', 'viewer', 'wtf', 'csgo', 'minecraf...   \n",
       "\n",
       "                                                tf_idf  \n",
       "0    [0.0, 0.0, 0.0, 0.0, 0.0, 0.0, 0.0, 0.0, 0.0, ...  \n",
       "1    [0.0, 0.0, 0.0, 0.0, 0.0, 0.3861389225206503, ...  \n",
       "2    [0.0, 0.0, 0.0, 0.0, 0.0, 0.0, 0.0, 0.0, 0.0, ...  \n",
       "3    [0.0, 0.0, 0.0, 0.0, 0.0, 0.0, 0.0, 0.0, 0.0, ...  \n",
       "4    [0.0, 0.0, 0.0, 0.0, 0.0, 0.43097889205893375,...  \n",
       "..                                                 ...  \n",
       "495  [0.0, 0.0, 0.0, 0.0, 0.0, 0.0, 0.0, 0.0, 0.0, ...  \n",
       "496  [0.0, 0.0, 0.0, 0.0, 0.0, 0.0, 0.0, 0.0, 0.0, ...  \n",
       "497  [0.0, 0.0, 0.0, 0.0, 0.0, 0.0, 0.0, 0.0, 0.0, ...  \n",
       "498  [0.0, 0.0, 0.0, 0.0, 0.0, 0.0, 0.0, 0.0, 0.0, ...  \n",
       "499  [0.0, 0.0, 0.0, 0.0, 0.0, 0.0, 0.0, 0.0, 0.0, ...  \n",
       "\n",
       "[500 rows x 4 columns]"
      ]
     },
     "execution_count": 80,
     "metadata": {},
     "output_type": "execute_result"
    }
   ],
   "source": [
    "validation"
   ]
  },
  {
   "cell_type": "markdown",
   "id": "6d1e4c03",
   "metadata": {},
   "source": [
    "# Train Model"
   ]
  },
  {
   "cell_type": "markdown",
   "id": "b7aec89f",
   "metadata": {},
   "source": [
    "# Random Forest"
   ]
  },
  {
   "cell_type": "code",
   "execution_count": 81,
   "id": "47b90b4e",
   "metadata": {},
   "outputs": [
    {
     "data": {
      "text/html": [
       "<style>#sk-container-id-1 {color: black;background-color: white;}#sk-container-id-1 pre{padding: 0;}#sk-container-id-1 div.sk-toggleable {background-color: white;}#sk-container-id-1 label.sk-toggleable__label {cursor: pointer;display: block;width: 100%;margin-bottom: 0;padding: 0.3em;box-sizing: border-box;text-align: center;}#sk-container-id-1 label.sk-toggleable__label-arrow:before {content: \"▸\";float: left;margin-right: 0.25em;color: #696969;}#sk-container-id-1 label.sk-toggleable__label-arrow:hover:before {color: black;}#sk-container-id-1 div.sk-estimator:hover label.sk-toggleable__label-arrow:before {color: black;}#sk-container-id-1 div.sk-toggleable__content {max-height: 0;max-width: 0;overflow: hidden;text-align: left;background-color: #f0f8ff;}#sk-container-id-1 div.sk-toggleable__content pre {margin: 0.2em;color: black;border-radius: 0.25em;background-color: #f0f8ff;}#sk-container-id-1 input.sk-toggleable__control:checked~div.sk-toggleable__content {max-height: 200px;max-width: 100%;overflow: auto;}#sk-container-id-1 input.sk-toggleable__control:checked~label.sk-toggleable__label-arrow:before {content: \"▾\";}#sk-container-id-1 div.sk-estimator input.sk-toggleable__control:checked~label.sk-toggleable__label {background-color: #d4ebff;}#sk-container-id-1 div.sk-label input.sk-toggleable__control:checked~label.sk-toggleable__label {background-color: #d4ebff;}#sk-container-id-1 input.sk-hidden--visually {border: 0;clip: rect(1px 1px 1px 1px);clip: rect(1px, 1px, 1px, 1px);height: 1px;margin: -1px;overflow: hidden;padding: 0;position: absolute;width: 1px;}#sk-container-id-1 div.sk-estimator {font-family: monospace;background-color: #f0f8ff;border: 1px dotted black;border-radius: 0.25em;box-sizing: border-box;margin-bottom: 0.5em;}#sk-container-id-1 div.sk-estimator:hover {background-color: #d4ebff;}#sk-container-id-1 div.sk-parallel-item::after {content: \"\";width: 100%;border-bottom: 1px solid gray;flex-grow: 1;}#sk-container-id-1 div.sk-label:hover label.sk-toggleable__label {background-color: #d4ebff;}#sk-container-id-1 div.sk-serial::before {content: \"\";position: absolute;border-left: 1px solid gray;box-sizing: border-box;top: 0;bottom: 0;left: 50%;z-index: 0;}#sk-container-id-1 div.sk-serial {display: flex;flex-direction: column;align-items: center;background-color: white;padding-right: 0.2em;padding-left: 0.2em;position: relative;}#sk-container-id-1 div.sk-item {position: relative;z-index: 1;}#sk-container-id-1 div.sk-parallel {display: flex;align-items: stretch;justify-content: center;background-color: white;position: relative;}#sk-container-id-1 div.sk-item::before, #sk-container-id-1 div.sk-parallel-item::before {content: \"\";position: absolute;border-left: 1px solid gray;box-sizing: border-box;top: 0;bottom: 0;left: 50%;z-index: -1;}#sk-container-id-1 div.sk-parallel-item {display: flex;flex-direction: column;z-index: 1;position: relative;background-color: white;}#sk-container-id-1 div.sk-parallel-item:first-child::after {align-self: flex-end;width: 50%;}#sk-container-id-1 div.sk-parallel-item:last-child::after {align-self: flex-start;width: 50%;}#sk-container-id-1 div.sk-parallel-item:only-child::after {width: 0;}#sk-container-id-1 div.sk-dashed-wrapped {border: 1px dashed gray;margin: 0 0.4em 0.5em 0.4em;box-sizing: border-box;padding-bottom: 0.4em;background-color: white;}#sk-container-id-1 div.sk-label label {font-family: monospace;font-weight: bold;display: inline-block;line-height: 1.2em;}#sk-container-id-1 div.sk-label-container {text-align: center;}#sk-container-id-1 div.sk-container {/* jupyter's `normalize.less` sets `[hidden] { display: none; }` but bootstrap.min.css set `[hidden] { display: none !important; }` so we also need the `!important` here to be able to override the default hidden behavior on the sphinx rendered scikit-learn.org. See: https://github.com/scikit-learn/scikit-learn/issues/21755 */display: inline-block !important;position: relative;}#sk-container-id-1 div.sk-text-repr-fallback {display: none;}</style><div id=\"sk-container-id-1\" class=\"sk-top-container\"><div class=\"sk-text-repr-fallback\"><pre>RandomForestClassifier(class_weight={0: 0.8962413594470046,\n",
       "                                     1: 1.0192433671798231,\n",
       "                                     2: 0.8282539260047911,\n",
       "                                     3: 1.4372979214780601},\n",
       "                       random_state=42)</pre><b>In a Jupyter environment, please rerun this cell to show the HTML representation or trust the notebook. <br />On GitHub, the HTML representation is unable to render, please try loading this page with nbviewer.org.</b></div><div class=\"sk-container\" hidden><div class=\"sk-item\"><div class=\"sk-estimator sk-toggleable\"><input class=\"sk-toggleable__control sk-hidden--visually\" id=\"sk-estimator-id-1\" type=\"checkbox\" checked><label for=\"sk-estimator-id-1\" class=\"sk-toggleable__label sk-toggleable__label-arrow\">RandomForestClassifier</label><div class=\"sk-toggleable__content\"><pre>RandomForestClassifier(class_weight={0: 0.8962413594470046,\n",
       "                                     1: 1.0192433671798231,\n",
       "                                     2: 0.8282539260047911,\n",
       "                                     3: 1.4372979214780601},\n",
       "                       random_state=42)</pre></div></div></div></div></div>"
      ],
      "text/plain": [
       "RandomForestClassifier(class_weight={0: 0.8962413594470046,\n",
       "                                     1: 1.0192433671798231,\n",
       "                                     2: 0.8282539260047911,\n",
       "                                     3: 1.4372979214780601},\n",
       "                       random_state=42)"
      ]
     },
     "execution_count": 81,
     "metadata": {},
     "output_type": "execute_result"
    }
   ],
   "source": [
    "# Create X_train and y_train\n",
    "X_train_RF = np.vstack(training['tf_idf'].to_numpy())\n",
    "y_train_RF = np.array(training['sentiment'])\n",
    "\n",
    "# Random Forest Model\n",
    "rf_model = RandomForestClassifier(n_estimators=100, random_state=42,class_weight=c_weightS_dict)\n",
    "rf_model.fit(X_train_RF, y_train_RF)"
   ]
  },
  {
   "cell_type": "code",
   "execution_count": 82,
   "id": "9f12535b",
   "metadata": {},
   "outputs": [],
   "source": [
    "X_test_RF = np.vstack(test['tf_idf'].to_numpy())\n",
    "y_test_RF = np.array(test['sentiment'])"
   ]
  },
  {
   "cell_type": "code",
   "execution_count": 83,
   "id": "c7d40228",
   "metadata": {},
   "outputs": [],
   "source": [
    "# Predictions\n",
    "rf_predictions = rf_model.predict(X_test_RF)"
   ]
  },
  {
   "cell_type": "markdown",
   "id": "9d4080ee",
   "metadata": {},
   "source": [
    "# Evaluate"
   ]
  },
  {
   "cell_type": "code",
   "execution_count": 84,
   "id": "252cad80",
   "metadata": {},
   "outputs": [
    {
     "name": "stdout",
     "output_type": "stream",
     "text": [
      "RF Precision: 0.238757616079172\n",
      "RF Recall: 0.2470274634048158\n",
      "RF F1-Score: 0.23835711170077425\n",
      "RF Confusion Matrix:\n",
      "[[32 42 45 29]\n",
      " [28 39 49 18]\n",
      " [26 31 51 18]\n",
      " [22 29 34  7]]\n"
     ]
    }
   ],
   "source": [
    "# Replace 'binary' with the desired average setting ('micro', 'macro', 'weighted', or None)\n",
    "average_setting = 'macro'\n",
    "# Calculate precision, recall, and F1-score with the specified average setting and conf_matrix\n",
    "precision = precision_score(y_test_RF, rf_predictions, average=average_setting)\n",
    "recall = recall_score(y_test_RF, rf_predictions, average=average_setting)\n",
    "f1 = f1_score(y_test_RF, rf_predictions, average=average_setting)\n",
    "conf_matrix = confusion_matrix(y_test_RF, rf_predictions)\n",
    "\n",
    "# Print additional metrics\n",
    "print(\"RF Precision:\", precision)\n",
    "print(\"RF Recall:\", recall)\n",
    "print(\"RF F1-Score:\", f1)\n",
    "print(\"RF Confusion Matrix:\")\n",
    "print(conf_matrix)\n"
   ]
  },
  {
   "cell_type": "code",
   "execution_count": 85,
   "id": "1bf8cb44",
   "metadata": {},
   "outputs": [
    {
     "name": "stdout",
     "output_type": "stream",
     "text": [
      "RF Accuracy: 0.258\n",
      "RF Classification Report:\n",
      "              precision    recall  f1-score   support\n",
      "\n",
      "           0       0.30      0.22      0.25       148\n",
      "           1       0.28      0.29      0.28       134\n",
      "           2       0.28      0.40      0.33       126\n",
      "           3       0.10      0.08      0.09        92\n",
      "\n",
      "    accuracy                           0.26       500\n",
      "   macro avg       0.24      0.25      0.24       500\n",
      "weighted avg       0.25      0.26      0.25       500\n",
      "\n"
     ]
    }
   ],
   "source": [
    "# Calculate accuracy\n",
    "rf_accuracy = accuracy_score(y_test_RF, rf_predictions)\n",
    "print(\"RF Accuracy:\", rf_accuracy)\n",
    "print(\"RF Classification Report:\")\n",
    "print(classification_report(y_test_RF, rf_predictions))"
   ]
  },
  {
   "cell_type": "code",
   "execution_count": 86,
   "id": "fc206bfb",
   "metadata": {},
   "outputs": [],
   "source": [
    "# Create X_val and y_val\n",
    "X_val_RF = np.vstack(validation['tf_idf'].to_numpy())\n",
    "y_val_RF = np.array(validation['sentiment'])"
   ]
  },
  {
   "cell_type": "code",
   "execution_count": 87,
   "id": "ae23787c",
   "metadata": {},
   "outputs": [],
   "source": [
    "# Make predictions on the Twitter-validation dataset\n",
    "validation['predicted RF tf_idf'] = rf_model.predict(X_val_RF)\n",
    "# Save the result to an Excel file\n",
    "validation.to_excel('RF_validation_tf_idf.xlsx', index=False)"
   ]
  },
  {
   "cell_type": "code",
   "execution_count": 88,
   "id": "a14f67bb",
   "metadata": {},
   "outputs": [
    {
     "data": {
      "text/html": [
       "<div>\n",
       "<style scoped>\n",
       "    .dataframe tbody tr th:only-of-type {\n",
       "        vertical-align: middle;\n",
       "    }\n",
       "\n",
       "    .dataframe tbody tr th {\n",
       "        vertical-align: top;\n",
       "    }\n",
       "\n",
       "    .dataframe thead th {\n",
       "        text-align: right;\n",
       "    }\n",
       "</style>\n",
       "<table border=\"1\" class=\"dataframe\">\n",
       "  <thead>\n",
       "    <tr style=\"text-align: right;\">\n",
       "      <th></th>\n",
       "      <th>Tweet ID</th>\n",
       "      <th>sentiment</th>\n",
       "      <th>Tweet content</th>\n",
       "      <th>tf_idf</th>\n",
       "      <th>predicted RF tf_idf</th>\n",
       "    </tr>\n",
       "  </thead>\n",
       "  <tbody>\n",
       "    <tr>\n",
       "      <th>0</th>\n",
       "      <td>3364</td>\n",
       "      <td>3</td>\n",
       "      <td>['mention', 'facebook', 'struggl', 'motiv', 'g...</td>\n",
       "      <td>[0.0, 0.0, 0.0, 0.0, 0.0, 0.0, 0.0, 0.0, 0.0, ...</td>\n",
       "      <td>2</td>\n",
       "    </tr>\n",
       "    <tr>\n",
       "      <th>1</th>\n",
       "      <td>352</td>\n",
       "      <td>1</td>\n",
       "      <td>['bbc', 'news', 'amazon', 'boss', 'jeff', 'bez...</td>\n",
       "      <td>[0.0, 0.0, 0.0, 0.0, 0.0, 0.3861389225206503, ...</td>\n",
       "      <td>2</td>\n",
       "    </tr>\n",
       "    <tr>\n",
       "      <th>2</th>\n",
       "      <td>8312</td>\n",
       "      <td>2</td>\n",
       "      <td>['pay', 'word', 'function', 'poorli', 'chromeb...</td>\n",
       "      <td>[0.0, 0.0, 0.0, 0.0, 0.0, 0.0, 0.0, 0.0, 0.0, ...</td>\n",
       "      <td>0</td>\n",
       "    </tr>\n",
       "    <tr>\n",
       "      <th>3</th>\n",
       "      <td>4371</td>\n",
       "      <td>2</td>\n",
       "      <td>['csgo', 'matchmak', 'full', 'closet', 'hack',...</td>\n",
       "      <td>[0.0, 0.0, 0.0, 0.0, 0.0, 0.0, 0.0, 0.0, 0.0, ...</td>\n",
       "      <td>2</td>\n",
       "    </tr>\n",
       "    <tr>\n",
       "      <th>4</th>\n",
       "      <td>4433</td>\n",
       "      <td>1</td>\n",
       "      <td>['presid', 'slap', 'american', 'face', 'realli...</td>\n",
       "      <td>[0.0, 0.0, 0.0, 0.0, 0.0, 0.43097889205893375,...</td>\n",
       "      <td>1</td>\n",
       "    </tr>\n",
       "    <tr>\n",
       "      <th>...</th>\n",
       "      <td>...</td>\n",
       "      <td>...</td>\n",
       "      <td>...</td>\n",
       "      <td>...</td>\n",
       "      <td>...</td>\n",
       "    </tr>\n",
       "    <tr>\n",
       "      <th>495</th>\n",
       "      <td>8055</td>\n",
       "      <td>0</td>\n",
       "      <td>['special', 'shoutout', 'microsoft', 'excel']</td>\n",
       "      <td>[0.0, 0.0, 0.0, 0.0, 0.0, 0.0, 0.0, 0.0, 0.0, ...</td>\n",
       "      <td>3</td>\n",
       "    </tr>\n",
       "    <tr>\n",
       "      <th>496</th>\n",
       "      <td>6787</td>\n",
       "      <td>3</td>\n",
       "      <td>['dumb', 'lucki', 'fortnit', 'montag', 'youtub...</td>\n",
       "      <td>[0.0, 0.0, 0.0, 0.0, 0.0, 0.0, 0.0, 0.0, 0.0, ...</td>\n",
       "      <td>1</td>\n",
       "    </tr>\n",
       "    <tr>\n",
       "      <th>497</th>\n",
       "      <td>3838</td>\n",
       "      <td>0</td>\n",
       "      <td>['dang', 'goe', 'birthday', 'present', 'mayb',...</td>\n",
       "      <td>[0.0, 0.0, 0.0, 0.0, 0.0, 0.0, 0.0, 0.0, 0.0, ...</td>\n",
       "      <td>1</td>\n",
       "    </tr>\n",
       "    <tr>\n",
       "      <th>498</th>\n",
       "      <td>2008</td>\n",
       "      <td>3</td>\n",
       "      <td>['ab', 'fab', 'see', 'bungalow', 'built', 'wal...</td>\n",
       "      <td>[0.0, 0.0, 0.0, 0.0, 0.0, 0.0, 0.0, 0.0, 0.0, ...</td>\n",
       "      <td>2</td>\n",
       "    </tr>\n",
       "    <tr>\n",
       "      <th>499</th>\n",
       "      <td>4096</td>\n",
       "      <td>1</td>\n",
       "      <td>['million', 'viewer', 'wtf', 'csgo', 'minecraf...</td>\n",
       "      <td>[0.0, 0.0, 0.0, 0.0, 0.0, 0.0, 0.0, 0.0, 0.0, ...</td>\n",
       "      <td>2</td>\n",
       "    </tr>\n",
       "  </tbody>\n",
       "</table>\n",
       "<p>500 rows × 5 columns</p>\n",
       "</div>"
      ],
      "text/plain": [
       "     Tweet ID  sentiment                                      Tweet content  \\\n",
       "0        3364          3  ['mention', 'facebook', 'struggl', 'motiv', 'g...   \n",
       "1         352          1  ['bbc', 'news', 'amazon', 'boss', 'jeff', 'bez...   \n",
       "2        8312          2  ['pay', 'word', 'function', 'poorli', 'chromeb...   \n",
       "3        4371          2  ['csgo', 'matchmak', 'full', 'closet', 'hack',...   \n",
       "4        4433          1  ['presid', 'slap', 'american', 'face', 'realli...   \n",
       "..        ...        ...                                                ...   \n",
       "495      8055          0      ['special', 'shoutout', 'microsoft', 'excel']   \n",
       "496      6787          3  ['dumb', 'lucki', 'fortnit', 'montag', 'youtub...   \n",
       "497      3838          0  ['dang', 'goe', 'birthday', 'present', 'mayb',...   \n",
       "498      2008          3  ['ab', 'fab', 'see', 'bungalow', 'built', 'wal...   \n",
       "499      4096          1  ['million', 'viewer', 'wtf', 'csgo', 'minecraf...   \n",
       "\n",
       "                                                tf_idf  predicted RF tf_idf  \n",
       "0    [0.0, 0.0, 0.0, 0.0, 0.0, 0.0, 0.0, 0.0, 0.0, ...                    2  \n",
       "1    [0.0, 0.0, 0.0, 0.0, 0.0, 0.3861389225206503, ...                    2  \n",
       "2    [0.0, 0.0, 0.0, 0.0, 0.0, 0.0, 0.0, 0.0, 0.0, ...                    0  \n",
       "3    [0.0, 0.0, 0.0, 0.0, 0.0, 0.0, 0.0, 0.0, 0.0, ...                    2  \n",
       "4    [0.0, 0.0, 0.0, 0.0, 0.0, 0.43097889205893375,...                    1  \n",
       "..                                                 ...                  ...  \n",
       "495  [0.0, 0.0, 0.0, 0.0, 0.0, 0.0, 0.0, 0.0, 0.0, ...                    3  \n",
       "496  [0.0, 0.0, 0.0, 0.0, 0.0, 0.0, 0.0, 0.0, 0.0, ...                    1  \n",
       "497  [0.0, 0.0, 0.0, 0.0, 0.0, 0.0, 0.0, 0.0, 0.0, ...                    1  \n",
       "498  [0.0, 0.0, 0.0, 0.0, 0.0, 0.0, 0.0, 0.0, 0.0, ...                    2  \n",
       "499  [0.0, 0.0, 0.0, 0.0, 0.0, 0.0, 0.0, 0.0, 0.0, ...                    2  \n",
       "\n",
       "[500 rows x 5 columns]"
      ]
     },
     "execution_count": 88,
     "metadata": {},
     "output_type": "execute_result"
    }
   ],
   "source": [
    "validation"
   ]
  },
  {
   "cell_type": "markdown",
   "id": "f6984d15",
   "metadata": {},
   "source": [
    "# Results"
   ]
  },
  {
   "cell_type": "code",
   "execution_count": 89,
   "id": "5249281f",
   "metadata": {},
   "outputs": [
    {
     "name": "stdout",
     "output_type": "stream",
     "text": [
      "Number of Correct Predictions: 129\n"
     ]
    }
   ],
   "source": [
    "result_RF = pd.read_excel('RF_validation_tf_idf.xlsx')\n",
    "true_sentiment = result_RF['sentiment']\n",
    "predicted_sentiment = result_RF['predicted RF tf_idf']\n",
    "# Calculate the number of correct predictions\n",
    "correct_predictions = sum(true_sentiment == predicted_sentiment)\n",
    "# Print the number of correct predictions\n",
    "print(f'Number of Correct Predictions: {correct_predictions}')"
   ]
  },
  {
   "cell_type": "markdown",
   "id": "6c1e181d",
   "metadata": {},
   "source": [
    "# Train Model"
   ]
  },
  {
   "cell_type": "markdown",
   "id": "5ebe28b9",
   "metadata": {},
   "source": [
    "# AdaBoost"
   ]
  },
  {
   "cell_type": "code",
   "execution_count": 90,
   "id": "7637838a",
   "metadata": {},
   "outputs": [],
   "source": [
    "# Create X_train and y_train\n",
    "X_train_AB = np.vstack(training['tf_idf'].to_numpy())\n",
    "y_train_AB = np.array(training['sentiment'])"
   ]
  },
  {
   "cell_type": "code",
   "execution_count": 91,
   "id": "e48b0241",
   "metadata": {},
   "outputs": [
    {
     "data": {
      "text/html": [
       "<style>#sk-container-id-2 {color: black;background-color: white;}#sk-container-id-2 pre{padding: 0;}#sk-container-id-2 div.sk-toggleable {background-color: white;}#sk-container-id-2 label.sk-toggleable__label {cursor: pointer;display: block;width: 100%;margin-bottom: 0;padding: 0.3em;box-sizing: border-box;text-align: center;}#sk-container-id-2 label.sk-toggleable__label-arrow:before {content: \"▸\";float: left;margin-right: 0.25em;color: #696969;}#sk-container-id-2 label.sk-toggleable__label-arrow:hover:before {color: black;}#sk-container-id-2 div.sk-estimator:hover label.sk-toggleable__label-arrow:before {color: black;}#sk-container-id-2 div.sk-toggleable__content {max-height: 0;max-width: 0;overflow: hidden;text-align: left;background-color: #f0f8ff;}#sk-container-id-2 div.sk-toggleable__content pre {margin: 0.2em;color: black;border-radius: 0.25em;background-color: #f0f8ff;}#sk-container-id-2 input.sk-toggleable__control:checked~div.sk-toggleable__content {max-height: 200px;max-width: 100%;overflow: auto;}#sk-container-id-2 input.sk-toggleable__control:checked~label.sk-toggleable__label-arrow:before {content: \"▾\";}#sk-container-id-2 div.sk-estimator input.sk-toggleable__control:checked~label.sk-toggleable__label {background-color: #d4ebff;}#sk-container-id-2 div.sk-label input.sk-toggleable__control:checked~label.sk-toggleable__label {background-color: #d4ebff;}#sk-container-id-2 input.sk-hidden--visually {border: 0;clip: rect(1px 1px 1px 1px);clip: rect(1px, 1px, 1px, 1px);height: 1px;margin: -1px;overflow: hidden;padding: 0;position: absolute;width: 1px;}#sk-container-id-2 div.sk-estimator {font-family: monospace;background-color: #f0f8ff;border: 1px dotted black;border-radius: 0.25em;box-sizing: border-box;margin-bottom: 0.5em;}#sk-container-id-2 div.sk-estimator:hover {background-color: #d4ebff;}#sk-container-id-2 div.sk-parallel-item::after {content: \"\";width: 100%;border-bottom: 1px solid gray;flex-grow: 1;}#sk-container-id-2 div.sk-label:hover label.sk-toggleable__label {background-color: #d4ebff;}#sk-container-id-2 div.sk-serial::before {content: \"\";position: absolute;border-left: 1px solid gray;box-sizing: border-box;top: 0;bottom: 0;left: 50%;z-index: 0;}#sk-container-id-2 div.sk-serial {display: flex;flex-direction: column;align-items: center;background-color: white;padding-right: 0.2em;padding-left: 0.2em;position: relative;}#sk-container-id-2 div.sk-item {position: relative;z-index: 1;}#sk-container-id-2 div.sk-parallel {display: flex;align-items: stretch;justify-content: center;background-color: white;position: relative;}#sk-container-id-2 div.sk-item::before, #sk-container-id-2 div.sk-parallel-item::before {content: \"\";position: absolute;border-left: 1px solid gray;box-sizing: border-box;top: 0;bottom: 0;left: 50%;z-index: -1;}#sk-container-id-2 div.sk-parallel-item {display: flex;flex-direction: column;z-index: 1;position: relative;background-color: white;}#sk-container-id-2 div.sk-parallel-item:first-child::after {align-self: flex-end;width: 50%;}#sk-container-id-2 div.sk-parallel-item:last-child::after {align-self: flex-start;width: 50%;}#sk-container-id-2 div.sk-parallel-item:only-child::after {width: 0;}#sk-container-id-2 div.sk-dashed-wrapped {border: 1px dashed gray;margin: 0 0.4em 0.5em 0.4em;box-sizing: border-box;padding-bottom: 0.4em;background-color: white;}#sk-container-id-2 div.sk-label label {font-family: monospace;font-weight: bold;display: inline-block;line-height: 1.2em;}#sk-container-id-2 div.sk-label-container {text-align: center;}#sk-container-id-2 div.sk-container {/* jupyter's `normalize.less` sets `[hidden] { display: none; }` but bootstrap.min.css set `[hidden] { display: none !important; }` so we also need the `!important` here to be able to override the default hidden behavior on the sphinx rendered scikit-learn.org. See: https://github.com/scikit-learn/scikit-learn/issues/21755 */display: inline-block !important;position: relative;}#sk-container-id-2 div.sk-text-repr-fallback {display: none;}</style><div id=\"sk-container-id-2\" class=\"sk-top-container\"><div class=\"sk-text-repr-fallback\"><pre>AdaBoostClassifier(estimator=DecisionTreeClassifier(max_depth=1),\n",
       "                   random_state=42)</pre><b>In a Jupyter environment, please rerun this cell to show the HTML representation or trust the notebook. <br />On GitHub, the HTML representation is unable to render, please try loading this page with nbviewer.org.</b></div><div class=\"sk-container\" hidden><div class=\"sk-item sk-dashed-wrapped\"><div class=\"sk-label-container\"><div class=\"sk-label sk-toggleable\"><input class=\"sk-toggleable__control sk-hidden--visually\" id=\"sk-estimator-id-2\" type=\"checkbox\" ><label for=\"sk-estimator-id-2\" class=\"sk-toggleable__label sk-toggleable__label-arrow\">AdaBoostClassifier</label><div class=\"sk-toggleable__content\"><pre>AdaBoostClassifier(estimator=DecisionTreeClassifier(max_depth=1),\n",
       "                   random_state=42)</pre></div></div></div><div class=\"sk-parallel\"><div class=\"sk-parallel-item\"><div class=\"sk-item\"><div class=\"sk-label-container\"><div class=\"sk-label sk-toggleable\"><input class=\"sk-toggleable__control sk-hidden--visually\" id=\"sk-estimator-id-3\" type=\"checkbox\" ><label for=\"sk-estimator-id-3\" class=\"sk-toggleable__label sk-toggleable__label-arrow\">estimator: DecisionTreeClassifier</label><div class=\"sk-toggleable__content\"><pre>DecisionTreeClassifier(max_depth=1)</pre></div></div></div><div class=\"sk-serial\"><div class=\"sk-item\"><div class=\"sk-estimator sk-toggleable\"><input class=\"sk-toggleable__control sk-hidden--visually\" id=\"sk-estimator-id-4\" type=\"checkbox\" ><label for=\"sk-estimator-id-4\" class=\"sk-toggleable__label sk-toggleable__label-arrow\">DecisionTreeClassifier</label><div class=\"sk-toggleable__content\"><pre>DecisionTreeClassifier(max_depth=1)</pre></div></div></div></div></div></div></div></div></div></div>"
      ],
      "text/plain": [
       "AdaBoostClassifier(estimator=DecisionTreeClassifier(max_depth=1),\n",
       "                   random_state=42)"
      ]
     },
     "execution_count": 91,
     "metadata": {},
     "output_type": "execute_result"
    }
   ],
   "source": [
    "# Create a base classifier\n",
    "base_classifier = DecisionTreeClassifier(max_depth=1)\n",
    "\n",
    "# Create AdaBoost model with sample weights\n",
    "adaboost_model = AdaBoostClassifier(base_classifier, n_estimators=50, random_state=42)\n",
    "sample_weights = np.array([c_weightS_dict[y] for y in y_train_AB])\n",
    "adaboost_model.fit(X_train_AB, y_train_AB, sample_weight=sample_weights)"
   ]
  },
  {
   "cell_type": "code",
   "execution_count": 92,
   "id": "2f0cf588",
   "metadata": {},
   "outputs": [],
   "source": [
    "X_test_AB = np.vstack(test['tf_idf'].to_numpy())\n",
    "y_test_AB = np.array(test['sentiment'])"
   ]
  },
  {
   "cell_type": "code",
   "execution_count": 93,
   "id": "beb73593",
   "metadata": {},
   "outputs": [],
   "source": [
    "# Predictions\n",
    "ab_predictions = adaboost_model.predict(X_test_AB)"
   ]
  },
  {
   "cell_type": "markdown",
   "id": "fc3e3c12",
   "metadata": {},
   "source": [
    "# Evaluate"
   ]
  },
  {
   "cell_type": "code",
   "execution_count": 94,
   "id": "3bf9996b",
   "metadata": {},
   "outputs": [
    {
     "name": "stdout",
     "output_type": "stream",
     "text": [
      "AB Precision: 0.29323483908160924\n",
      "AB Recall: 0.2728486053031802\n",
      "AB F1-Score: 0.1836499997456439\n",
      "AB Confusion Matrix:\n",
      "[[ 12   8  11 117]\n",
      " [  8   7  15 104]\n",
      " [ 10   5  18  93]\n",
      " [  8   3   6  75]]\n"
     ]
    }
   ],
   "source": [
    "# Replace 'binary' with the desired average setting ('micro', 'macro', 'weighted', or None)\n",
    "average_setting = 'macro'\n",
    "# Calculate precision, recall, and F1-score with the specified average setting and conf_matrix\n",
    "precision = precision_score(y_test_AB, ab_predictions, average=average_setting)\n",
    "recall = recall_score(y_test_AB, ab_predictions, average=average_setting)\n",
    "f1 = f1_score(y_test_AB, ab_predictions, average=average_setting)\n",
    "conf_matrix = confusion_matrix(y_test_AB, ab_predictions)\n",
    "\n",
    "# Print additional metrics\n",
    "print(\"AB Precision:\", precision)\n",
    "print(\"AB Recall:\", recall)\n",
    "print(\"AB F1-Score:\", f1)\n",
    "print(\"AB Confusion Matrix:\")\n",
    "print(conf_matrix)"
   ]
  },
  {
   "cell_type": "code",
   "execution_count": 95,
   "id": "1dfb43cb",
   "metadata": {},
   "outputs": [
    {
     "name": "stdout",
     "output_type": "stream",
     "text": [
      "AB Accuracy: 0.224\n",
      "AB Classification Report:\n",
      "              precision    recall  f1-score   support\n",
      "\n",
      "           0       0.32      0.08      0.13       148\n",
      "           1       0.30      0.05      0.09       134\n",
      "           2       0.36      0.14      0.20       126\n",
      "           3       0.19      0.82      0.31        92\n",
      "\n",
      "    accuracy                           0.22       500\n",
      "   macro avg       0.29      0.27      0.18       500\n",
      "weighted avg       0.30      0.22      0.17       500\n",
      "\n"
     ]
    }
   ],
   "source": [
    "# Calculate accuracy\n",
    "ab_accuracy = accuracy_score(y_test_AB, ab_predictions)\n",
    "print(\"AB Accuracy:\", ab_accuracy)\n",
    "print(\"AB Classification Report:\")\n",
    "print(classification_report(y_test_AB, ab_predictions))"
   ]
  },
  {
   "cell_type": "code",
   "execution_count": 97,
   "id": "02288c5a",
   "metadata": {},
   "outputs": [],
   "source": [
    "# Create X_val and y_val\n",
    "X_val_AB = np.vstack(validation['tf_idf'].to_numpy())\n",
    "y_val_AB = np.array(validation['sentiment'])"
   ]
  },
  {
   "cell_type": "code",
   "execution_count": 98,
   "id": "2f1af05f",
   "metadata": {},
   "outputs": [],
   "source": [
    "# Make predictions on the Twitter-validation dataset\n",
    "validation['predicted AB tf_idf'] = adaboost_model.predict(X_val_AB)\n",
    "# Save the result to an Excel file\n",
    "validation.to_excel('AB_validation_tf_idf.xlsx', index=False)"
   ]
  },
  {
   "cell_type": "code",
   "execution_count": 99,
   "id": "194e5b3e",
   "metadata": {},
   "outputs": [
    {
     "data": {
      "text/html": [
       "<div>\n",
       "<style scoped>\n",
       "    .dataframe tbody tr th:only-of-type {\n",
       "        vertical-align: middle;\n",
       "    }\n",
       "\n",
       "    .dataframe tbody tr th {\n",
       "        vertical-align: top;\n",
       "    }\n",
       "\n",
       "    .dataframe thead th {\n",
       "        text-align: right;\n",
       "    }\n",
       "</style>\n",
       "<table border=\"1\" class=\"dataframe\">\n",
       "  <thead>\n",
       "    <tr style=\"text-align: right;\">\n",
       "      <th></th>\n",
       "      <th>Tweet ID</th>\n",
       "      <th>sentiment</th>\n",
       "      <th>Tweet content</th>\n",
       "      <th>tf_idf</th>\n",
       "      <th>predicted RF tf_idf</th>\n",
       "      <th>predicted AB tf_idf</th>\n",
       "    </tr>\n",
       "  </thead>\n",
       "  <tbody>\n",
       "    <tr>\n",
       "      <th>0</th>\n",
       "      <td>3364</td>\n",
       "      <td>3</td>\n",
       "      <td>['mention', 'facebook', 'struggl', 'motiv', 'g...</td>\n",
       "      <td>[0.0, 0.0, 0.0, 0.0, 0.0, 0.0, 0.0, 0.0, 0.0, ...</td>\n",
       "      <td>2</td>\n",
       "      <td>3</td>\n",
       "    </tr>\n",
       "    <tr>\n",
       "      <th>1</th>\n",
       "      <td>352</td>\n",
       "      <td>1</td>\n",
       "      <td>['bbc', 'news', 'amazon', 'boss', 'jeff', 'bez...</td>\n",
       "      <td>[0.0, 0.0, 0.0, 0.0, 0.0, 0.3861389225206503, ...</td>\n",
       "      <td>2</td>\n",
       "      <td>3</td>\n",
       "    </tr>\n",
       "    <tr>\n",
       "      <th>2</th>\n",
       "      <td>8312</td>\n",
       "      <td>2</td>\n",
       "      <td>['pay', 'word', 'function', 'poorli', 'chromeb...</td>\n",
       "      <td>[0.0, 0.0, 0.0, 0.0, 0.0, 0.0, 0.0, 0.0, 0.0, ...</td>\n",
       "      <td>0</td>\n",
       "      <td>3</td>\n",
       "    </tr>\n",
       "    <tr>\n",
       "      <th>3</th>\n",
       "      <td>4371</td>\n",
       "      <td>2</td>\n",
       "      <td>['csgo', 'matchmak', 'full', 'closet', 'hack',...</td>\n",
       "      <td>[0.0, 0.0, 0.0, 0.0, 0.0, 0.0, 0.0, 0.0, 0.0, ...</td>\n",
       "      <td>2</td>\n",
       "      <td>3</td>\n",
       "    </tr>\n",
       "    <tr>\n",
       "      <th>4</th>\n",
       "      <td>4433</td>\n",
       "      <td>1</td>\n",
       "      <td>['presid', 'slap', 'american', 'face', 'realli...</td>\n",
       "      <td>[0.0, 0.0, 0.0, 0.0, 0.0, 0.43097889205893375,...</td>\n",
       "      <td>1</td>\n",
       "      <td>3</td>\n",
       "    </tr>\n",
       "    <tr>\n",
       "      <th>...</th>\n",
       "      <td>...</td>\n",
       "      <td>...</td>\n",
       "      <td>...</td>\n",
       "      <td>...</td>\n",
       "      <td>...</td>\n",
       "      <td>...</td>\n",
       "    </tr>\n",
       "    <tr>\n",
       "      <th>495</th>\n",
       "      <td>8055</td>\n",
       "      <td>0</td>\n",
       "      <td>['special', 'shoutout', 'microsoft', 'excel']</td>\n",
       "      <td>[0.0, 0.0, 0.0, 0.0, 0.0, 0.0, 0.0, 0.0, 0.0, ...</td>\n",
       "      <td>3</td>\n",
       "      <td>3</td>\n",
       "    </tr>\n",
       "    <tr>\n",
       "      <th>496</th>\n",
       "      <td>6787</td>\n",
       "      <td>3</td>\n",
       "      <td>['dumb', 'lucki', 'fortnit', 'montag', 'youtub...</td>\n",
       "      <td>[0.0, 0.0, 0.0, 0.0, 0.0, 0.0, 0.0, 0.0, 0.0, ...</td>\n",
       "      <td>1</td>\n",
       "      <td>3</td>\n",
       "    </tr>\n",
       "    <tr>\n",
       "      <th>497</th>\n",
       "      <td>3838</td>\n",
       "      <td>0</td>\n",
       "      <td>['dang', 'goe', 'birthday', 'present', 'mayb',...</td>\n",
       "      <td>[0.0, 0.0, 0.0, 0.0, 0.0, 0.0, 0.0, 0.0, 0.0, ...</td>\n",
       "      <td>1</td>\n",
       "      <td>1</td>\n",
       "    </tr>\n",
       "    <tr>\n",
       "      <th>498</th>\n",
       "      <td>2008</td>\n",
       "      <td>3</td>\n",
       "      <td>['ab', 'fab', 'see', 'bungalow', 'built', 'wal...</td>\n",
       "      <td>[0.0, 0.0, 0.0, 0.0, 0.0, 0.0, 0.0, 0.0, 0.0, ...</td>\n",
       "      <td>2</td>\n",
       "      <td>3</td>\n",
       "    </tr>\n",
       "    <tr>\n",
       "      <th>499</th>\n",
       "      <td>4096</td>\n",
       "      <td>1</td>\n",
       "      <td>['million', 'viewer', 'wtf', 'csgo', 'minecraf...</td>\n",
       "      <td>[0.0, 0.0, 0.0, 0.0, 0.0, 0.0, 0.0, 0.0, 0.0, ...</td>\n",
       "      <td>2</td>\n",
       "      <td>2</td>\n",
       "    </tr>\n",
       "  </tbody>\n",
       "</table>\n",
       "<p>500 rows × 6 columns</p>\n",
       "</div>"
      ],
      "text/plain": [
       "     Tweet ID  sentiment                                      Tweet content  \\\n",
       "0        3364          3  ['mention', 'facebook', 'struggl', 'motiv', 'g...   \n",
       "1         352          1  ['bbc', 'news', 'amazon', 'boss', 'jeff', 'bez...   \n",
       "2        8312          2  ['pay', 'word', 'function', 'poorli', 'chromeb...   \n",
       "3        4371          2  ['csgo', 'matchmak', 'full', 'closet', 'hack',...   \n",
       "4        4433          1  ['presid', 'slap', 'american', 'face', 'realli...   \n",
       "..        ...        ...                                                ...   \n",
       "495      8055          0      ['special', 'shoutout', 'microsoft', 'excel']   \n",
       "496      6787          3  ['dumb', 'lucki', 'fortnit', 'montag', 'youtub...   \n",
       "497      3838          0  ['dang', 'goe', 'birthday', 'present', 'mayb',...   \n",
       "498      2008          3  ['ab', 'fab', 'see', 'bungalow', 'built', 'wal...   \n",
       "499      4096          1  ['million', 'viewer', 'wtf', 'csgo', 'minecraf...   \n",
       "\n",
       "                                                tf_idf  predicted RF tf_idf  \\\n",
       "0    [0.0, 0.0, 0.0, 0.0, 0.0, 0.0, 0.0, 0.0, 0.0, ...                    2   \n",
       "1    [0.0, 0.0, 0.0, 0.0, 0.0, 0.3861389225206503, ...                    2   \n",
       "2    [0.0, 0.0, 0.0, 0.0, 0.0, 0.0, 0.0, 0.0, 0.0, ...                    0   \n",
       "3    [0.0, 0.0, 0.0, 0.0, 0.0, 0.0, 0.0, 0.0, 0.0, ...                    2   \n",
       "4    [0.0, 0.0, 0.0, 0.0, 0.0, 0.43097889205893375,...                    1   \n",
       "..                                                 ...                  ...   \n",
       "495  [0.0, 0.0, 0.0, 0.0, 0.0, 0.0, 0.0, 0.0, 0.0, ...                    3   \n",
       "496  [0.0, 0.0, 0.0, 0.0, 0.0, 0.0, 0.0, 0.0, 0.0, ...                    1   \n",
       "497  [0.0, 0.0, 0.0, 0.0, 0.0, 0.0, 0.0, 0.0, 0.0, ...                    1   \n",
       "498  [0.0, 0.0, 0.0, 0.0, 0.0, 0.0, 0.0, 0.0, 0.0, ...                    2   \n",
       "499  [0.0, 0.0, 0.0, 0.0, 0.0, 0.0, 0.0, 0.0, 0.0, ...                    2   \n",
       "\n",
       "     predicted AB tf_idf  \n",
       "0                      3  \n",
       "1                      3  \n",
       "2                      3  \n",
       "3                      3  \n",
       "4                      3  \n",
       "..                   ...  \n",
       "495                    3  \n",
       "496                    3  \n",
       "497                    1  \n",
       "498                    3  \n",
       "499                    2  \n",
       "\n",
       "[500 rows x 6 columns]"
      ]
     },
     "execution_count": 99,
     "metadata": {},
     "output_type": "execute_result"
    }
   ],
   "source": [
    "validation"
   ]
  },
  {
   "cell_type": "markdown",
   "id": "11f5b40c",
   "metadata": {},
   "source": [
    "# Results"
   ]
  },
  {
   "cell_type": "code",
   "execution_count": 100,
   "id": "596ab8cb",
   "metadata": {},
   "outputs": [
    {
     "name": "stdout",
     "output_type": "stream",
     "text": [
      "Number of Correct Predictions: 112\n"
     ]
    }
   ],
   "source": [
    "result_AB = pd.read_excel('AB_validation_tf_idf.xlsx')\n",
    "true_sentiment = result_AB['sentiment']\n",
    "predicted_sentiment = result_AB['predicted AB tf_idf']\n",
    "# Calculate the number of correct predictions\n",
    "correct_predictions = sum(true_sentiment == predicted_sentiment)\n",
    "# Print the number of correct predictions\n",
    "print(f'Number of Correct Predictions: {correct_predictions}')"
   ]
  },
  {
   "cell_type": "markdown",
   "id": "f342eaa6",
   "metadata": {},
   "source": [
    "# Train Model"
   ]
  },
  {
   "cell_type": "markdown",
   "id": "5c3e3ba7",
   "metadata": {},
   "source": [
    "# Logistic Regression"
   ]
  },
  {
   "cell_type": "code",
   "execution_count": 101,
   "id": "b2eadf46",
   "metadata": {},
   "outputs": [],
   "source": [
    "# Create X_train and y_train\n",
    "X_train_LR = np.vstack(training['tf_idf'].to_numpy())\n",
    "y_train_LR = np.array(training['sentiment'])"
   ]
  },
  {
   "cell_type": "code",
   "execution_count": 102,
   "id": "e0af32df",
   "metadata": {},
   "outputs": [
    {
     "data": {
      "text/html": [
       "<style>#sk-container-id-3 {color: black;background-color: white;}#sk-container-id-3 pre{padding: 0;}#sk-container-id-3 div.sk-toggleable {background-color: white;}#sk-container-id-3 label.sk-toggleable__label {cursor: pointer;display: block;width: 100%;margin-bottom: 0;padding: 0.3em;box-sizing: border-box;text-align: center;}#sk-container-id-3 label.sk-toggleable__label-arrow:before {content: \"▸\";float: left;margin-right: 0.25em;color: #696969;}#sk-container-id-3 label.sk-toggleable__label-arrow:hover:before {color: black;}#sk-container-id-3 div.sk-estimator:hover label.sk-toggleable__label-arrow:before {color: black;}#sk-container-id-3 div.sk-toggleable__content {max-height: 0;max-width: 0;overflow: hidden;text-align: left;background-color: #f0f8ff;}#sk-container-id-3 div.sk-toggleable__content pre {margin: 0.2em;color: black;border-radius: 0.25em;background-color: #f0f8ff;}#sk-container-id-3 input.sk-toggleable__control:checked~div.sk-toggleable__content {max-height: 200px;max-width: 100%;overflow: auto;}#sk-container-id-3 input.sk-toggleable__control:checked~label.sk-toggleable__label-arrow:before {content: \"▾\";}#sk-container-id-3 div.sk-estimator input.sk-toggleable__control:checked~label.sk-toggleable__label {background-color: #d4ebff;}#sk-container-id-3 div.sk-label input.sk-toggleable__control:checked~label.sk-toggleable__label {background-color: #d4ebff;}#sk-container-id-3 input.sk-hidden--visually {border: 0;clip: rect(1px 1px 1px 1px);clip: rect(1px, 1px, 1px, 1px);height: 1px;margin: -1px;overflow: hidden;padding: 0;position: absolute;width: 1px;}#sk-container-id-3 div.sk-estimator {font-family: monospace;background-color: #f0f8ff;border: 1px dotted black;border-radius: 0.25em;box-sizing: border-box;margin-bottom: 0.5em;}#sk-container-id-3 div.sk-estimator:hover {background-color: #d4ebff;}#sk-container-id-3 div.sk-parallel-item::after {content: \"\";width: 100%;border-bottom: 1px solid gray;flex-grow: 1;}#sk-container-id-3 div.sk-label:hover label.sk-toggleable__label {background-color: #d4ebff;}#sk-container-id-3 div.sk-serial::before {content: \"\";position: absolute;border-left: 1px solid gray;box-sizing: border-box;top: 0;bottom: 0;left: 50%;z-index: 0;}#sk-container-id-3 div.sk-serial {display: flex;flex-direction: column;align-items: center;background-color: white;padding-right: 0.2em;padding-left: 0.2em;position: relative;}#sk-container-id-3 div.sk-item {position: relative;z-index: 1;}#sk-container-id-3 div.sk-parallel {display: flex;align-items: stretch;justify-content: center;background-color: white;position: relative;}#sk-container-id-3 div.sk-item::before, #sk-container-id-3 div.sk-parallel-item::before {content: \"\";position: absolute;border-left: 1px solid gray;box-sizing: border-box;top: 0;bottom: 0;left: 50%;z-index: -1;}#sk-container-id-3 div.sk-parallel-item {display: flex;flex-direction: column;z-index: 1;position: relative;background-color: white;}#sk-container-id-3 div.sk-parallel-item:first-child::after {align-self: flex-end;width: 50%;}#sk-container-id-3 div.sk-parallel-item:last-child::after {align-self: flex-start;width: 50%;}#sk-container-id-3 div.sk-parallel-item:only-child::after {width: 0;}#sk-container-id-3 div.sk-dashed-wrapped {border: 1px dashed gray;margin: 0 0.4em 0.5em 0.4em;box-sizing: border-box;padding-bottom: 0.4em;background-color: white;}#sk-container-id-3 div.sk-label label {font-family: monospace;font-weight: bold;display: inline-block;line-height: 1.2em;}#sk-container-id-3 div.sk-label-container {text-align: center;}#sk-container-id-3 div.sk-container {/* jupyter's `normalize.less` sets `[hidden] { display: none; }` but bootstrap.min.css set `[hidden] { display: none !important; }` so we also need the `!important` here to be able to override the default hidden behavior on the sphinx rendered scikit-learn.org. See: https://github.com/scikit-learn/scikit-learn/issues/21755 */display: inline-block !important;position: relative;}#sk-container-id-3 div.sk-text-repr-fallback {display: none;}</style><div id=\"sk-container-id-3\" class=\"sk-top-container\"><div class=\"sk-text-repr-fallback\"><pre>LogisticRegression(class_weight={0: 0.8962413594470046, 1: 1.0192433671798231,\n",
       "                                 2: 0.8282539260047911, 3: 1.4372979214780601},\n",
       "                   max_iter=1000, random_state=42)</pre><b>In a Jupyter environment, please rerun this cell to show the HTML representation or trust the notebook. <br />On GitHub, the HTML representation is unable to render, please try loading this page with nbviewer.org.</b></div><div class=\"sk-container\" hidden><div class=\"sk-item\"><div class=\"sk-estimator sk-toggleable\"><input class=\"sk-toggleable__control sk-hidden--visually\" id=\"sk-estimator-id-5\" type=\"checkbox\" checked><label for=\"sk-estimator-id-5\" class=\"sk-toggleable__label sk-toggleable__label-arrow\">LogisticRegression</label><div class=\"sk-toggleable__content\"><pre>LogisticRegression(class_weight={0: 0.8962413594470046, 1: 1.0192433671798231,\n",
       "                                 2: 0.8282539260047911, 3: 1.4372979214780601},\n",
       "                   max_iter=1000, random_state=42)</pre></div></div></div></div></div>"
      ],
      "text/plain": [
       "LogisticRegression(class_weight={0: 0.8962413594470046, 1: 1.0192433671798231,\n",
       "                                 2: 0.8282539260047911, 3: 1.4372979214780601},\n",
       "                   max_iter=1000, random_state=42)"
      ]
     },
     "execution_count": 102,
     "metadata": {},
     "output_type": "execute_result"
    }
   ],
   "source": [
    "# Logistic Regression Model\n",
    "lr_model = LogisticRegression(random_state=42, class_weight=c_weightS_dict,max_iter=1000)\n",
    "lr_model.fit(X_train_LR, y_train_LR)"
   ]
  },
  {
   "cell_type": "code",
   "execution_count": 124,
   "id": "7f3820be",
   "metadata": {},
   "outputs": [],
   "source": [
    "X_test_LR = np.vstack(test['tf_idf'].to_numpy())\n",
    "y_test_LR = np.array(test['sentiment'])"
   ]
  },
  {
   "cell_type": "code",
   "execution_count": 125,
   "id": "b86e7ae9",
   "metadata": {},
   "outputs": [],
   "source": [
    "# Predictions\n",
    "lr_predictions = lr_model.predict(X_test_LR)"
   ]
  },
  {
   "cell_type": "markdown",
   "id": "8ec23887",
   "metadata": {},
   "source": [
    "# Evaluate"
   ]
  },
  {
   "cell_type": "code",
   "execution_count": 126,
   "id": "83af805b",
   "metadata": {},
   "outputs": [
    {
     "name": "stdout",
     "output_type": "stream",
     "text": [
      "LR Precision: 0.2674045894670102\n",
      "LR Recall: 0.2703076442531342\n",
      "LR F1-Score: 0.2576073844987269\n",
      "LR Confusion Matrix:\n",
      "[[19 48 34 47]\n",
      " [14 62 20 38]\n",
      " [22 35 33 36]\n",
      " [14 34 23 21]]\n"
     ]
    }
   ],
   "source": [
    "# Replace 'binary' with the desired average setting ('micro', 'macro', 'weighted', or None)\n",
    "average_setting = 'macro'\n",
    "# Calculate precision, recall, and F1-score with the specified average setting and conf_matrix\n",
    "precision = precision_score(y_test_LR, lr_predictions, average=average_setting)\n",
    "recall = recall_score(y_test_LR, lr_predictions, average=average_setting)\n",
    "f1 = f1_score(y_test_LR, lr_predictions, average=average_setting)\n",
    "conf_matrix = confusion_matrix(y_test_LR, lr_predictions)\n",
    "\n",
    "# Print additional metrics\n",
    "print(\"LR Precision:\", precision)\n",
    "print(\"LR Recall:\", recall)\n",
    "print(\"LR F1-Score:\", f1)\n",
    "print(\"LR Confusion Matrix:\")\n",
    "print(conf_matrix)"
   ]
  },
  {
   "cell_type": "code",
   "execution_count": 127,
   "id": "a3c436d5",
   "metadata": {},
   "outputs": [
    {
     "name": "stdout",
     "output_type": "stream",
     "text": [
      "AB Accuracy: 0.27\n",
      "AB Classification Report:\n",
      "              precision    recall  f1-score   support\n",
      "\n",
      "           0       0.28      0.13      0.18       148\n",
      "           1       0.35      0.46      0.40       134\n",
      "           2       0.30      0.26      0.28       126\n",
      "           3       0.15      0.23      0.18        92\n",
      "\n",
      "    accuracy                           0.27       500\n",
      "   macro avg       0.27      0.27      0.26       500\n",
      "weighted avg       0.28      0.27      0.26       500\n",
      "\n"
     ]
    }
   ],
   "source": [
    "# Calculate accuracy\n",
    "lr_accuracy = accuracy_score(y_test_LR, lr_predictions)\n",
    "print(\"AB Accuracy:\", lr_accuracy)\n",
    "print(\"AB Classification Report:\")\n",
    "print(classification_report(y_test_LR, lr_predictions))"
   ]
  },
  {
   "cell_type": "code",
   "execution_count": 128,
   "id": "b87023d2",
   "metadata": {},
   "outputs": [],
   "source": [
    "# Create X_val and y_val\n",
    "X_val_LR = np.vstack(validation['tf_idf'].to_numpy())\n",
    "y_val_LR = np.array(validation['sentiment'])"
   ]
  },
  {
   "cell_type": "code",
   "execution_count": 129,
   "id": "cea074f4",
   "metadata": {},
   "outputs": [],
   "source": [
    "# Make predictions on the Twitter-validation dataset\n",
    "validation['predicted LR tf_idf'] = adaboost_model.predict(X_val_LR)\n",
    "# Save the result to an Excel file\n",
    "validation.to_excel('LR_validation_tf_idf.xlsx', index=False)"
   ]
  },
  {
   "cell_type": "code",
   "execution_count": 130,
   "id": "b9862e0d",
   "metadata": {},
   "outputs": [
    {
     "data": {
      "text/html": [
       "<div>\n",
       "<style scoped>\n",
       "    .dataframe tbody tr th:only-of-type {\n",
       "        vertical-align: middle;\n",
       "    }\n",
       "\n",
       "    .dataframe tbody tr th {\n",
       "        vertical-align: top;\n",
       "    }\n",
       "\n",
       "    .dataframe thead th {\n",
       "        text-align: right;\n",
       "    }\n",
       "</style>\n",
       "<table border=\"1\" class=\"dataframe\">\n",
       "  <thead>\n",
       "    <tr style=\"text-align: right;\">\n",
       "      <th></th>\n",
       "      <th>Tweet ID</th>\n",
       "      <th>sentiment</th>\n",
       "      <th>Tweet content</th>\n",
       "      <th>tf_idf</th>\n",
       "      <th>predicted RF tf_idf</th>\n",
       "      <th>predicted AB tf_idf</th>\n",
       "      <th>predicted LR tf_idf</th>\n",
       "      <th>predicted SVM tf_idf</th>\n",
       "    </tr>\n",
       "  </thead>\n",
       "  <tbody>\n",
       "    <tr>\n",
       "      <th>0</th>\n",
       "      <td>3364</td>\n",
       "      <td>3</td>\n",
       "      <td>['mention', 'facebook', 'struggl', 'motiv', 'g...</td>\n",
       "      <td>[0.0, 0.0, 0.0, 0.0, 0.0, 0.0, 0.0, 0.0, 0.0, ...</td>\n",
       "      <td>2</td>\n",
       "      <td>3</td>\n",
       "      <td>3</td>\n",
       "      <td>3</td>\n",
       "    </tr>\n",
       "    <tr>\n",
       "      <th>1</th>\n",
       "      <td>352</td>\n",
       "      <td>1</td>\n",
       "      <td>['bbc', 'news', 'amazon', 'boss', 'jeff', 'bez...</td>\n",
       "      <td>[0.0, 0.0, 0.0, 0.0, 0.0, 0.3861389225206503, ...</td>\n",
       "      <td>2</td>\n",
       "      <td>3</td>\n",
       "      <td>3</td>\n",
       "      <td>3</td>\n",
       "    </tr>\n",
       "    <tr>\n",
       "      <th>2</th>\n",
       "      <td>8312</td>\n",
       "      <td>2</td>\n",
       "      <td>['pay', 'word', 'function', 'poorli', 'chromeb...</td>\n",
       "      <td>[0.0, 0.0, 0.0, 0.0, 0.0, 0.0, 0.0, 0.0, 0.0, ...</td>\n",
       "      <td>0</td>\n",
       "      <td>3</td>\n",
       "      <td>3</td>\n",
       "      <td>3</td>\n",
       "    </tr>\n",
       "    <tr>\n",
       "      <th>3</th>\n",
       "      <td>4371</td>\n",
       "      <td>2</td>\n",
       "      <td>['csgo', 'matchmak', 'full', 'closet', 'hack',...</td>\n",
       "      <td>[0.0, 0.0, 0.0, 0.0, 0.0, 0.0, 0.0, 0.0, 0.0, ...</td>\n",
       "      <td>2</td>\n",
       "      <td>3</td>\n",
       "      <td>3</td>\n",
       "      <td>3</td>\n",
       "    </tr>\n",
       "    <tr>\n",
       "      <th>4</th>\n",
       "      <td>4433</td>\n",
       "      <td>1</td>\n",
       "      <td>['presid', 'slap', 'american', 'face', 'realli...</td>\n",
       "      <td>[0.0, 0.0, 0.0, 0.0, 0.0, 0.43097889205893375,...</td>\n",
       "      <td>1</td>\n",
       "      <td>3</td>\n",
       "      <td>3</td>\n",
       "      <td>3</td>\n",
       "    </tr>\n",
       "    <tr>\n",
       "      <th>...</th>\n",
       "      <td>...</td>\n",
       "      <td>...</td>\n",
       "      <td>...</td>\n",
       "      <td>...</td>\n",
       "      <td>...</td>\n",
       "      <td>...</td>\n",
       "      <td>...</td>\n",
       "      <td>...</td>\n",
       "    </tr>\n",
       "    <tr>\n",
       "      <th>495</th>\n",
       "      <td>8055</td>\n",
       "      <td>0</td>\n",
       "      <td>['special', 'shoutout', 'microsoft', 'excel']</td>\n",
       "      <td>[0.0, 0.0, 0.0, 0.0, 0.0, 0.0, 0.0, 0.0, 0.0, ...</td>\n",
       "      <td>3</td>\n",
       "      <td>3</td>\n",
       "      <td>3</td>\n",
       "      <td>3</td>\n",
       "    </tr>\n",
       "    <tr>\n",
       "      <th>496</th>\n",
       "      <td>6787</td>\n",
       "      <td>3</td>\n",
       "      <td>['dumb', 'lucki', 'fortnit', 'montag', 'youtub...</td>\n",
       "      <td>[0.0, 0.0, 0.0, 0.0, 0.0, 0.0, 0.0, 0.0, 0.0, ...</td>\n",
       "      <td>1</td>\n",
       "      <td>3</td>\n",
       "      <td>3</td>\n",
       "      <td>3</td>\n",
       "    </tr>\n",
       "    <tr>\n",
       "      <th>497</th>\n",
       "      <td>3838</td>\n",
       "      <td>0</td>\n",
       "      <td>['dang', 'goe', 'birthday', 'present', 'mayb',...</td>\n",
       "      <td>[0.0, 0.0, 0.0, 0.0, 0.0, 0.0, 0.0, 0.0, 0.0, ...</td>\n",
       "      <td>1</td>\n",
       "      <td>1</td>\n",
       "      <td>1</td>\n",
       "      <td>1</td>\n",
       "    </tr>\n",
       "    <tr>\n",
       "      <th>498</th>\n",
       "      <td>2008</td>\n",
       "      <td>3</td>\n",
       "      <td>['ab', 'fab', 'see', 'bungalow', 'built', 'wal...</td>\n",
       "      <td>[0.0, 0.0, 0.0, 0.0, 0.0, 0.0, 0.0, 0.0, 0.0, ...</td>\n",
       "      <td>2</td>\n",
       "      <td>3</td>\n",
       "      <td>3</td>\n",
       "      <td>3</td>\n",
       "    </tr>\n",
       "    <tr>\n",
       "      <th>499</th>\n",
       "      <td>4096</td>\n",
       "      <td>1</td>\n",
       "      <td>['million', 'viewer', 'wtf', 'csgo', 'minecraf...</td>\n",
       "      <td>[0.0, 0.0, 0.0, 0.0, 0.0, 0.0, 0.0, 0.0, 0.0, ...</td>\n",
       "      <td>2</td>\n",
       "      <td>2</td>\n",
       "      <td>2</td>\n",
       "      <td>2</td>\n",
       "    </tr>\n",
       "  </tbody>\n",
       "</table>\n",
       "<p>500 rows × 8 columns</p>\n",
       "</div>"
      ],
      "text/plain": [
       "     Tweet ID  sentiment                                      Tweet content  \\\n",
       "0        3364          3  ['mention', 'facebook', 'struggl', 'motiv', 'g...   \n",
       "1         352          1  ['bbc', 'news', 'amazon', 'boss', 'jeff', 'bez...   \n",
       "2        8312          2  ['pay', 'word', 'function', 'poorli', 'chromeb...   \n",
       "3        4371          2  ['csgo', 'matchmak', 'full', 'closet', 'hack',...   \n",
       "4        4433          1  ['presid', 'slap', 'american', 'face', 'realli...   \n",
       "..        ...        ...                                                ...   \n",
       "495      8055          0      ['special', 'shoutout', 'microsoft', 'excel']   \n",
       "496      6787          3  ['dumb', 'lucki', 'fortnit', 'montag', 'youtub...   \n",
       "497      3838          0  ['dang', 'goe', 'birthday', 'present', 'mayb',...   \n",
       "498      2008          3  ['ab', 'fab', 'see', 'bungalow', 'built', 'wal...   \n",
       "499      4096          1  ['million', 'viewer', 'wtf', 'csgo', 'minecraf...   \n",
       "\n",
       "                                                tf_idf  predicted RF tf_idf  \\\n",
       "0    [0.0, 0.0, 0.0, 0.0, 0.0, 0.0, 0.0, 0.0, 0.0, ...                    2   \n",
       "1    [0.0, 0.0, 0.0, 0.0, 0.0, 0.3861389225206503, ...                    2   \n",
       "2    [0.0, 0.0, 0.0, 0.0, 0.0, 0.0, 0.0, 0.0, 0.0, ...                    0   \n",
       "3    [0.0, 0.0, 0.0, 0.0, 0.0, 0.0, 0.0, 0.0, 0.0, ...                    2   \n",
       "4    [0.0, 0.0, 0.0, 0.0, 0.0, 0.43097889205893375,...                    1   \n",
       "..                                                 ...                  ...   \n",
       "495  [0.0, 0.0, 0.0, 0.0, 0.0, 0.0, 0.0, 0.0, 0.0, ...                    3   \n",
       "496  [0.0, 0.0, 0.0, 0.0, 0.0, 0.0, 0.0, 0.0, 0.0, ...                    1   \n",
       "497  [0.0, 0.0, 0.0, 0.0, 0.0, 0.0, 0.0, 0.0, 0.0, ...                    1   \n",
       "498  [0.0, 0.0, 0.0, 0.0, 0.0, 0.0, 0.0, 0.0, 0.0, ...                    2   \n",
       "499  [0.0, 0.0, 0.0, 0.0, 0.0, 0.0, 0.0, 0.0, 0.0, ...                    2   \n",
       "\n",
       "     predicted AB tf_idf  predicted LR tf_idf  predicted SVM tf_idf  \n",
       "0                      3                    3                     3  \n",
       "1                      3                    3                     3  \n",
       "2                      3                    3                     3  \n",
       "3                      3                    3                     3  \n",
       "4                      3                    3                     3  \n",
       "..                   ...                  ...                   ...  \n",
       "495                    3                    3                     3  \n",
       "496                    3                    3                     3  \n",
       "497                    1                    1                     1  \n",
       "498                    3                    3                     3  \n",
       "499                    2                    2                     2  \n",
       "\n",
       "[500 rows x 8 columns]"
      ]
     },
     "execution_count": 130,
     "metadata": {},
     "output_type": "execute_result"
    }
   ],
   "source": [
    "validation"
   ]
  },
  {
   "cell_type": "markdown",
   "id": "f6f0c484",
   "metadata": {},
   "source": [
    "# Results"
   ]
  },
  {
   "cell_type": "code",
   "execution_count": 131,
   "id": "bb8576d5",
   "metadata": {},
   "outputs": [
    {
     "name": "stdout",
     "output_type": "stream",
     "text": [
      "Number of Correct Predictions: 112\n"
     ]
    }
   ],
   "source": [
    "result_LR = pd.read_excel('LR_validation_tf_idf.xlsx')\n",
    "true_sentiment = result_LR['sentiment']\n",
    "predicted_sentiment = result_LR['predicted LR tf_idf']\n",
    "# Calculate the number of correct predictions\n",
    "correct_predictions = sum(true_sentiment == predicted_sentiment)\n",
    "# Print the number of correct predictions\n",
    "print(f'Number of Correct Predictions: {correct_predictions}')"
   ]
  },
  {
   "cell_type": "markdown",
   "id": "ee8d9a9b",
   "metadata": {},
   "source": [
    "# Train Model"
   ]
  },
  {
   "cell_type": "markdown",
   "id": "686af967",
   "metadata": {},
   "source": [
    "# SVM"
   ]
  },
  {
   "cell_type": "code",
   "execution_count": 111,
   "id": "4f3faec5",
   "metadata": {},
   "outputs": [],
   "source": [
    "# Create X_train and y_train\n",
    "X_train_SVM = np.vstack(training['tf_idf'].to_numpy())\n",
    "y_train_SVM = np.array(training['sentiment'])"
   ]
  },
  {
   "cell_type": "code",
   "execution_count": 112,
   "id": "dab91e66",
   "metadata": {},
   "outputs": [
    {
     "data": {
      "text/html": [
       "<style>#sk-container-id-4 {color: black;background-color: white;}#sk-container-id-4 pre{padding: 0;}#sk-container-id-4 div.sk-toggleable {background-color: white;}#sk-container-id-4 label.sk-toggleable__label {cursor: pointer;display: block;width: 100%;margin-bottom: 0;padding: 0.3em;box-sizing: border-box;text-align: center;}#sk-container-id-4 label.sk-toggleable__label-arrow:before {content: \"▸\";float: left;margin-right: 0.25em;color: #696969;}#sk-container-id-4 label.sk-toggleable__label-arrow:hover:before {color: black;}#sk-container-id-4 div.sk-estimator:hover label.sk-toggleable__label-arrow:before {color: black;}#sk-container-id-4 div.sk-toggleable__content {max-height: 0;max-width: 0;overflow: hidden;text-align: left;background-color: #f0f8ff;}#sk-container-id-4 div.sk-toggleable__content pre {margin: 0.2em;color: black;border-radius: 0.25em;background-color: #f0f8ff;}#sk-container-id-4 input.sk-toggleable__control:checked~div.sk-toggleable__content {max-height: 200px;max-width: 100%;overflow: auto;}#sk-container-id-4 input.sk-toggleable__control:checked~label.sk-toggleable__label-arrow:before {content: \"▾\";}#sk-container-id-4 div.sk-estimator input.sk-toggleable__control:checked~label.sk-toggleable__label {background-color: #d4ebff;}#sk-container-id-4 div.sk-label input.sk-toggleable__control:checked~label.sk-toggleable__label {background-color: #d4ebff;}#sk-container-id-4 input.sk-hidden--visually {border: 0;clip: rect(1px 1px 1px 1px);clip: rect(1px, 1px, 1px, 1px);height: 1px;margin: -1px;overflow: hidden;padding: 0;position: absolute;width: 1px;}#sk-container-id-4 div.sk-estimator {font-family: monospace;background-color: #f0f8ff;border: 1px dotted black;border-radius: 0.25em;box-sizing: border-box;margin-bottom: 0.5em;}#sk-container-id-4 div.sk-estimator:hover {background-color: #d4ebff;}#sk-container-id-4 div.sk-parallel-item::after {content: \"\";width: 100%;border-bottom: 1px solid gray;flex-grow: 1;}#sk-container-id-4 div.sk-label:hover label.sk-toggleable__label {background-color: #d4ebff;}#sk-container-id-4 div.sk-serial::before {content: \"\";position: absolute;border-left: 1px solid gray;box-sizing: border-box;top: 0;bottom: 0;left: 50%;z-index: 0;}#sk-container-id-4 div.sk-serial {display: flex;flex-direction: column;align-items: center;background-color: white;padding-right: 0.2em;padding-left: 0.2em;position: relative;}#sk-container-id-4 div.sk-item {position: relative;z-index: 1;}#sk-container-id-4 div.sk-parallel {display: flex;align-items: stretch;justify-content: center;background-color: white;position: relative;}#sk-container-id-4 div.sk-item::before, #sk-container-id-4 div.sk-parallel-item::before {content: \"\";position: absolute;border-left: 1px solid gray;box-sizing: border-box;top: 0;bottom: 0;left: 50%;z-index: -1;}#sk-container-id-4 div.sk-parallel-item {display: flex;flex-direction: column;z-index: 1;position: relative;background-color: white;}#sk-container-id-4 div.sk-parallel-item:first-child::after {align-self: flex-end;width: 50%;}#sk-container-id-4 div.sk-parallel-item:last-child::after {align-self: flex-start;width: 50%;}#sk-container-id-4 div.sk-parallel-item:only-child::after {width: 0;}#sk-container-id-4 div.sk-dashed-wrapped {border: 1px dashed gray;margin: 0 0.4em 0.5em 0.4em;box-sizing: border-box;padding-bottom: 0.4em;background-color: white;}#sk-container-id-4 div.sk-label label {font-family: monospace;font-weight: bold;display: inline-block;line-height: 1.2em;}#sk-container-id-4 div.sk-label-container {text-align: center;}#sk-container-id-4 div.sk-container {/* jupyter's `normalize.less` sets `[hidden] { display: none; }` but bootstrap.min.css set `[hidden] { display: none !important; }` so we also need the `!important` here to be able to override the default hidden behavior on the sphinx rendered scikit-learn.org. See: https://github.com/scikit-learn/scikit-learn/issues/21755 */display: inline-block !important;position: relative;}#sk-container-id-4 div.sk-text-repr-fallback {display: none;}</style><div id=\"sk-container-id-4\" class=\"sk-top-container\"><div class=\"sk-text-repr-fallback\"><pre>SVC(class_weight={0: 0.8962413594470046, 1: 1.0192433671798231,\n",
       "                  2: 0.8282539260047911, 3: 1.4372979214780601},\n",
       "    kernel=&#x27;linear&#x27;)</pre><b>In a Jupyter environment, please rerun this cell to show the HTML representation or trust the notebook. <br />On GitHub, the HTML representation is unable to render, please try loading this page with nbviewer.org.</b></div><div class=\"sk-container\" hidden><div class=\"sk-item\"><div class=\"sk-estimator sk-toggleable\"><input class=\"sk-toggleable__control sk-hidden--visually\" id=\"sk-estimator-id-6\" type=\"checkbox\" checked><label for=\"sk-estimator-id-6\" class=\"sk-toggleable__label sk-toggleable__label-arrow\">SVC</label><div class=\"sk-toggleable__content\"><pre>SVC(class_weight={0: 0.8962413594470046, 1: 1.0192433671798231,\n",
       "                  2: 0.8282539260047911, 3: 1.4372979214780601},\n",
       "    kernel=&#x27;linear&#x27;)</pre></div></div></div></div></div>"
      ],
      "text/plain": [
       "SVC(class_weight={0: 0.8962413594470046, 1: 1.0192433671798231,\n",
       "                  2: 0.8282539260047911, 3: 1.4372979214780601},\n",
       "    kernel='linear')"
      ]
     },
     "execution_count": 112,
     "metadata": {},
     "output_type": "execute_result"
    }
   ],
   "source": [
    "# SVM Model\n",
    "svm_model = SVC(kernel='linear', C=1.0, class_weight=c_weightS_dict)\n",
    "svm_model.fit(X_train_SVM, y_train_SVM)"
   ]
  },
  {
   "cell_type": "code",
   "execution_count": 134,
   "id": "cdd341a1",
   "metadata": {},
   "outputs": [],
   "source": [
    "X_test_SVM = np.vstack(test['tf_idf'].to_numpy())\n",
    "y_test_SVM = np.array(test['sentiment'])"
   ]
  },
  {
   "cell_type": "code",
   "execution_count": 135,
   "id": "4c9826db",
   "metadata": {},
   "outputs": [],
   "source": [
    "# Predictions\n",
    "svm_predictions = svm_model.predict(X_test_SVM)"
   ]
  },
  {
   "cell_type": "markdown",
   "id": "7cd2ce93",
   "metadata": {},
   "source": [
    "# Evaluate"
   ]
  },
  {
   "cell_type": "code",
   "execution_count": 136,
   "id": "4d2b1d8f",
   "metadata": {},
   "outputs": [
    {
     "name": "stdout",
     "output_type": "stream",
     "text": [
      "SVM Precision: 0.26291267987515454\n",
      "SVM Recall: 0.26412075373788546\n",
      "SVM F1-Score: 0.25424925405854787\n",
      "SVM Confusion Matrix:\n",
      "[[21 46 33 48]\n",
      " [17 59 20 38]\n",
      " [22 35 31 38]\n",
      " [17 30 24 21]]\n"
     ]
    }
   ],
   "source": [
    "# Replace 'binary' with the desired average setting ('micro', 'macro', 'weighted', or None)\n",
    "average_setting = 'macro'\n",
    "# Calculate precision, recall, and F1-score with the specified average setting and conf_matrix\n",
    "precision = precision_score(y_test_SVM, svm_predictions, average=average_setting)\n",
    "recall = recall_score(y_test_SVM, svm_predictions, average=average_setting)\n",
    "f1 = f1_score(y_test_SVM, svm_predictions, average=average_setting)\n",
    "conf_matrix = confusion_matrix(y_test_SVM, svm_predictions)\n",
    "\n",
    "# Print additional metrics\n",
    "print(\"SVM Precision:\", precision)\n",
    "print(\"SVM Recall:\", recall)\n",
    "print(\"SVM F1-Score:\", f1)\n",
    "print(\"SVM Confusion Matrix:\")\n",
    "print(conf_matrix)"
   ]
  },
  {
   "cell_type": "code",
   "execution_count": 137,
   "id": "ade5e9fe",
   "metadata": {},
   "outputs": [
    {
     "name": "stdout",
     "output_type": "stream",
     "text": [
      "SVM Accuracy: 0.264\n",
      "SVM Classification Report:\n",
      "              precision    recall  f1-score   support\n",
      "\n",
      "           0       0.27      0.14      0.19       148\n",
      "           1       0.35      0.44      0.39       134\n",
      "           2       0.29      0.25      0.26       126\n",
      "           3       0.14      0.23      0.18        92\n",
      "\n",
      "    accuracy                           0.26       500\n",
      "   macro avg       0.26      0.26      0.25       500\n",
      "weighted avg       0.27      0.26      0.26       500\n",
      "\n"
     ]
    }
   ],
   "source": [
    "# Calculate accuracy\n",
    "svm_accuracy = accuracy_score(y_test_SVM, svm_predictions)\n",
    "print(\"SVM Accuracy:\", svm_accuracy)\n",
    "print(\"SVM Classification Report:\")\n",
    "print(classification_report(y_test_SVM, svm_predictions))"
   ]
  },
  {
   "cell_type": "code",
   "execution_count": 120,
   "id": "c16ce941",
   "metadata": {},
   "outputs": [],
   "source": [
    "# Create X_val and y_val\n",
    "X_val_SVM = np.vstack(validation['tf_idf'].to_numpy())\n",
    "y_val_SVM = np.array(validation['sentiment'])"
   ]
  },
  {
   "cell_type": "code",
   "execution_count": 133,
   "id": "18bdca5c",
   "metadata": {},
   "outputs": [
    {
     "ename": "TypeError",
     "evalue": "'numpy.ndarray' object is not callable",
     "output_type": "error",
     "traceback": [
      "\u001b[1;31m---------------------------------------------------------------------------\u001b[0m",
      "\u001b[1;31mTypeError\u001b[0m                                 Traceback (most recent call last)",
      "Cell \u001b[1;32mIn[133], line 2\u001b[0m\n\u001b[0;32m      1\u001b[0m \u001b[38;5;66;03m# Make predictions on the Twitter-validation dataset\u001b[39;00m\n\u001b[1;32m----> 2\u001b[0m validation[\u001b[38;5;124m'\u001b[39m\u001b[38;5;124mpredicted SVM tf_idf\u001b[39m\u001b[38;5;124m'\u001b[39m] \u001b[38;5;241m=\u001b[39m \u001b[43msvm_predictions\u001b[49m\u001b[43m(\u001b[49m\u001b[43mX_val_SVM\u001b[49m\u001b[43m)\u001b[49m\n\u001b[0;32m      3\u001b[0m \u001b[38;5;66;03m# Save the result to an Excel file\u001b[39;00m\n\u001b[0;32m      4\u001b[0m validation\u001b[38;5;241m.\u001b[39mto_excel(\u001b[38;5;124m'\u001b[39m\u001b[38;5;124mSVM_validation_tf_idf.xlsx\u001b[39m\u001b[38;5;124m'\u001b[39m, index\u001b[38;5;241m=\u001b[39m\u001b[38;5;28;01mFalse\u001b[39;00m)\n",
      "\u001b[1;31mTypeError\u001b[0m: 'numpy.ndarray' object is not callable"
     ]
    }
   ],
   "source": [
    "# Make predictions on the Twitter-validation dataset\n",
    "validation['predicted SVM tf_idf'] = svm_predictions(X_val_SVM)\n",
    "# Save the result to an Excel file\n",
    "validation.to_excel('SVM_validation_tf_idf.xlsx', index=False)"
   ]
  },
  {
   "cell_type": "code",
   "execution_count": null,
   "id": "ef444440",
   "metadata": {},
   "outputs": [],
   "source": [
    "validation"
   ]
  },
  {
   "cell_type": "markdown",
   "id": "410c12c1",
   "metadata": {},
   "source": [
    "# Results"
   ]
  },
  {
   "cell_type": "code",
   "execution_count": 123,
   "id": "6455f449",
   "metadata": {},
   "outputs": [
    {
     "name": "stdout",
     "output_type": "stream",
     "text": [
      "Number of Correct Predictions: 112\n"
     ]
    }
   ],
   "source": [
    "result_SVM= pd.read_excel('SVM_validation_tf_idf.xlsx')\n",
    "true_sentiment = result_SVM['sentiment']\n",
    "predicted_sentiment = result_SVM['predicted SVM tf_idf']\n",
    "# Calculate the number of correct predictions\n",
    "correct_predictions = sum(true_sentiment == predicted_sentiment)\n",
    "# Print the number of correct predictions\n",
    "print(f'Number of Correct Predictions: {correct_predictions}')"
   ]
  },
  {
   "cell_type": "markdown",
   "id": "ca0f4033",
   "metadata": {},
   "source": [
    "# Train Model"
   ]
  }
 ],
 "metadata": {
  "colab": {
   "provenance": [],
   "toc_visible": true
  },
  "kernelspec": {
   "display_name": "Python 3 (ipykernel)",
   "language": "python",
   "name": "python3"
  },
  "language_info": {
   "codemirror_mode": {
    "name": "ipython",
    "version": 3
   },
   "file_extension": ".py",
   "mimetype": "text/x-python",
   "name": "python",
   "nbconvert_exporter": "python",
   "pygments_lexer": "ipython3",
   "version": "3.10.9"
  }
 },
 "nbformat": 4,
 "nbformat_minor": 5
}
